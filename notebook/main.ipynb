{
 "cells": [
  {
   "cell_type": "code",
   "execution_count": 1,
   "metadata": {},
   "outputs": [],
   "source": [
    "import importlib\n",
    "import sys\n",
    "sys.path.append('../src')\n",
    "\n",
    "import qa\n",
    "importlib.reload(qa)\n",
    "import qa\n",
    "\n",
    "import plot\n",
    "importlib.reload(plot)\n",
    "import plot\n",
    "\n",
    "import pickle\n",
    "import numpy as np\n",
    "import pandas as pd\n",
    "\n",
    "import re\n",
    "import random\n",
    "import ast\n",
    "\n",
    "import matplotlib.pyplot as plt\n",
    "import seaborn as sns\n",
    "import scipy.stats as stats\n",
    "from scipy.stats import ttest_rel\n",
    "from scipy.stats import pearsonr"
   ]
  },
  {
   "cell_type": "markdown",
   "metadata": {},
   "source": [
    "# Plotting workspace"
   ]
  },
  {
   "cell_type": "code",
   "execution_count": null,
   "metadata": {},
   "outputs": [],
   "source": [
    "PATH = '../data/MMLU-Pro/sample_results/mmlu_list_ad.pkl'\n",
    "results = pickle.load(open(PATH, 'rb'))\n",
    "accuracy = [r['r^org']==r['answer'] for r in results]\n",
    "conf = [r['p_r^org'] for r in results]\n",
    "\n"
   ]
  },
  {
   "cell_type": "code",
   "execution_count": null,
   "metadata": {},
   "outputs": [],
   "source": [
    "PATH = '../data/MMLU-Pro/sample_results/mmlu_list_da.pkl'\n",
    "plot_from_file(PATH, metric = 'consistency', vlimit=(0,1))\n"
   ]
  },
  {
   "cell_type": "markdown",
   "metadata": {},
   "source": [
    "# Data Generation"
   ]
  },
  {
   "cell_type": "markdown",
   "metadata": {},
   "source": [
    "## MMLU"
   ]
  },
  {
   "cell_type": "code",
   "execution_count": null,
   "metadata": {},
   "outputs": [
    {
     "name": "stderr",
     "output_type": "stream",
     "text": [
      "/home/jch0/.conda/envs/jch0/lib/python3.11/site-packages/tqdm/auto.py:21: TqdmWarning: IProgress not found. Please update jupyter and ipywidgets. See https://ipywidgets.readthedocs.io/en/stable/user_install.html\n",
      "  from .autonotebook import tqdm as notebook_tqdm\n",
      "Downloading readme: 100%|██████████| 10.9k/10.9k [00:00<00:00, 7.77MB/s]\n",
      "Downloading data: 100%|██████████| 4.16M/4.16M [00:00<00:00, 18.7MB/s]\n",
      "Downloading data: 100%|██████████| 45.3k/45.3k [00:00<00:00, 624kB/s]\n",
      "Generating test split: 100%|██████████| 12032/12032 [00:00<00:00, 152714.45 examples/s]\n",
      "Generating validation split: 100%|██████████| 70/70 [00:00<00:00, 19347.70 examples/s]\n"
     ]
    },
    {
     "name": "stdout",
     "output_type": "stream",
     "text": [
      "total number of questions in MMLU-Pro: 12032\n"
     ]
    },
    {
     "name": "stderr",
     "output_type": "stream",
     "text": [
      "Processing MMLU: 100%|██████████| 12032/12032 [03:19<00:00, 60.35it/s] \n"
     ]
    }
   ],
   "source": [
    "# from datasets import load_dataset\n",
    "\n",
    "# ds = load_dataset(\"TIGER-Lab/MMLU-Pro\")\n",
    "\n",
    "# mmlu = {}\n",
    "# for ele in ds['test']:\n",
    "#     if ele['category'] not in mmlu:\n",
    "#         mmlu[ele['category']] = []\n",
    "#     mmlu[ele['category']].append(ele)\n",
    "\n",
    "# import random\n",
    "\n",
    "# # mmlu_samples = []\n",
    "# # for cat in mmlu:\n",
    "# #     mmlu_samples.extend(random.Random(0).sample(mmlu[cat], 10))\n",
    "\n",
    "# # with open('../data/mmlu_samples_140.pkl', 'wb') as f:\n",
    "# #     pickle.dump(mmlu_samples, f)\n",
    "\n",
    "# mmlu_full = []\n",
    "# for cat in mmlu:\n",
    "#     mmlu_full.extend(mmlu[cat])\n",
    "    \n",
    "# with open('../data/MMLU-Pro/results/mmlu_full.pkl', 'wb') as f:\n",
    "#     pickle.dump(mmlu_full, f)\n",
    "\n",
    "# print(\"total number of questions in MMLU-Pro:\", len(mmlu_full))\n",
    "\n",
    "# res_oqa_org = qa.qa_eval_org(mmlu_full)\n",
    "\n",
    "# with open('../data/MMLU-Pro/results/mmlu_org.pkl', 'wb') as f:\n",
    "#     pickle.dump(res_oqa_org, f)"
   ]
  },
  {
   "cell_type": "code",
   "execution_count": null,
   "metadata": {},
   "outputs": [
    {
     "name": "stderr",
     "output_type": "stream",
     "text": [
      "Processing MMLU: 100%|██████████| 12032/12032 [03:22<00:00, 59.41it/s] \n",
      "Processing MMLU: 100%|██████████| 12032/12032 [03:21<00:00, 59.66it/s] \n",
      "Processing MMLU: 100%|██████████| 12032/12032 [03:28<00:00, 57.78it/s] \n",
      "Processing MMLU: 100%|██████████| 12032/12032 [03:22<00:00, 59.41it/s] \n"
     ]
    }
   ],
   "source": [
    "# with open('../data/MMLU-Pro/results/mmlu_org.pkl', 'rb') as f:\n",
    "#     res_mmlu_org = pickle.load(f)\n",
    "\n",
    "# type_names = ['1st', '2nd', 'rnd', 'lst']\n",
    "# for disagree_type in type_names:\n",
    "#     results = qa.qa_eval_one(res_mmlu_org, disagree_type)\n",
    "\n",
    "#     with open(f'../data/MMLU-Pro/results/mmlu_one_{disagree_type}.pkl', 'wb') as f:\n",
    "#         pickle.dump(results, f)"
   ]
  },
  {
   "cell_type": "code",
   "execution_count": null,
   "metadata": {},
   "outputs": [
    {
     "name": "stdout",
     "output_type": "stream",
     "text": [
      "Processing grp_list samples...\n"
     ]
    },
    {
     "name": "stderr",
     "output_type": "stream",
     "text": [
      "Processing QA: 100%|██████████| 16940/16940 [04:25<00:00, 63.74it/s] \n"
     ]
    }
   ],
   "source": [
    "with open('../data/MMLU-Pro/sample_results/mmlu_org.pkl', 'rb') as f:\n",
    "    res_mmlu_org = pickle.load(f)\n",
    "\n",
    "\n",
    "input_feat_list = []\n",
    "for disagree_size in range(11): # row\n",
    "    input_row = []\n",
    "    for agree_size in range(11): # column\n",
    "        \n",
    "        eval_feat = {\n",
    "            'type': 'grp_list',\n",
    "            'agree_size': agree_size,\n",
    "            'disagree_size': disagree_size,\n",
    "            'disagree_type': '2nd',\n",
    "            'q_type': 'factual',\n",
    "            'order': 'da'\n",
    "        }\n",
    "        input_row.append(eval_feat)\n",
    "    input_feat_list.append(input_row)\n",
    "\n",
    "results, accuracy = qa.qa_eval_matrix(res_mmlu_org, input_feat_list)\n",
    "\n",
    "with open('../data/MMLU-Pro/sample_results/mmlu_list_da.pkl', 'wb') as f:\n",
    "    pickle.dump(results, f)\n"
   ]
  },
  {
   "cell_type": "code",
   "execution_count": null,
   "metadata": {},
   "outputs": [],
   "source": [
    "with open('../data/MMLU-Pro/sample_results/res_mmlu_org.pkl', 'rb') as f:\n",
    "    res_mmlu_org = pickle.load(f)\n",
    "\n",
    "\n",
    "input_feat_list = []\n",
    "for group_size in [4,12,50,100,1000]: # row\n",
    "    input_row = []\n",
    "    for agree_ratio in [0, 0.25, 0.50, 0.75, 1]: # column\n",
    "        \n",
    "        eval_feat = {\n",
    "            'type': 'grp_ratio',\n",
    "            'group_size': group_size,\n",
    "            'disagree_ratio': 1-agree_ratio,\n",
    "            'disagree_type': '2nd',\n",
    "            'q_type': 'factual',\n",
    "            'order': 'ad'\n",
    "        }\n",
    "        input_row.append(eval_feat)\n",
    "    input_feat_list.append(input_row)\n",
    "\n",
    "results, accuracy = qa.qa_eval_matrix(res_mmlu_org, input_feat_list)\n",
    "    #     result, accuracy = qa.qa_eval_matrix(res_mmlu_org, eval_feat)\n",
    "    #     output_row.append(accuracy)\n",
    "    # output_list.append(output_row)\n",
    "\n",
    "# round a 2d np array\n",
    "accuracy = np.array([[round(ele,2) for ele in row] for row in accuracy])\n",
    "\n",
    "with open('../data/MMLU-Pro/sample_results/mmlu_ratio_ad.pkl', 'wb') as f:\n",
    "    pickle.dump(results, f)\n"
   ]
  },
  {
   "cell_type": "markdown",
   "metadata": {},
   "source": [
    "### Reason Generation and Reason in-context"
   ]
  },
  {
   "cell_type": "code",
   "execution_count": null,
   "metadata": {},
   "outputs": [
    {
     "name": "stderr",
     "output_type": "stream",
     "text": [
      "Generating reasons: 100%|██████████| 2800/2800 [05:15<00:00,  8.86it/s]\n"
     ]
    }
   ],
   "source": [
    "# with open('../data/MMLU-Pro/sample_results/res_mmlu_org.pkl', 'rb') as f:\n",
    "#     res_mmlu_org = pickle.load(f)\n",
    "\n",
    "# mmlu_org_reason = qa.qa_generate_reason(res_mmlu_org, '2nd', 10)\n",
    "\n",
    "# with open('../data/MMLU-Pro/sample_results/mmlu_org_reason.pkl', 'wb') as f:\n",
    "#     pickle.dump(mmlu_org_reason, f)"
   ]
  },
  {
   "cell_type": "code",
   "execution_count": null,
   "metadata": {},
   "outputs": [
    {
     "name": "stdout",
     "output_type": "stream",
     "text": [
      "Processing grp_discrete samples...\n"
     ]
    },
    {
     "name": "stderr",
     "output_type": "stream",
     "text": [
      "Processing QA: 100%|██████████| 16940/16940 [06:27<00:00, 43.67it/s] \n"
     ]
    }
   ],
   "source": [
    "with open('../data/MMLU-Pro/sample_results/mmlu_org_reason.pkl', 'rb') as f:\n",
    "    mmlu_org_reason = pickle.load(f)\n",
    "\n",
    "input_feat_list = []\n",
    "for disagree_size in range(11): # row\n",
    "    input_row = []\n",
    "    for agree_size in range(11): # column\n",
    "        \n",
    "        eval_feat = {\n",
    "            'type': 'grp_disc',\n",
    "            'use_reason': True,\n",
    "            'agree_size': agree_size,\n",
    "            'disagree_size': disagree_size,\n",
    "            'disagree_type': '2nd',\n",
    "            'q_type': 'factual',\n",
    "            'order': 'da'\n",
    "        }\n",
    "        input_row.append(eval_feat)\n",
    "    input_feat_list.append(input_row)\n",
    "\n",
    "results, accuracy = qa.qa_eval_matrix(mmlu_org_reason, input_feat_list)\n",
    "\n",
    "# round a 2d np array\n",
    "accuracy = np.array([[round(ele,2) for ele in row] for row in accuracy])\n",
    "\n",
    "with open('../data/MMLU-Pro/sample_results/mmlu_reason_da.pkl', 'wb') as f:\n",
    "    pickle.dump(results, f)\n",
    "\n"
   ]
  },
  {
   "cell_type": "markdown",
   "metadata": {},
   "source": [
    "### bar plot for self-confidence vs consistency"
   ]
  },
  {
   "cell_type": "code",
   "execution_count": null,
   "metadata": {},
   "outputs": [],
   "source": [
    "import matplotlib.pyplot as plt\n",
    "import numpy as np\n",
    "\n",
    "# Load data\n",
    "PATH = '../data/MMLU-Pro/results/mmlu_one_2nd.pkl'\n",
    "with open(PATH, 'rb') as f:\n",
    "    results = pickle.load(f)\n",
    "\n",
    "# Extract accuracy and confidence\n",
    "accuracy = np.array([r['r'] == r['answer'] for r in results])\n",
    "consistency = np.array([r['r'] == r['r^org'] for r in results])\n",
    "self_conf = np.array([r['p_r^org'] for r in results])\n",
    "other_conf = np.array([r['p_r_j'] for r in results])\n",
    "\n",
    "# Bin confidence scores into 10 bins from 0 to 1\n",
    "bins = np.linspace(0, 1, 11)\n",
    "bin_indices = np.digitize(self_conf, bins) - 1  # Adjust bin index to start at 0\n",
    "\n",
    "# Calculate average accuracy for each bin\n",
    "bin_accuracy = []\n",
    "bin_centers = []\n",
    "\n",
    "for i in range(10):\n",
    "    indices = bin_indices == i\n",
    "    if np.any(indices):\n",
    "        avg_acc = consistency[indices].mean()\n",
    "    else:\n",
    "        avg_acc = np.nan\n",
    "    bin_accuracy.append(avg_acc)\n",
    "    bin_centers.append((bins[i] + bins[i+1]) / 2)\n",
    "\n",
    "# Plot the bar chart\n",
    "plt.figure(figsize=(8, 5))\n",
    "plt.bar(bin_centers, bin_accuracy, width=0.09, edgecolor='black')\n",
    "plt.xlabel('Self-Confidence')\n",
    "plt.ylabel('Average Consistency')\n",
    "plt.title('Consistency vs Self-Confidence')\n",
    "plt.xticks(np.round(bin_centers, 2))\n",
    "plt.ylim(0, 1)\n",
    "plt.grid(True, linestyle='--', alpha=0.6)\n",
    "plt.show()"
   ]
  },
  {
   "cell_type": "markdown",
   "metadata": {},
   "source": [
    "### in/out-domain"
   ]
  },
  {
   "cell_type": "code",
   "execution_count": null,
   "metadata": {},
   "outputs": [
    {
     "name": "stderr",
     "output_type": "stream",
     "text": [
      "Processing QA: 100%|██████████| 24064/24064 [05:37<00:00, 71.21it/s] \n"
     ]
    }
   ],
   "source": [
    "# with open('../data/MMLU-Pro/results/mmlu_org.pkl', 'rb') as f:\n",
    "#     res_mmlu_org = pickle.load(f)\n",
    "\n",
    "# results = qa.qa_eval_domain(res_mmlu_org, '2nd')\n",
    "\n",
    "# with open(f'../data/MMLU-Pro/results/mmlu_domain_2nd.pkl', 'wb') as f:\n",
    "#     pickle.dump(results, f)\n"
   ]
  },
  {
   "cell_type": "code",
   "execution_count": null,
   "metadata": {},
   "outputs": [
    {
     "name": "stdout",
     "output_type": "stream",
     "text": [
      "total number of domains in MMLU-Pro: 14\n",
      "domains in MMLU-Pro: {'math', 'engineering', 'physics', 'computer science', 'chemistry', 'psychology', 'law', 'economics', 'philosophy', 'history', 'biology', 'other', 'business', 'health'}\n"
     ]
    }
   ],
   "source": [
    "# domains = set()\n",
    "# for ele in res_mmlu_org:\n",
    "#     domains.add(ele['category'])\n",
    "\n",
    "# print(\"total number of domains in MMLU-Pro:\", len(domains))\n",
    "# print(\"domains in MMLU-Pro:\", domains)"
   ]
  },
  {
   "cell_type": "code",
   "execution_count": null,
   "metadata": {},
   "outputs": [],
   "source": [
    "with open('../data/MMLU-Pro/results/mmlu_domain_2nd.pkl', 'rb') as f:\n",
    "    results = pickle.load(f)\n",
    "\n",
    "with open('../data/MMLU-Pro/results/mmlu_one_2nd.pkl', 'rb') as f:\n",
    "    res_mmlu_one = pickle.load(f)\n",
    "\n",
    "results_in_domain = results['in_domain']\n",
    "results_out_domain = results['out_domain']\n",
    "results_control = res_mmlu_one\n",
    "\n",
    "consistence_in_domain  = np.array([r['r'] == r['r^org'] for r in results_in_domain])\n",
    "consistence_out_domain   = np.array([r['r'] == r['r^org'] for r in results_out_domain])\n",
    "consistence_control = np.array([r['r'] == r['r^org'] for r in results_control])\n",
    "\n",
    "# Calculate means and confidence intervals\n",
    "domain_groups = [consistence_in_domain, consistence_out_domain, consistence_control]\n",
    "mean_consistance = [group.mean() for group in domain_groups]\n",
    "confidence_intervals = [stats.t.interval(\n",
    "    0.95, len(group)-1, loc=group.mean(), scale=stats.sem(group)) for group in domain_groups]\n",
    "\n",
    "# Extracting lower and upper bounds for plotting\n",
    "ci_lower = [mean - ci[0] for mean, ci in zip(mean_consistance, confidence_intervals)]\n",
    "ci_upper = [ci[1] - mean for mean, ci in zip(mean_consistance, confidence_intervals)]\n",
    "\n",
    "in_out_domain = ['In-Domain', 'Out-Domain', 'Control']\n",
    "\n",
    "# Plotting with confidence intervals\n",
    "plt.figure(figsize=(4, 6))\n",
    "plt.bar(in_out_domain, mean_consistance, yerr=[ci_lower, ci_upper], capsize=10,\n",
    "        color=['skyblue', 'lightgreen', 'lightgray'], alpha=0.7)\n",
    "plt.ylabel('Consistency (0-1)')\n",
    "plt.xlabel('Expertise')\n",
    "plt.title('Consistency by Expertise \\nwith 95% Confidence Intervals')\n",
    "plt.ylim(0, 1)\n",
    "\n",
    "# Display values on the bars\n",
    "for i, val in enumerate(mean_consistance):\n",
    "    plt.text(i, val + max(ci_upper)*1, f'{val:.2f}', ha='center', va='bottom')\n",
    "\n",
    "plt.grid(axis='y', linestyle='--', alpha=0.7)\n",
    "plt.show()"
   ]
  },
  {
   "cell_type": "code",
   "execution_count": null,
   "metadata": {},
   "outputs": [
    {
     "name": "stderr",
     "output_type": "stream",
     "text": [
      "Processing QA batch 1: 100%|██████████| 1000/1000 [00:20<00:00, 48.11it/s]\n",
      "Processing QA batch 2: 100%|██████████| 1000/1000 [00:21<00:00, 47.11it/s]\n",
      "Processing QA batch 3: 100%|██████████| 1000/1000 [00:23<00:00, 42.29it/s]\n",
      "Processing QA batch 4: 100%|██████████| 1000/1000 [00:18<00:00, 55.16it/s]\n",
      "Processing QA batch 5: 100%|██████████| 1000/1000 [00:18<00:00, 54.65it/s]\n",
      "Processing QA batch 6: 100%|██████████| 1000/1000 [00:20<00:00, 49.19it/s]\n",
      "Processing QA batch 7: 100%|██████████| 1000/1000 [00:18<00:00, 52.70it/s]\n",
      "Processing QA batch 8: 100%|██████████| 1000/1000 [00:18<00:00, 54.74it/s]\n",
      "Processing QA batch 9: 100%|██████████| 1000/1000 [00:22<00:00, 45.27it/s]\n",
      "Processing QA batch 10: 100%|██████████| 1000/1000 [00:21<00:00, 47.21it/s]\n",
      "Processing QA batch 11: 100%|██████████| 1000/1000 [00:22<00:00, 43.64it/s]\n",
      "Processing QA batch 12: 100%|██████████| 1000/1000 [00:26<00:00, 38.16it/s]\n",
      "Processing QA batch 13: 100%|██████████| 1000/1000 [00:23<00:00, 43.03it/s]\n",
      "Processing QA batch 14: 100%|██████████| 1000/1000 [00:23<00:00, 42.49it/s]\n",
      "Processing QA batch 15: 100%|██████████| 1000/1000 [00:53<00:00, 18.61it/s]\n",
      "Processing QA batch 16: 100%|██████████| 1000/1000 [00:22<00:00, 43.83it/s]\n",
      "Processing QA batch 17: 100%|██████████| 1000/1000 [00:22<00:00, 44.93it/s]\n",
      "Processing QA batch 18: 100%|██████████| 1000/1000 [01:00<00:00, 16.59it/s]\n",
      "Processing QA batch 19: 100%|██████████| 1000/1000 [00:18<00:00, 52.81it/s]\n",
      "Processing QA batch 20: 100%|██████████| 1000/1000 [00:20<00:00, 49.20it/s]\n",
      "Processing QA batch 21: 100%|██████████| 1000/1000 [00:21<00:00, 47.54it/s]\n",
      "Processing QA batch 22: 100%|██████████| 1000/1000 [00:19<00:00, 52.11it/s]\n",
      "Processing QA batch 23: 100%|██████████| 1000/1000 [00:19<00:00, 52.48it/s]\n",
      "Processing QA batch 24: 100%|██████████| 1000/1000 [00:19<00:00, 52.50it/s]\n",
      "Processing QA batch 25: 100%|██████████| 64/64 [00:01<00:00, 34.20it/s]\n"
     ]
    }
   ],
   "source": [
    "with open('../data/MMLU-Pro/results/org.pkl', 'rb') as f:\n",
    "    res_org = pickle.load(f)\n",
    "\n",
    "results = qa.qa_eval_hierarchy(res_org, '2nd')\n",
    "\n",
    "with open(f'../data/MMLU-Pro/results/hierarchy_2nd.pkl', 'wb') as f:\n",
    "    pickle.dump(results, f)\n"
   ]
  },
  {
   "cell_type": "markdown",
   "metadata": {},
   "source": [
    "## GPQA"
   ]
  },
  {
   "cell_type": "code",
   "execution_count": null,
   "metadata": {},
   "outputs": [
    {
     "name": "stderr",
     "output_type": "stream",
     "text": [
      "Using the latest cached version of the dataset since Idavidrein/gpqa couldn't be found on the Hugging Face Hub\n",
      "Found the latest cached dataset configuration 'gpqa_diamond' at /home/jch0/.cache/huggingface/datasets/Idavidrein___gpqa/gpqa_diamond/0.0.0/90b8e5be2b1d3d2dbfe016cdab47981150600c4a (last modified on Wed Apr 30 08:52:17 2025).\n"
     ]
    }
   ],
   "source": [
    "from datasets import load_dataset\n",
    "\n",
    "# Login using e.g. `huggingface-cli login` to access this dataset\n",
    "hf_token = input(\"Enter your Hugging Face token: \")\n",
    "ds = load_dataset(\"Idavidrein/gpqa\", \"gpqa_diamond\", token = hf_token)"
   ]
  },
  {
   "cell_type": "code",
   "execution_count": null,
   "metadata": {},
   "outputs": [
    {
     "name": "stdout",
     "output_type": "stream",
     "text": [
      "total number of questions in GPQA: 198\n"
     ]
    },
    {
     "name": "stderr",
     "output_type": "stream",
     "text": [
      "Processing QA: 100%|██████████| 198/198 [00:04<00:00, 41.37it/s]\n"
     ]
    }
   ],
   "source": [
    "\n",
    "gpqa_full = []\n",
    "for q_idx, ele in enumerate(ds['train']):\n",
    "    input_ele = {}\n",
    "    input_ele['question_id'] = q_idx\n",
    "    input_ele['category'] = ele['High-level domain']\n",
    "    input_ele['question'] = ele['Question']\n",
    "    choices = [ele['Correct Answer'], ele['Incorrect Answer 1'], ele['Incorrect Answer 2'], ele['Incorrect Answer 3']]\n",
    "    random.Random(q_idx).shuffle(choices)\n",
    "    input_ele['options'] = choices\n",
    "    input_ele['answer'] = 'ABCD'[choices.index(ele['Correct Answer'])]\n",
    "\n",
    "    gpqa_full.append(input_ele)\n",
    "\n",
    "with open('../data/GPQA/results/full.pkl', 'wb') as f:\n",
    "    pickle.dump(gpqa_full, f)\n",
    "\n",
    "print(\"total number of questions in GPQA:\", len(gpqa_full))\n",
    "\n",
    "res_gpqa_org = qa.qa_eval_org(gpqa_full)\n",
    "\n",
    "with open('../data/GPQA/results/org.pkl', 'wb') as f:\n",
    "    pickle.dump(res_gpqa_org, f)"
   ]
  },
  {
   "cell_type": "code",
   "execution_count": null,
   "metadata": {},
   "outputs": [
    {
     "name": "stderr",
     "output_type": "stream",
     "text": [
      "Processing QA: 100%|██████████| 198/198 [00:04<00:00, 41.42it/s]\n",
      "Processing QA: 100%|██████████| 198/198 [00:03<00:00, 56.86it/s]\n",
      "Processing QA: 100%|██████████| 198/198 [00:06<00:00, 30.46it/s]\n"
     ]
    }
   ],
   "source": [
    "with open('../data/GPQA/results/gpqa_org.pkl', 'rb') as f:\n",
    "    res_gpqa_org = pickle.load(f)\n",
    "\n",
    "type_names = ['1st', '2nd', 'rnd', 'lst']\n",
    "\n",
    "for disagree_type in type_names:\n",
    "    results = qa.qa_eval_one(res_gpqa_org, disagree_type)\n",
    "    with open(f'../data/GPQA/results/gpqa_one_{disagree_type}.pkl', 'wb') as f:\n",
    "        pickle.dump(results, f)"
   ]
  },
  {
   "cell_type": "code",
   "execution_count": null,
   "metadata": {},
   "outputs": [
    {
     "name": "stderr",
     "output_type": "stream",
     "text": [
      "Processing QA: 100%|██████████| 396/396 [00:07<00:00, 53.61it/s]\n"
     ]
    }
   ],
   "source": [
    "with open('../data/GPQA-Diamond/results/org.pkl', 'rb') as f:\n",
    "    res_org = pickle.load(f)\n",
    "\n",
    "results = qa.qa_eval_domain(res_org, '2nd')\n",
    "\n",
    "with open(f'../data/GPQA-Diamond/results/domain_2nd.pkl', 'wb') as f:\n",
    "    pickle.dump(results, f)\n"
   ]
  },
  {
   "cell_type": "code",
   "execution_count": null,
   "metadata": {},
   "outputs": [
    {
     "name": "stderr",
     "output_type": "stream",
     "text": [
      "Processing QA batch 1: 100%|██████████| 396/396 [00:08<00:00, 45.27it/s]\n"
     ]
    }
   ],
   "source": [
    "with open('../data/GPQA-Diamond/results/org.pkl', 'rb') as f:\n",
    "    res_org = pickle.load(f)\n",
    "\n",
    "results = qa.qa_eval_hierarchy(res_org, '2nd')\n",
    "\n",
    "with open(f'../data/GPQA-Diamond/results/hierarchy_2nd.pkl', 'wb') as f:\n",
    "    pickle.dump(results, f)"
   ]
  },
  {
   "cell_type": "markdown",
   "metadata": {},
   "source": [
    "## ARC-Challenge"
   ]
  },
  {
   "cell_type": "code",
   "execution_count": null,
   "metadata": {},
   "outputs": [],
   "source": [
    "from datasets import load_dataset\n",
    "\n",
    "# Login using e.g. `huggingface-cli login` to access this dataset\n",
    "ds = load_dataset(\"allenai/ai2_arc\", \"ARC-Challenge\")"
   ]
  },
  {
   "cell_type": "code",
   "execution_count": null,
   "metadata": {},
   "outputs": [
    {
     "name": "stdout",
     "output_type": "stream",
     "text": [
      "total number of questions in ARC: 1172\n"
     ]
    },
    {
     "name": "stderr",
     "output_type": "stream",
     "text": [
      "Processing QA: 100%|██████████| 1172/1172 [00:16<00:00, 71.50it/s] \n"
     ]
    }
   ],
   "source": [
    "\n",
    "arc_full = []\n",
    "for q_idx, ele in enumerate(ds['test']):\n",
    "    input_ele = {}\n",
    "    input_ele['question_id'] = ele['id']\n",
    "    # input_ele['category'] = ele['High-level domain']\n",
    "    input_ele['question'] = ele['question']\n",
    "    input_ele['options'] = ele[\"choices\"][\"text\"]\n",
    "    answer_key = ele[\"answerKey\"]\n",
    "    if answer_key not in \"ABCDE\":\n",
    "        answer_key = \"ABCDE\"[int(answer_key)-1]\n",
    "    input_ele['answer'] = answer_key\n",
    "\n",
    "    arc_full.append(input_ele)\n",
    "\n",
    "with open('../data/ARC/results/full.pkl', 'wb') as f:\n",
    "    pickle.dump(arc_full, f)\n",
    "\n",
    "print(\"total number of questions in ARC:\", len(arc_full))\n",
    "\n",
    "res_arc_org = qa.qa_eval_org(arc_full)\n",
    "\n",
    "with open('../data/ARC/results/org.pkl', 'wb') as f:\n",
    "    pickle.dump(res_arc_org, f)"
   ]
  },
  {
   "cell_type": "code",
   "execution_count": null,
   "metadata": {},
   "outputs": [
    {
     "name": "stderr",
     "output_type": "stream",
     "text": [
      "Processing QA: 100%|██████████| 1172/1172 [00:16<00:00, 69.54it/s]\n",
      "Processing QA: 100%|██████████| 1172/1172 [00:16<00:00, 70.93it/s]\n",
      "Processing QA: 100%|██████████| 1172/1172 [00:15<00:00, 75.63it/s] \n",
      "Processing QA: 100%|██████████| 1172/1172 [00:15<00:00, 73.90it/s] \n"
     ]
    }
   ],
   "source": [
    "with open('../data/ARC/results/org.pkl', 'rb') as f:\n",
    "    res_org = pickle.load(f)\n",
    "\n",
    "type_names = ['1st', '2nd', 'rnd', 'lst']\n",
    "\n",
    "for disagree_type in type_names:\n",
    "    results = qa.qa_eval_one(res_org, disagree_type)\n",
    "    with open(f'../data/ARC/results/one_{disagree_type}.pkl', 'wb') as f:\n",
    "        pickle.dump(results, f)"
   ]
  },
  {
   "cell_type": "code",
   "execution_count": null,
   "metadata": {},
   "outputs": [
    {
     "name": "stderr",
     "output_type": "stream",
     "text": [
      "Processing QA batch 1: 100%|██████████| 1000/1000 [00:21<00:00, 46.58it/s]\n",
      "Processing QA batch 2: 100%|██████████| 1000/1000 [00:21<00:00, 46.84it/s]\n",
      "Processing QA batch 3: 100%|██████████| 344/344 [00:07<00:00, 44.66it/s]\n"
     ]
    }
   ],
   "source": [
    "with open('../data/ARC/results/org.pkl', 'rb') as f:\n",
    "    res_org = pickle.load(f)\n",
    "\n",
    "results = qa.qa_eval_hierarchy(res_org, '2nd')\n",
    "\n",
    "with open(f'../data/ARC/results/hierarchy_2nd.pkl', 'wb') as f:\n",
    "    pickle.dump(results, f)"
   ]
  },
  {
   "cell_type": "markdown",
   "metadata": {},
   "source": [
    "## OpinionQA"
   ]
  },
  {
   "cell_type": "code",
   "execution_count": null,
   "metadata": {},
   "outputs": [
    {
     "name": "stdout",
     "output_type": "stream",
     "text": [
      "total number of questions in OpinionQA: 1506\n"
     ]
    },
    {
     "name": "stderr",
     "output_type": "stream",
     "text": [
      "Processing QA: 100%|██████████| 1506/1506 [00:38<00:00, 39.38it/s]\n"
     ]
    }
   ],
   "source": [
    "oqa_df = pd.DataFrame()\n",
    "# get all file names under PATH\n",
    "import os\n",
    "PATH = '../data/OpinionQA/model_input/'\n",
    "for file in os.listdir(PATH):\n",
    "    if re.match(r'.+W\\d{2}\\.csv', file):\n",
    "        target_df = pd.read_csv(PATH + file, delimiter='\\t')\n",
    "        target_df = target_df[[\"key\", \"question\", \"options\"]]\n",
    "        target_df.columns = [\"question_id\", \"question\", \"options\"]\n",
    "        oqa_df = pd.concat([oqa_df, target_df], ignore_index=True)\n",
    "\n",
    "question_id = oqa_df['question_id'].tolist()\n",
    "question = oqa_df['question'].tolist()\n",
    "options = oqa_df['options'].tolist()\n",
    "options = [ast.literal_eval(x) for x in options]\n",
    "\n",
    "for ele in options:\n",
    "    if 'Refused' in ele:\n",
    "        ele.remove('Refused')\n",
    "\n",
    "oqa_list = []\n",
    "for i in range(len(question_id)):\n",
    "    oqa_list.append({\"question_id\": question_id[i], \"question\": question[i], \"options\": options[i]})\n",
    "\n",
    "print(\"total number of questions in OpinionQA:\", len(oqa_list))\n",
    "# oqa_sample_list = random.Random(0).sample(oqa_list, 140)\n",
    "# print(\"total number of questions in OpinionQA sample:\", len(oqa_sample_list))\n",
    "\n",
    "# res_oqa_org = qa.qa_eval_org(oqa_sample_list)\n",
    "\n",
    "# with open('../data/OpinionQA/sample_results/res_oqa_org.pkl', 'wb') as f:\n",
    "#     pickle.dump(res_oqa_org, f)\n",
    "\n",
    "res_oqa_org = qa.qa_eval_org(oqa_list)\n",
    "\n",
    "with open('../data/OpinionQA/results/org.pkl', 'wb') as f:\n",
    "    pickle.dump(res_oqa_org, f)"
   ]
  },
  {
   "cell_type": "code",
   "execution_count": null,
   "metadata": {},
   "outputs": [
    {
     "name": "stderr",
     "output_type": "stream",
     "text": [
      "Processing QA: 100%|██████████| 1506/1506 [00:27<00:00, 54.83it/s]\n",
      "Processing QA: 100%|██████████| 1506/1506 [00:24<00:00, 62.67it/s]\n",
      "Processing QA: 100%|██████████| 1506/1506 [00:24<00:00, 61.37it/s] \n",
      "Processing QA: 100%|██████████| 1506/1506 [00:23<00:00, 64.19it/s] \n"
     ]
    }
   ],
   "source": [
    "with open('../data/OpinionQA/results/org.pkl', 'rb') as f:\n",
    "    res_oqa_org = pickle.load(f)\n",
    "\n",
    "type_names = ['1st', '2nd', 'rnd', 'lst']\n",
    "\n",
    "for disagree_type in type_names:\n",
    "    results = qa.qa_eval_one(res_oqa_org, disagree_type)\n",
    "    with open(f'../data/OpinionQA/results/one_{disagree_type}.pkl', 'wb') as f:\n",
    "        pickle.dump(results, f)"
   ]
  },
  {
   "cell_type": "code",
   "execution_count": null,
   "metadata": {},
   "outputs": [
    {
     "name": "stdout",
     "output_type": "stream",
     "text": [
      "Processing grp_count samples...\n"
     ]
    },
    {
     "name": "stderr",
     "output_type": "stream",
     "text": [
      "Processing MMLU: 100%|██████████| 16940/16940 [04:57<00:00, 56.99it/s] \n"
     ]
    }
   ],
   "source": [
    "with open('../data/OpinionQA/sample_results/res_oqa_org.pkl', 'rb') as f:\n",
    "    res_oqa_org = pickle.load(f)\n",
    "\n",
    "\n",
    "input_feat_list = []\n",
    "for disagree_size in range(11): # row\n",
    "    input_row = []\n",
    "    for agree_size in range(11): # column\n",
    "        \n",
    "        eval_feat = {\n",
    "            'type': 'grp_count',\n",
    "            'agree_size': agree_size,\n",
    "            'disagree_size': disagree_size,\n",
    "            'disagree_type': '2nd',\n",
    "            'order': 'ad',\n",
    "            'q_type': 'opinion'\n",
    "        }\n",
    "        input_row.append(eval_feat)\n",
    "    input_feat_list.append(input_row)\n",
    "\n",
    "results, accuracy = qa.qa_eval_matrix(res_oqa_org, input_feat_list)\n",
    "\n",
    "# round a 2d np array\n",
    "accuracy = np.array([[round(ele,2) for ele in row] for row in accuracy])\n",
    "\n",
    "with open('../data/OpinionQA/sample_results/oqa_count_ad.pkl', 'wb') as f:\n",
    "    pickle.dump(results, f)\n",
    "\n"
   ]
  },
  {
   "cell_type": "markdown",
   "metadata": {},
   "source": [
    "### Reason Generation and Reason in-context"
   ]
  },
  {
   "cell_type": "code",
   "execution_count": null,
   "metadata": {},
   "outputs": [
    {
     "name": "stderr",
     "output_type": "stream",
     "text": [
      "Generating reasons: 100%|██████████| 2800/2800 [02:23<00:00, 19.56it/s]\n"
     ]
    }
   ],
   "source": [
    "with open('../data/OpinionQA/sample_results/oqa_org.pkl', 'rb') as f:\n",
    "    res_oqa_org = pickle.load(f)\n",
    "\n",
    "oqa_org_reason = qa.qa_generate_reason(res_oqa_org, '2nd', 10)\n",
    "\n",
    "with open('../data/OpinionQA/sample_results/oqa_org_reason.pkl', 'wb') as f:\n",
    "    pickle.dump(oqa_org_reason, f)"
   ]
  },
  {
   "cell_type": "code",
   "execution_count": null,
   "metadata": {},
   "outputs": [
    {
     "name": "stdout",
     "output_type": "stream",
     "text": [
      "Processing grp_disc samples...\n"
     ]
    },
    {
     "name": "stderr",
     "output_type": "stream",
     "text": [
      "Processing QA: 100%|██████████| 16940/16940 [05:27<00:00, 51.78it/s] \n"
     ]
    },
    {
     "name": "stdout",
     "output_type": "stream",
     "text": [
      "Processing grp_disc samples...\n"
     ]
    },
    {
     "name": "stderr",
     "output_type": "stream",
     "text": [
      "Processing QA: 100%|██████████| 16940/16940 [05:18<00:00, 53.18it/s] \n"
     ]
    }
   ],
   "source": [
    "with open('../data/OpinionQA/sample_results/oqa_org_reason.pkl', 'rb') as f:\n",
    "    oqa_org_reason = pickle.load(f)\n",
    "\n",
    "for order in ['ad', 'da']:\n",
    "    input_feat_list = []\n",
    "    for disagree_size in range(11): # row\n",
    "        input_row = []\n",
    "        for agree_size in range(11): # column\n",
    "            \n",
    "            eval_feat = {\n",
    "                'type': 'grp_disc',\n",
    "                'use_reason': False,\n",
    "                'agree_size': agree_size,\n",
    "                'disagree_size': disagree_size,\n",
    "                'disagree_type': '2nd',\n",
    "                'q_type': 'opinion',\n",
    "                'order': order\n",
    "            }\n",
    "            input_row.append(eval_feat)\n",
    "        input_feat_list.append(input_row)\n",
    "\n",
    "    results, accuracy = qa.qa_eval_matrix(mmlu_org_reason, input_feat_list)\n",
    "\n",
    "    # round a 2d np array\n",
    "    accuracy = np.array([[round(ele,2) for ele in row] for row in accuracy])\n",
    "\n",
    "    with open(f'../data/OpinionQA/sample_results/oqa_disc_{order}.pkl', 'wb') as f:\n",
    "        pickle.dump(results, f)\n",
    "\n"
   ]
  },
  {
   "cell_type": "code",
   "execution_count": null,
   "metadata": {},
   "outputs": [
    {
     "name": "stderr",
     "output_type": "stream",
     "text": [
      "Processing QA batch 1: 100%|██████████| 1000/1000 [00:21<00:00, 46.52it/s]\n",
      "Processing QA batch 2: 100%|██████████| 1000/1000 [00:19<00:00, 50.04it/s]\n",
      "Processing QA batch 3: 100%|██████████| 1000/1000 [00:21<00:00, 46.43it/s]\n",
      "Processing QA batch 4: 100%|██████████| 12/12 [00:01<00:00, 10.78it/s]\n"
     ]
    }
   ],
   "source": [
    "with open('../data/OpinionQA/results/org.pkl', 'rb') as f:\n",
    "    res_org = pickle.load(f)\n",
    "\n",
    "results = qa.qa_eval_hierarchy(res_org, '2nd')\n",
    "\n",
    "with open(f'../data/OpinionQA/results/hierarchy_2nd.pkl', 'wb') as f:\n",
    "    pickle.dump(results, f)"
   ]
  },
  {
   "cell_type": "markdown",
   "metadata": {},
   "source": [
    "## SIQA"
   ]
  },
  {
   "cell_type": "code",
   "execution_count": null,
   "metadata": {},
   "outputs": [
    {
     "name": "stdout",
     "output_type": "stream",
     "text": [
      "total number of questions in SIQA: 1954\n"
     ]
    },
    {
     "name": "stderr",
     "output_type": "stream",
     "text": [
      "Processing QA: 100%|██████████| 1954/1954 [00:26<00:00, 74.18it/s] \n"
     ]
    }
   ],
   "source": [
    "# load jsonl\n",
    "import json\n",
    "PATH = '../data/SIQA/raw/socialiqa-train-dev/dev.jsonl'\n",
    "answer_PATH = '../data/SIQA/raw/socialiqa-train-dev/dev-labels.lst'\n",
    "with open(PATH, 'r') as f:\n",
    "    siqa_list = [json.loads(line) for line in f]\n",
    "\n",
    "with open(answer_PATH, 'r') as f:\n",
    "    answers = [line.strip() for line in f]\n",
    "\n",
    "siqa_full = []\n",
    "for i, ele in enumerate(siqa_list):\n",
    "    input_ele = {}\n",
    "    input_ele['question_id'] = i\n",
    "    input_ele['question'] = ele['context'] + ' ' + ele['question']\n",
    "    input_ele['options'] = [ele['answerA'], ele['answerB'], ele['answerC']]\n",
    "    input_ele['answer'] = \"ABC\"[int(answers[i])-1]\n",
    "\n",
    "    siqa_full.append(input_ele)\n",
    "\n",
    "with open('../data/SIQA/results/full.pkl', 'wb') as f:\n",
    "    pickle.dump(siqa_full, f)\n",
    "\n",
    "print(\"total number of questions in SIQA:\", len(siqa_full))\n",
    "\n",
    "res_org = qa.qa_eval_org(siqa_full)\n",
    "\n",
    "with open('../data/SIQA/results/org.pkl', 'wb') as f:\n",
    "    pickle.dump(res_org, f)"
   ]
  },
  {
   "cell_type": "code",
   "execution_count": null,
   "metadata": {},
   "outputs": [
    {
     "name": "stderr",
     "output_type": "stream",
     "text": [
      "Processing QA: 100%|██████████| 1954/1954 [00:31<00:00, 62.21it/s] \n",
      "Processing QA: 100%|██████████| 1954/1954 [00:29<00:00, 66.36it/s] \n",
      "Processing QA: 100%|██████████| 1954/1954 [00:27<00:00, 71.68it/s] \n",
      "Processing QA: 100%|██████████| 1954/1954 [00:27<00:00, 72.22it/s] \n"
     ]
    }
   ],
   "source": [
    "with open('../data/SIQA/results/org.pkl', 'rb') as f:\n",
    "    res_org = pickle.load(f)\n",
    "\n",
    "type_names = ['1st', '2nd', 'rnd', 'lst']\n",
    "\n",
    "for disagree_type in type_names:\n",
    "    results = qa.qa_eval_one(res_org, disagree_type)\n",
    "    with open(f'../data/SIQA/results/one_{disagree_type}.pkl', 'wb') as f:\n",
    "        pickle.dump(results, f)"
   ]
  },
  {
   "cell_type": "code",
   "execution_count": null,
   "metadata": {},
   "outputs": [
    {
     "name": "stderr",
     "output_type": "stream",
     "text": [
      "Processing QA batch 1: 100%|██████████| 1000/1000 [00:19<00:00, 51.07it/s]\n",
      "Processing QA batch 2: 100%|██████████| 1000/1000 [00:21<00:00, 47.21it/s]\n",
      "Processing QA batch 3: 100%|██████████| 1000/1000 [00:19<00:00, 51.67it/s]\n",
      "Processing QA batch 4: 100%|██████████| 908/908 [00:18<00:00, 48.40it/s]\n"
     ]
    }
   ],
   "source": [
    "with open('../data/SIQA/results/org.pkl', 'rb') as f:\n",
    "    res_org = pickle.load(f)\n",
    "\n",
    "results = qa.qa_eval_hierarchy(res_org, '2nd')\n",
    "\n",
    "with open(f'../data/SIQA/results/hierarchy_2nd.pkl', 'wb') as f:\n",
    "    pickle.dump(results, f)"
   ]
  },
  {
   "cell_type": "markdown",
   "metadata": {},
   "source": [
    "## GlobalOpinionQA"
   ]
  },
  {
   "cell_type": "code",
   "execution_count": null,
   "metadata": {},
   "outputs": [],
   "source": [
    "from datasets import load_dataset\n",
    "\n",
    "ds = load_dataset(\"Anthropic/llm_global_opinions\")"
   ]
  },
  {
   "cell_type": "code",
   "execution_count": null,
   "metadata": {},
   "outputs": [
    {
     "name": "stdout",
     "output_type": "stream",
     "text": [
      "total number of questions in GlobalOpinionQA: 2555\n"
     ]
    },
    {
     "name": "stderr",
     "output_type": "stream",
     "text": [
      "Processing QA: 100%|██████████| 2555/2555 [00:42<00:00, 60.78it/s] \n"
     ]
    }
   ],
   "source": [
    "data_full = []\n",
    "for q_idx, ele in enumerate(ds['train']):\n",
    "    if q_idx == 2538:\n",
    "        continue\n",
    "    input_ele = {}\n",
    "    input_ele['question_id'] = q_idx\n",
    "    input_ele['question'] = ele['question']\n",
    "    choices = ast.literal_eval(ele['options'])\n",
    "    if 'DK/Refused' in choices:\n",
    "        choices.remove('DK/Refused')\n",
    "    input_ele['options'] = choices\n",
    "\n",
    "    data_full.append(input_ele)\n",
    "\n",
    "with open('../data/GlobalOpinionQA/results/full.pkl', 'wb') as f:\n",
    "    pickle.dump(data_full, f)\n",
    "\n",
    "print(\"total number of questions in GlobalOpinionQA:\", len(data_full))\n",
    "\n",
    "res_org = qa.qa_eval_org(data_full)\n",
    "\n",
    "with open('../data/GlobalOpinionQA/results/org.pkl', 'wb') as f:\n",
    "    pickle.dump(res_org, f)"
   ]
  },
  {
   "cell_type": "code",
   "execution_count": null,
   "metadata": {},
   "outputs": [
    {
     "name": "stderr",
     "output_type": "stream",
     "text": [
      "Processing QA: 100%|██████████| 2555/2555 [00:41<00:00, 61.15it/s]\n",
      "Processing QA: 100%|██████████| 2555/2555 [00:41<00:00, 61.53it/s] \n",
      "Processing QA: 100%|██████████| 2555/2555 [00:40<00:00, 62.77it/s] \n",
      "Processing QA: 100%|██████████| 2555/2555 [00:42<00:00, 60.40it/s] \n"
     ]
    }
   ],
   "source": [
    "with open('../data/GlobalOpinionQA/results/org.pkl', 'rb') as f:\n",
    "    res_org = pickle.load(f)\n",
    "\n",
    "type_names = ['1st', '2nd', 'rnd', 'lst']\n",
    "\n",
    "for disagree_type in type_names:\n",
    "    results = qa.qa_eval_one(res_org, disagree_type)\n",
    "    with open(f'../data/GlobalOpinionQA/results/one_{disagree_type}.pkl', 'wb') as f:\n",
    "        pickle.dump(results, f)"
   ]
  },
  {
   "cell_type": "code",
   "execution_count": null,
   "metadata": {},
   "outputs": [
    {
     "name": "stderr",
     "output_type": "stream",
     "text": [
      "Processing QA batch 1: 100%|██████████| 1000/1000 [00:20<00:00, 49.77it/s]\n",
      "Processing QA batch 2: 100%|██████████| 1000/1000 [00:21<00:00, 46.04it/s]\n",
      "Processing QA batch 3: 100%|██████████| 1000/1000 [00:18<00:00, 53.86it/s]\n",
      "Processing QA batch 4: 100%|██████████| 1000/1000 [00:19<00:00, 50.88it/s]\n",
      "Processing QA batch 5: 100%|██████████| 1000/1000 [00:24<00:00, 40.80it/s]\n",
      "Processing QA batch 6: 100%|██████████| 110/110 [00:03<00:00, 34.01it/s]\n"
     ]
    }
   ],
   "source": [
    "with open('../data/GlobalOpinionQA/results/org.pkl', 'rb') as f:\n",
    "    res_org = pickle.load(f)\n",
    "\n",
    "results = qa.qa_eval_hierarchy(res_org, '2nd')\n",
    "\n",
    "with open(f'../data/GlobalOpinionQA/results/hierarchy_2nd.pkl', 'wb') as f:\n",
    "    pickle.dump(results, f)"
   ]
  },
  {
   "cell_type": "markdown",
   "metadata": {},
   "source": [
    "# Experiment"
   ]
  },
  {
   "cell_type": "markdown",
   "metadata": {},
   "source": [
    "## Dataset Table"
   ]
  },
  {
   "cell_type": "code",
   "execution_count": 9,
   "metadata": {},
   "outputs": [
    {
     "name": "stdout",
     "output_type": "stream",
     "text": [
      "MMLU-Pro: 12032, 9.47\n",
      "GPQA-Diamond: 198, 4.00\n",
      "ARC: 1172, 4.00\n",
      "OpinionQA: 1506, 3.24\n",
      "GlobalOpinionQA: 2555, 4.09\n",
      "SIQA: 1954, 3.00\n"
     ]
    }
   ],
   "source": [
    "dict_results = {}\n",
    "for benchmark in [\"MMLU-Pro\", \"GPQA-Diamond\", \"ARC\", \"OpinionQA\", \"GlobalOpinionQA\", \"SIQA\"]:\n",
    "    PATH = f'../data/{benchmark}/results/org.pkl'\n",
    "    with open(PATH, 'rb') as f:\n",
    "        retrieved_results = pickle.load(f)\n",
    "    list_len_options = [len(ele['options']) for ele in retrieved_results]\n",
    "    print(f\"{benchmark}: {len(retrieved_results)}, {np.mean(list_len_options) :.2f}\")"
   ]
  },
  {
   "cell_type": "markdown",
   "metadata": {},
   "source": [
    "## C1: Origin of Herd Behavior"
   ]
  },
  {
   "cell_type": "markdown",
   "metadata": {},
   "source": [
    "### Table 1 - dyad experiment"
   ]
  },
  {
   "cell_type": "markdown",
   "metadata": {},
   "source": [
    "#### how peer response is selected"
   ]
  },
  {
   "cell_type": "code",
   "execution_count": 2,
   "metadata": {},
   "outputs": [],
   "source": [
    "dict_results = {}\n",
    "dict_results['Average'] = {'1st':[], '2nd':[], 'rnd':[], 'lst':[]}\n",
    "for benchmark in [\"MMLU-Pro\", \"GPQA-Diamond\", \"ARC\", \"OpinionQA\", \"GlobalOpinionQA\", \"SIQA\"]:\n",
    "    dict_results[benchmark] = {}\n",
    "    for disagree_type in ['1st', '2nd', 'rnd', 'lst']:\n",
    "        PATH = f'../data/{benchmark}/results/one_{disagree_type}.pkl'\n",
    "        with open(PATH, 'rb') as f:\n",
    "            retrieved_results = pickle.load(f)\n",
    "            dict_results[benchmark][disagree_type] = retrieved_results\n",
    "            dict_results['Average'][disagree_type].extend(retrieved_results)"
   ]
  },
  {
   "cell_type": "code",
   "execution_count": 14,
   "metadata": {},
   "outputs": [
    {
     "data": {
      "text/html": [
       "<div>\n",
       "<style scoped>\n",
       "    .dataframe tbody tr th:only-of-type {\n",
       "        vertical-align: middle;\n",
       "    }\n",
       "\n",
       "    .dataframe tbody tr th {\n",
       "        vertical-align: top;\n",
       "    }\n",
       "\n",
       "    .dataframe thead th {\n",
       "        text-align: right;\n",
       "    }\n",
       "</style>\n",
       "<table border=\"1\" class=\"dataframe\">\n",
       "  <thead>\n",
       "    <tr style=\"text-align: right;\">\n",
       "      <th></th>\n",
       "      <th>Method</th>\n",
       "      <th>MMLU-Pro</th>\n",
       "      <th>GPQA-Diamond</th>\n",
       "      <th>ARC</th>\n",
       "      <th>OpinionQA</th>\n",
       "      <th>GlobalOpinionQA</th>\n",
       "      <th>SIQA</th>\n",
       "      <th>Average</th>\n",
       "    </tr>\n",
       "  </thead>\n",
       "  <tbody>\n",
       "    <tr>\n",
       "      <th>0</th>\n",
       "      <td>1st</td>\n",
       "      <td>0.03</td>\n",
       "      <td>0.05</td>\n",
       "      <td>0.01</td>\n",
       "      <td>0.01</td>\n",
       "      <td>0.01</td>\n",
       "      <td>0.02</td>\n",
       "      <td>0.03</td>\n",
       "    </tr>\n",
       "    <tr>\n",
       "      <th>1</th>\n",
       "      <td>2nd</td>\n",
       "      <td>0.51*</td>\n",
       "      <td>0.58*</td>\n",
       "      <td>0.09*</td>\n",
       "      <td>0.61*</td>\n",
       "      <td>0.69*</td>\n",
       "      <td>0.16*</td>\n",
       "      <td>0.48*</td>\n",
       "    </tr>\n",
       "    <tr>\n",
       "      <th>2</th>\n",
       "      <td>rnd</td>\n",
       "      <td>0.31</td>\n",
       "      <td>0.4</td>\n",
       "      <td>0.04</td>\n",
       "      <td>0.55</td>\n",
       "      <td>0.6</td>\n",
       "      <td>0.09</td>\n",
       "      <td>0.33</td>\n",
       "    </tr>\n",
       "    <tr>\n",
       "      <th>3</th>\n",
       "      <td>lst</td>\n",
       "      <td>0.25</td>\n",
       "      <td>0.37</td>\n",
       "      <td>0.04</td>\n",
       "      <td>0.52</td>\n",
       "      <td>0.56</td>\n",
       "      <td>0.09</td>\n",
       "      <td>0.29</td>\n",
       "    </tr>\n",
       "  </tbody>\n",
       "</table>\n",
       "</div>"
      ],
      "text/plain": [
       "  Method MMLU-Pro GPQA-Diamond    ARC OpinionQA GlobalOpinionQA   SIQA Average\n",
       "0    1st     0.03         0.05   0.01      0.01            0.01   0.02    0.03\n",
       "1    2nd    0.51*        0.58*  0.09*     0.61*           0.69*  0.16*   0.48*\n",
       "2    rnd     0.31          0.4   0.04      0.55             0.6   0.09    0.33\n",
       "3    lst     0.25         0.37   0.04      0.52            0.56   0.09    0.29"
      ]
     },
     "execution_count": 14,
     "metadata": {},
     "output_type": "execute_result"
    }
   ],
   "source": [
    "disagree_types = ['1st', '2nd', 'rnd', 'lst']\n",
    "\n",
    "table1 = pd.DataFrame(columns = [\"Method\", \"MMLU-Pro\", \"GPQA-Diamond\", \"ARC\", \"OpinionQA\", \"GlobalOpinionQA\", \"SIQA\", \"Average\"])\n",
    "# table1.loc[0] = [\"1st\", 0.75, 0.68, 0.66, 0.65, 0.63, 0.62]\n",
    "for disagree_type in ['1st', '2nd', 'rnd', 'lst']:\n",
    "    row = [disagree_type]\n",
    "    for benchmark in [\"MMLU-Pro\", \"GPQA-Diamond\", \"ARC\", \"OpinionQA\", \"GlobalOpinionQA\", \"SIQA\", \"Average\"]:\n",
    "        flip_rate = np.mean([r['r'] != r['r^org'] for r in dict_results[benchmark][disagree_type]])\n",
    "        row.append(round(flip_rate, 2))\n",
    "    table1.loc[len(table1)] = row\n",
    "\n",
    "# Apply significance marking\n",
    "columns_to_check = table1.columns[1:]  # include all benchmarks + 'Average'\n",
    "row_2nd = table1[table1['Method'] == '2nd'].iloc[0]\n",
    "\n",
    "for col in columns_to_check:\n",
    "    values = table1[col]\n",
    "    sorted_vals = sorted(values)\n",
    "    second_min = sorted_vals[1] if values[table1['Method'] == '2nd'].values[0] == sorted_vals[0] else sorted_vals[0]\n",
    "    second_min_method = values[values == second_min].index[0]\n",
    "    second_min_method = disagree_types[second_min_method]\n",
    "    \n",
    "    # Get per-sample flip_rate lists\n",
    "    vals_2nd = [r['r'] != r['r^org'] for r in dict_results[col]['2nd']]\n",
    "    vals_comp = [r['r'] != r['r^org'] for r in dict_results[col][second_min_method]]\n",
    "\n",
    "    # Run paired t-test\n",
    "    t_stat, p_value = ttest_rel(np.array(vals_2nd, dtype=float), np.array(vals_comp, dtype=float))\n",
    "\n",
    "    if p_value < 0.05:\n",
    "        table1 = table1.astype({col: 'object'}) # ensure column can hold strings\n",
    "        table1.loc[table1['Method'] == '2nd', col] = f\"{row_2nd[col]:.2f}*\"\n",
    "\n",
    "\n",
    "table1"
   ]
  },
  {
   "cell_type": "markdown",
   "metadata": {},
   "source": [
    "#### Peer's Competence (Education)"
   ]
  },
  {
   "cell_type": "code",
   "execution_count": null,
   "metadata": {},
   "outputs": [
    {
     "name": "stderr",
     "output_type": "stream",
     "text": [
      "Processing QA: 100%|██████████| 594/594 [00:12<00:00, 47.84it/s]\n",
      "Processing QA: 100%|██████████| 3516/3516 [00:58<00:00, 60.12it/s] \n",
      "Processing QA: 100%|██████████| 4518/4518 [01:08<00:00, 65.99it/s] \n",
      "Processing QA: 100%|██████████| 7665/7665 [01:58<00:00, 64.46it/s] \n",
      "Processing QA: 100%|██████████| 5862/5862 [01:36<00:00, 61.06it/s] \n"
     ]
    }
   ],
   "source": [
    "# benchmarks = [\"MMLU-Pro\", \"GPQA-Diamond\", \"ARC\", \"OpinionQA\", \"GlobalOpinionQA\", \"SIQA\"]\n",
    "\n",
    "\n",
    "# edu_results = {}\n",
    "# for benchmark in benchmarks:\n",
    "#     if benchmark == \"MMLU-Pro\":\n",
    "#         continue\n",
    "#     with open(f'../data/{benchmark}/results/org.pkl', 'rb') as f:\n",
    "#         res_org = pickle.load(f)\n",
    "\n",
    "#     results = qa.qa_eval_education(res_org, '2nd')\n",
    "#     edu_results[benchmark] = results\n",
    "\n",
    "#     with open(f'../data/{benchmark}/results/edu_2nd.pkl', 'wb') as f:\n",
    "#         pickle.dump(results, f)"
   ]
  },
  {
   "cell_type": "code",
   "execution_count": 35,
   "metadata": {},
   "outputs": [
    {
     "data": {
      "text/html": [
       "<div>\n",
       "<style scoped>\n",
       "    .dataframe tbody tr th:only-of-type {\n",
       "        vertical-align: middle;\n",
       "    }\n",
       "\n",
       "    .dataframe tbody tr th {\n",
       "        vertical-align: top;\n",
       "    }\n",
       "\n",
       "    .dataframe thead th {\n",
       "        text-align: right;\n",
       "    }\n",
       "</style>\n",
       "<table border=\"1\" class=\"dataframe\">\n",
       "  <thead>\n",
       "    <tr style=\"text-align: right;\">\n",
       "      <th></th>\n",
       "      <th>Method</th>\n",
       "      <th>MMLU-Pro</th>\n",
       "      <th>GPQA-Diamond</th>\n",
       "      <th>ARC</th>\n",
       "      <th>OpinionQA</th>\n",
       "      <th>GlobalOpinionQA</th>\n",
       "      <th>SIQA</th>\n",
       "      <th>Average</th>\n",
       "    </tr>\n",
       "  </thead>\n",
       "  <tbody>\n",
       "    <tr>\n",
       "      <th>0</th>\n",
       "      <td>graduate degree</td>\n",
       "      <td>0.5047*</td>\n",
       "      <td>0.5556*</td>\n",
       "      <td>0.0828</td>\n",
       "      <td>0.7583*</td>\n",
       "      <td>0.8282*</td>\n",
       "      <td>0.1464*</td>\n",
       "      <td>0.5059*</td>\n",
       "    </tr>\n",
       "    <tr>\n",
       "      <th>1</th>\n",
       "      <td>college degree</td>\n",
       "      <td>0.4732</td>\n",
       "      <td>0.4949</td>\n",
       "      <td>0.0785</td>\n",
       "      <td>0.7357</td>\n",
       "      <td>0.8305</td>\n",
       "      <td>0.1372</td>\n",
       "      <td>0.4831</td>\n",
       "    </tr>\n",
       "    <tr>\n",
       "      <th>2</th>\n",
       "      <td>high school diploma</td>\n",
       "      <td>0.4427</td>\n",
       "      <td>0.4798</td>\n",
       "      <td>0.0742</td>\n",
       "      <td>0.7145</td>\n",
       "      <td>0.7945</td>\n",
       "      <td>0.1372</td>\n",
       "      <td>0.4575</td>\n",
       "    </tr>\n",
       "  </tbody>\n",
       "</table>\n",
       "</div>"
      ],
      "text/plain": [
       "                Method MMLU-Pro GPQA-Diamond     ARC OpinionQA  \\\n",
       "0      graduate degree  0.5047*      0.5556*  0.0828   0.7583*   \n",
       "1       college degree   0.4732       0.4949  0.0785    0.7357   \n",
       "2  high school diploma   0.4427       0.4798  0.0742    0.7145   \n",
       "\n",
       "  GlobalOpinionQA     SIQA  Average  \n",
       "0         0.8282*  0.1464*  0.5059*  \n",
       "1          0.8305   0.1372   0.4831  \n",
       "2          0.7945   0.1372   0.4575  "
      ]
     },
     "execution_count": 35,
     "metadata": {},
     "output_type": "execute_result"
    }
   ],
   "source": [
    "benchmarks = [\"MMLU-Pro\", \"GPQA-Diamond\", \"ARC\", \"OpinionQA\", \"GlobalOpinionQA\", \"SIQA\"]\n",
    "table_edu = pd.DataFrame(columns = [\"Method\", \"MMLU-Pro\", \"GPQA-Diamond\", \"ARC\", \"OpinionQA\", \"GlobalOpinionQA\", \"SIQA\", \"Average\"])\n",
    "edu_types = ['graduate degree', 'college degree', 'high school diploma']\n",
    "\n",
    "edu_results = {}\n",
    "edu_results['Average'] = {e: [] for e in edu_types}\n",
    "for benchmark in benchmarks:\n",
    "    with open(f'../data/{benchmark}/results/edu_2nd.pkl', 'rb') as f:\n",
    "        retrieved_results = pickle.load(f)\n",
    "        edu_results[benchmark] = retrieved_results\n",
    "        edu_results['Average']['graduate degree'].extend(retrieved_results['graduate degree'])\n",
    "        edu_results['Average']['college degree'].extend(retrieved_results['college degree'])\n",
    "        edu_results['Average']['high school diploma'].extend(retrieved_results['high school diploma'])\n",
    "        \n",
    "\n",
    "for education_degree in ['graduate degree', 'college degree', 'high school diploma']:\n",
    "    row = [education_degree]\n",
    "    for benchmark in [\"MMLU-Pro\", \"GPQA-Diamond\", \"ARC\", \"OpinionQA\", \"GlobalOpinionQA\", \"SIQA\", \"Average\"]:\n",
    "        flip_rate = np.mean([r['r'] != r['r^org'] for r in edu_results[benchmark][education_degree]])\n",
    "        row.append(round(flip_rate, 4))\n",
    "    table_edu.loc[len(table_edu)] = row\n",
    "\n",
    "\n",
    "# Apply significance marking\n",
    "columns_to_check = table_edu.columns[1:]  # include all benchmarks + 'Average'\n",
    "row_graduate = table_edu[table_edu['Method'] == 'graduate degree'].iloc[0]\n",
    "\n",
    "for col in columns_to_check:\n",
    "    values = table_edu[col]\n",
    "    sorted_vals = sorted(values)\n",
    "    second_min = sorted_vals[1] if values[table_edu['Method'] == 'graduate degree'].values[0] == sorted_vals[0] else sorted_vals[0]\n",
    "    second_min_method = values[values == second_min].index[0]\n",
    "    second_min_method = edu_types[second_min_method]\n",
    "    \n",
    "    # Get per-sample flip_rate lists\n",
    "    vals_2nd = [r['r'] != r['r^org'] for r in edu_results[col]['graduate degree']]\n",
    "    vals_comp = [r['r'] != r['r^org'] for r in edu_results[col][second_min_method]]\n",
    "\n",
    "    # Run paired t-test\n",
    "    t_stat, p_value = ttest_rel(np.array(vals_2nd, dtype=float), np.array(vals_comp, dtype=float))\n",
    "\n",
    "    if p_value < 0.05:\n",
    "        table_edu = table_edu.astype({col: 'object'}) # ensure column can hold strings\n",
    "        table_edu.loc[table_edu['Method'] == 'graduate degree', col] = f\"{row_graduate[col]:.4f}*\"\n",
    "\n",
    "table_edu"
   ]
  },
  {
   "cell_type": "markdown",
   "metadata": {},
   "source": [
    "#### In/Out domain Expertise"
   ]
  },
  {
   "cell_type": "code",
   "execution_count": null,
   "metadata": {},
   "outputs": [
    {
     "name": "stdout",
     "output_type": "stream",
     "text": [
      "category: business\n",
      "category: Physics\n",
      "no category\n",
      "no category\n",
      "no category\n",
      "no category\n"
     ]
    }
   ],
   "source": [
    "benchmarks = [\"MMLU-Pro\", \"GPQA-Diamond\", \"ARC\", \"OpinionQA\", \"GlobalOpinionQA\", \"SIQA\"]\n",
    "for benchmark in benchmarks:\n",
    "    with open(f'../data/{benchmark}/results/org.pkl', 'rb') as f:\n",
    "        mmlu_org = pickle.load(f)\n",
    "        if 'category' in mmlu_org[0].keys():\n",
    "            print(f'category: {mmlu_org[0][\"category\"]}')\n",
    "        else:\n",
    "            print('no category')\n",
    "\n",
    "# results = qa.qa_eval_domain(res_mmlu_org, '2nd')\n",
    "\n",
    "# with open(f'../data/MMLU-Pro/results/mmlu_domain_2nd.pkl', 'wb') as f:\n",
    "#     pickle.dump(results, f)"
   ]
  },
  {
   "cell_type": "code",
   "execution_count": 16,
   "metadata": {},
   "outputs": [
    {
     "data": {
      "text/html": [
       "<div>\n",
       "<style scoped>\n",
       "    .dataframe tbody tr th:only-of-type {\n",
       "        vertical-align: middle;\n",
       "    }\n",
       "\n",
       "    .dataframe tbody tr th {\n",
       "        vertical-align: top;\n",
       "    }\n",
       "\n",
       "    .dataframe thead th {\n",
       "        text-align: right;\n",
       "    }\n",
       "</style>\n",
       "<table border=\"1\" class=\"dataframe\">\n",
       "  <thead>\n",
       "    <tr style=\"text-align: right;\">\n",
       "      <th></th>\n",
       "      <th>Method</th>\n",
       "      <th>MMLU-Pro</th>\n",
       "      <th>GPQA-Diamond</th>\n",
       "      <th>Average</th>\n",
       "    </tr>\n",
       "  </thead>\n",
       "  <tbody>\n",
       "    <tr>\n",
       "      <th>0</th>\n",
       "      <td>in_domain</td>\n",
       "      <td>0.55*</td>\n",
       "      <td>0.72*</td>\n",
       "      <td>0.55*</td>\n",
       "    </tr>\n",
       "    <tr>\n",
       "      <th>1</th>\n",
       "      <td>out_domain</td>\n",
       "      <td>0.48</td>\n",
       "      <td>0.46</td>\n",
       "      <td>0.48</td>\n",
       "    </tr>\n",
       "  </tbody>\n",
       "</table>\n",
       "</div>"
      ],
      "text/plain": [
       "       Method MMLU-Pro GPQA-Diamond Average\n",
       "0   in_domain    0.55*        0.72*   0.55*\n",
       "1  out_domain     0.48         0.46    0.48"
      ]
     },
     "execution_count": 16,
     "metadata": {},
     "output_type": "execute_result"
    }
   ],
   "source": [
    "benchmarks = [\"MMLU-Pro\", \"GPQA-Diamond\"]\n",
    "table_domain = pd.DataFrame(columns = [\"Method\", \"MMLU-Pro\", \"GPQA-Diamond\",\"Average\"])\n",
    "list_domain = ['in_domain', 'out_domain']\n",
    "\n",
    "domain_results = {}\n",
    "domain_results['Average'] = {e: [] for e in list_domain}\n",
    "for benchmark in benchmarks:\n",
    "    with open(f'../data/{benchmark}/results/domain_2nd.pkl', 'rb') as f:\n",
    "        retrieved_results = pickle.load(f)\n",
    "        domain_results[benchmark] = retrieved_results\n",
    "        domain_results['Average']['in_domain'].extend(retrieved_results['in_domain'])\n",
    "        domain_results['Average']['out_domain'].extend(retrieved_results['out_domain'])\n",
    "        \n",
    "\n",
    "for domain in list_domain:\n",
    "    row = [domain]\n",
    "    for benchmark in [\"MMLU-Pro\", \"GPQA-Diamond\", \"Average\"]:\n",
    "        flip_rate = np.mean([r['r'] != r['r^org'] for r in domain_results[benchmark][domain]])\n",
    "        row.append(round(flip_rate, 2))\n",
    "    table_domain.loc[len(table_domain)] = row\n",
    "\n",
    "\n",
    "# Apply significance marking\n",
    "columns_to_check = table_domain.columns[1:]  # include all benchmarks + 'Average'\n",
    "row_in_domain = table_domain[table_domain['Method'] == 'in_domain'].iloc[0]\n",
    "\n",
    "for col in columns_to_check:\n",
    "    values = table_domain[col]\n",
    "    sorted_vals = sorted(values)\n",
    "    second_min = sorted_vals[1] if values[table_domain['Method'] == 'in_domain'].values[0] == sorted_vals[0] else sorted_vals[0]\n",
    "    second_min_method = values[values == second_min].index[0]\n",
    "    second_min_method = list_domain[second_min_method]\n",
    "    \n",
    "    # Get per-sample flip_rate lists\n",
    "    vals_2nd = [r['r'] != r['r^org'] for r in domain_results[col]['in_domain']]\n",
    "    vals_comp = [r['r'] != r['r^org'] for r in domain_results[col][second_min_method]]\n",
    "\n",
    "    # Run paired t-test\n",
    "    t_stat, p_value = ttest_rel(np.array(vals_2nd, dtype=float), np.array(vals_comp, dtype=float))\n",
    "\n",
    "    if p_value < 0.05:\n",
    "        table_domain = table_domain.astype({col: 'object'}) # ensure column can hold strings\n",
    "        table_domain.loc[table_domain['Method'] == 'in_domain', col] = f\"{row_in_domain[col]:.2f}*\"\n",
    "\n",
    "table_domain"
   ]
  },
  {
   "cell_type": "code",
   "execution_count": null,
   "metadata": {},
   "outputs": [],
   "source": [
    "# # Plotting consistency by education level\n",
    "\n",
    "# results_graduate = results['graduate degree']\n",
    "# results_college = results['college degree']\n",
    "# results_high_school = results['high school diploma']\n",
    "# results_control = res_mmlu_one\n",
    "\n",
    "# consistence_graduate  = np.array([r['r'] == r['r^org'] for r in results_graduate])\n",
    "# consistence_college   = np.array([r['r'] == r['r^org'] for r in results_college])\n",
    "# consistence_high_school = np.array([r['r'] == r['r^org'] for r in results_high_school])\n",
    "# consistence_control = np.array([r['r'] == r['r^org'] for r in results_control])\n",
    "\n",
    "# # Calculate means and confidence intervals\n",
    "# education_groups = [consistence_graduate, consistence_college, consistence_high_school, consistence_control]\n",
    "# mean_consistance = [group.mean() for group in education_groups]\n",
    "# confidence_intervals = [stats.t.interval(\n",
    "#     0.95, len(group)-1, loc=group.mean(), scale=stats.sem(group)) for group in education_groups]\n",
    "\n",
    "# # Extracting lower and upper bounds for plotting\n",
    "# ci_lower = [mean - ci[0] for mean, ci in zip(mean_consistance, confidence_intervals)]\n",
    "# ci_upper = [ci[1] - mean for mean, ci in zip(mean_consistance, confidence_intervals)]\n",
    "\n",
    "# education_levels = ['Graduate\\nDegree', 'College\\nDegree', 'High School\\nDiploma', 'Control']\n",
    "\n",
    "# # Plotting with confidence intervals\n",
    "# plt.figure(figsize=(4, 6))\n",
    "# plt.bar(education_levels, mean_consistance, yerr=[ci_lower, ci_upper], capsize=10,\n",
    "#         color=['skyblue', 'lightgreen', 'salmon', 'lightgray'], alpha=0.7)\n",
    "# plt.ylabel('Consistency (0-1)')\n",
    "# plt.xlabel('Education')\n",
    "# plt.title('Consistency by Education Level \\nwith 95% Confidence Intervals')\n",
    "# plt.ylim(0, 1)\n",
    "\n",
    "# # Display values on the bars\n",
    "# for i, val in enumerate(mean_consistance):\n",
    "#     plt.text(i, val + max(ci_upper)*1, f'{val:.2f}', ha='center', va='bottom')\n",
    "\n",
    "# plt.grid(axis='y', linestyle='--', alpha=0.7)\n",
    "# plt.show()"
   ]
  },
  {
   "cell_type": "markdown",
   "metadata": {},
   "source": [
    "#### Social Hierarchy"
   ]
  },
  {
   "cell_type": "code",
   "execution_count": 36,
   "metadata": {},
   "outputs": [
    {
     "data": {
      "text/html": [
       "<div>\n",
       "<style scoped>\n",
       "    .dataframe tbody tr th:only-of-type {\n",
       "        vertical-align: middle;\n",
       "    }\n",
       "\n",
       "    .dataframe tbody tr th {\n",
       "        vertical-align: top;\n",
       "    }\n",
       "\n",
       "    .dataframe thead th {\n",
       "        text-align: right;\n",
       "    }\n",
       "</style>\n",
       "<table border=\"1\" class=\"dataframe\">\n",
       "  <thead>\n",
       "    <tr style=\"text-align: right;\">\n",
       "      <th></th>\n",
       "      <th>Method</th>\n",
       "      <th>MMLU-Pro</th>\n",
       "      <th>GPQA-Diamond</th>\n",
       "      <th>ARC</th>\n",
       "      <th>OpinionQA</th>\n",
       "      <th>GlobalOpinionQA</th>\n",
       "      <th>SIQA</th>\n",
       "      <th>Average</th>\n",
       "    </tr>\n",
       "  </thead>\n",
       "  <tbody>\n",
       "    <tr>\n",
       "      <th>0</th>\n",
       "      <td>employer</td>\n",
       "      <td>0.5676*</td>\n",
       "      <td>0.7121</td>\n",
       "      <td>0.1024</td>\n",
       "      <td>0.7145*</td>\n",
       "      <td>0.7746*</td>\n",
       "      <td>0.2006*</td>\n",
       "      <td>0.5427*</td>\n",
       "    </tr>\n",
       "    <tr>\n",
       "      <th>1</th>\n",
       "      <td>employee</td>\n",
       "      <td>0.5331</td>\n",
       "      <td>0.7121</td>\n",
       "      <td>0.0947</td>\n",
       "      <td>0.7424</td>\n",
       "      <td>0.7855</td>\n",
       "      <td>0.174</td>\n",
       "      <td>0.5218</td>\n",
       "    </tr>\n",
       "  </tbody>\n",
       "</table>\n",
       "</div>"
      ],
      "text/plain": [
       "     Method MMLU-Pro  GPQA-Diamond     ARC OpinionQA GlobalOpinionQA     SIQA  \\\n",
       "0  employer  0.5676*        0.7121  0.1024   0.7145*         0.7746*  0.2006*   \n",
       "1  employee   0.5331        0.7121  0.0947    0.7424          0.7855    0.174   \n",
       "\n",
       "   Average  \n",
       "0  0.5427*  \n",
       "1   0.5218  "
      ]
     },
     "execution_count": 36,
     "metadata": {},
     "output_type": "execute_result"
    }
   ],
   "source": [
    "benchmarks = [\"MMLU-Pro\", \"GPQA-Diamond\", \"ARC\", \"OpinionQA\", \"GlobalOpinionQA\", \"SIQA\"]\n",
    "table_domain = pd.DataFrame(columns = [\"Method\"]+benchmarks+[\"Average\"])\n",
    "list_domain = ['employer', 'employee']\n",
    "\n",
    "domain_results = {}\n",
    "domain_results['Average'] = {e: [] for e in list_domain}\n",
    "for benchmark in benchmarks:\n",
    "    with open(f'../data/{benchmark}/results/hierarchy_2nd.pkl', 'rb') as f:\n",
    "        retrieved_results = pickle.load(f)\n",
    "        domain_results[benchmark] = retrieved_results\n",
    "        domain_results['Average']['employer'].extend(retrieved_results['employer'])\n",
    "        domain_results['Average']['employee'].extend(retrieved_results['employee'])\n",
    "        \n",
    "\n",
    "for domain in list_domain:\n",
    "    row = [domain]\n",
    "    for benchmark in benchmarks+[\"Average\"]:\n",
    "        flip_rate = np.mean([r['r'] != r['r^org'] for r in domain_results[benchmark][domain]])\n",
    "        row.append(round(flip_rate, 4))\n",
    "    table_domain.loc[len(table_domain)] = row\n",
    "\n",
    "\n",
    "# Apply significance marking\n",
    "columns_to_check = table_domain.columns[1:]  # include all benchmarks + 'Average'\n",
    "row_in_domain = table_domain[table_domain['Method'] == 'employer'].iloc[0]\n",
    "\n",
    "for col in columns_to_check:\n",
    "    values = table_domain[col]\n",
    "    sorted_vals = sorted(values)\n",
    "    second_min = sorted_vals[1] if values[table_domain['Method'] == 'employer'].values[0] == sorted_vals[0] else sorted_vals[0]\n",
    "    second_min_method = values[values == second_min].index[0]\n",
    "    second_min_method = list_domain[second_min_method]\n",
    "    \n",
    "    # Get per-sample flip_rate lists\n",
    "    vals_2nd = [r['r'] != r['r^org'] for r in domain_results[col]['employer']]\n",
    "    vals_comp = [r['r'] != r['r^org'] for r in domain_results[col][second_min_method]]\n",
    "\n",
    "    # Run paired t-test\n",
    "    t_stat, p_value = ttest_rel(np.array(vals_2nd, dtype=float), np.array(vals_comp, dtype=float))\n",
    "\n",
    "    if p_value < 0.05:\n",
    "        table_domain = table_domain.astype({col: 'object'}) # ensure column can hold strings\n",
    "        table_domain.loc[table_domain['Method'] == 'employer', col] = f\"{row_in_domain[col]:.4f}*\"\n",
    "\n",
    "table_domain"
   ]
  },
  {
   "cell_type": "markdown",
   "metadata": {},
   "source": [
    "### Table 1.5 flip rate and accuracy"
   ]
  },
  {
   "cell_type": "code",
   "execution_count": 18,
   "metadata": {},
   "outputs": [],
   "source": [
    "dict_results = {}\n",
    "dict_results['Average'] = {'org':[], '1st':[], '2nd':[], 'rnd':[], 'lst':[]}\n",
    "benchmarks = [\"MMLU-Pro\", \"GPQA-Diamond\", \"ARC\"]\n",
    "for benchmark in benchmarks:\n",
    "    dict_results[benchmark] = {}\n",
    "    with open(f'../data/{benchmark}/results/org.pkl', 'rb') as f:\n",
    "        retrieved_results = pickle.load(f)\n",
    "        dict_results[benchmark]['org'] = retrieved_results\n",
    "        dict_results['Average']['org'].extend(retrieved_results)\n",
    "    for disagree_type in ['1st', '2nd', 'rnd', 'lst']:\n",
    "        PATH = f'../data/{benchmark}/results/one_{disagree_type}.pkl'\n",
    "        with open(PATH, 'rb') as f:\n",
    "            retrieved_results = pickle.load(f)\n",
    "            dict_results[benchmark][disagree_type] = retrieved_results\n",
    "            dict_results['Average'][disagree_type].extend(retrieved_results)"
   ]
  },
  {
   "cell_type": "code",
   "execution_count": 19,
   "metadata": {},
   "outputs": [
    {
     "data": {
      "text/html": [
       "<div>\n",
       "<style scoped>\n",
       "    .dataframe tbody tr th:only-of-type {\n",
       "        vertical-align: middle;\n",
       "    }\n",
       "\n",
       "    .dataframe tbody tr th {\n",
       "        vertical-align: top;\n",
       "    }\n",
       "\n",
       "    .dataframe thead th {\n",
       "        text-align: right;\n",
       "    }\n",
       "</style>\n",
       "<table border=\"1\" class=\"dataframe\">\n",
       "  <thead>\n",
       "    <tr style=\"text-align: right;\">\n",
       "      <th></th>\n",
       "      <th>Method</th>\n",
       "      <th>MMLU-Pro</th>\n",
       "      <th>GPQA-Diamond</th>\n",
       "      <th>ARC</th>\n",
       "      <th>Average</th>\n",
       "    </tr>\n",
       "  </thead>\n",
       "  <tbody>\n",
       "    <tr>\n",
       "      <th>0</th>\n",
       "      <td>org</td>\n",
       "      <td>0.45</td>\n",
       "      <td>0.35</td>\n",
       "      <td>0.93</td>\n",
       "      <td>0.49</td>\n",
       "    </tr>\n",
       "    <tr>\n",
       "      <th>1</th>\n",
       "      <td>1st</td>\n",
       "      <td>0.45</td>\n",
       "      <td>0.34</td>\n",
       "      <td>0.92</td>\n",
       "      <td>0.49</td>\n",
       "    </tr>\n",
       "    <tr>\n",
       "      <th>2</th>\n",
       "      <td>2nd</td>\n",
       "      <td>0.41*</td>\n",
       "      <td>0.30</td>\n",
       "      <td>0.90*</td>\n",
       "      <td>0.45*</td>\n",
       "    </tr>\n",
       "    <tr>\n",
       "      <th>3</th>\n",
       "      <td>rnd</td>\n",
       "      <td>0.42</td>\n",
       "      <td>0.32</td>\n",
       "      <td>0.91</td>\n",
       "      <td>0.46</td>\n",
       "    </tr>\n",
       "    <tr>\n",
       "      <th>4</th>\n",
       "      <td>lst</td>\n",
       "      <td>0.43</td>\n",
       "      <td>0.35</td>\n",
       "      <td>0.91</td>\n",
       "      <td>0.48</td>\n",
       "    </tr>\n",
       "  </tbody>\n",
       "</table>\n",
       "</div>"
      ],
      "text/plain": [
       "  Method MMLU-Pro  GPQA-Diamond    ARC Average\n",
       "0    org     0.45          0.35   0.93    0.49\n",
       "1    1st     0.45          0.34   0.92    0.49\n",
       "2    2nd    0.41*          0.30  0.90*   0.45*\n",
       "3    rnd     0.42          0.32   0.91    0.46\n",
       "4    lst     0.43          0.35   0.91    0.48"
      ]
     },
     "execution_count": 19,
     "metadata": {},
     "output_type": "execute_result"
    }
   ],
   "source": [
    "from scipy.stats import ttest_rel\n",
    "\n",
    "disagree_types = ['org', '1st', '2nd', 'rnd', 'lst']\n",
    "\n",
    "table1 = pd.DataFrame(columns = [\"Method\"] + benchmarks +[\"Average\"])\n",
    "# table1.loc[0] = [\"1st\", 0.75, 0.68, 0.66, 0.65, 0.63, 0.62]\n",
    "for disagree_type in disagree_types:\n",
    "    row = [disagree_type]\n",
    "    for benchmark in benchmarks + [\"Average\"]:\n",
    "        if disagree_type == 'org':\n",
    "            accuracy = np.mean([r['r^org'] == r['answer'] for r in dict_results[benchmark][disagree_type]])\n",
    "        else:\n",
    "            accuracy = np.mean([r['r'] == r['answer'] for r in dict_results[benchmark][disagree_type]])\n",
    "        row.append(round(accuracy, 2))\n",
    "    table1.loc[len(table1)] = row\n",
    "\n",
    "# Apply significance marking\n",
    "columns_to_check = table1.columns[1:]  # include all benchmarks + 'Average'\n",
    "row_2nd = table1[table1['Method'] == '2nd'].iloc[0]\n",
    "\n",
    "for col in columns_to_check:\n",
    "    values = table1[col]\n",
    "    sorted_vals = sorted(values)\n",
    "    second_min = sorted_vals[1] if values[table1['Method'] == '2nd'].values[0] == sorted_vals[0] else sorted_vals[0]\n",
    "    second_min_method = values[values == second_min].index[0]\n",
    "    second_min_method = disagree_types[second_min_method]\n",
    "    \n",
    "    # Get per-sample accuracy lists\n",
    "    vals_2nd = [r['r'] == r['answer'] for r in dict_results[col]['2nd']]\n",
    "    vals_comp = [r['r'] == r['answer'] for r in dict_results[col][second_min_method]]\n",
    "\n",
    "    # Run paired t-test\n",
    "    t_stat, p_value = ttest_rel(np.array(vals_2nd, dtype=float), np.array(vals_comp, dtype=float))\n",
    "\n",
    "    if p_value < 0.05:\n",
    "        table1 = table1.astype({col: 'object'}) # ensure column can hold strings\n",
    "        table1.loc[table1['Method'] == '2nd', col] = f\"{row_2nd[col]:.2f}*\"\n",
    "\n",
    "\n",
    "table1"
   ]
  },
  {
   "cell_type": "code",
   "execution_count": 20,
   "metadata": {},
   "outputs": [
    {
     "data": {
      "text/html": [
       "<div>\n",
       "<style scoped>\n",
       "    .dataframe tbody tr th:only-of-type {\n",
       "        vertical-align: middle;\n",
       "    }\n",
       "\n",
       "    .dataframe tbody tr th {\n",
       "        vertical-align: top;\n",
       "    }\n",
       "\n",
       "    .dataframe thead th {\n",
       "        text-align: right;\n",
       "    }\n",
       "</style>\n",
       "<table border=\"1\" class=\"dataframe\">\n",
       "  <thead>\n",
       "    <tr style=\"text-align: right;\">\n",
       "      <th></th>\n",
       "      <th>Method</th>\n",
       "      <th>MMLU-Pro</th>\n",
       "      <th>GPQA-Diamond</th>\n",
       "      <th>ARC</th>\n",
       "      <th>Average</th>\n",
       "    </tr>\n",
       "  </thead>\n",
       "  <tbody>\n",
       "    <tr>\n",
       "      <th>0</th>\n",
       "      <td>graduate degree</td>\n",
       "      <td>0.40*</td>\n",
       "      <td>0.29</td>\n",
       "      <td>0.89</td>\n",
       "      <td>0.44*</td>\n",
       "    </tr>\n",
       "    <tr>\n",
       "      <th>1</th>\n",
       "      <td>college degree</td>\n",
       "      <td>0.41</td>\n",
       "      <td>0.32</td>\n",
       "      <td>0.90</td>\n",
       "      <td>0.45</td>\n",
       "    </tr>\n",
       "    <tr>\n",
       "      <th>2</th>\n",
       "      <td>high school diploma</td>\n",
       "      <td>0.41</td>\n",
       "      <td>0.31</td>\n",
       "      <td>0.90</td>\n",
       "      <td>0.45</td>\n",
       "    </tr>\n",
       "  </tbody>\n",
       "</table>\n",
       "</div>"
      ],
      "text/plain": [
       "                Method MMLU-Pro  GPQA-Diamond   ARC Average\n",
       "0      graduate degree    0.40*          0.29  0.89   0.44*\n",
       "1       college degree     0.41          0.32  0.90    0.45\n",
       "2  high school diploma     0.41          0.31  0.90    0.45"
      ]
     },
     "execution_count": 20,
     "metadata": {},
     "output_type": "execute_result"
    }
   ],
   "source": [
    "table_edu = pd.DataFrame(columns = [\"Method\"] + benchmarks +[\"Average\"])\n",
    "edu_types = ['graduate degree', 'college degree', 'high school diploma']\n",
    "\n",
    "edu_results = {}\n",
    "edu_results['Average'] = {e: [] for e in edu_types}\n",
    "for benchmark in benchmarks:\n",
    "    with open(f'../data/{benchmark}/results/edu_2nd.pkl', 'rb') as f:\n",
    "        retrieved_results = pickle.load(f)\n",
    "        edu_results[benchmark] = retrieved_results\n",
    "        edu_results['Average']['graduate degree'].extend(retrieved_results['graduate degree'])\n",
    "        edu_results['Average']['college degree'].extend(retrieved_results['college degree'])\n",
    "        edu_results['Average']['high school diploma'].extend(retrieved_results['high school diploma'])\n",
    "        \n",
    "\n",
    "for education_degree in ['graduate degree', 'college degree', 'high school diploma']:\n",
    "    row = [education_degree]\n",
    "    for benchmark in benchmarks + [\"Average\"]:\n",
    "        accuracy = np.mean([r['r'] == r['answer'] for r in edu_results[benchmark][education_degree]])\n",
    "        row.append(round(accuracy, 2))\n",
    "    table_edu.loc[len(table_edu)] = row\n",
    "\n",
    "\n",
    "# Apply significance marking\n",
    "columns_to_check = table_edu.columns[1:]  # include all benchmarks + 'Average'\n",
    "row_graduate = table_edu[table_edu['Method'] == 'graduate degree'].iloc[0]\n",
    "\n",
    "for col in columns_to_check:\n",
    "    values = table_edu[col]\n",
    "    sorted_vals = sorted(values)\n",
    "    second_min = sorted_vals[1] if values[table_edu['Method'] == 'graduate degree'].values[0] == sorted_vals[0] else sorted_vals[0]\n",
    "    second_min_method = values[values == second_min].index[0]\n",
    "    second_min_method = edu_types[second_min_method]\n",
    "    \n",
    "    # Get per-sample accuracy lists\n",
    "    vals_2nd = [r['r'] == r['answer'] for r in edu_results[col]['graduate degree']]\n",
    "    vals_comp = [r['r'] == r['answer'] for r in edu_results[col][second_min_method]]\n",
    "\n",
    "    # Run paired t-test\n",
    "    t_stat, p_value = ttest_rel(np.array(vals_2nd, dtype=float), np.array(vals_comp, dtype=float))\n",
    "\n",
    "    if p_value < 0.05:\n",
    "        table_edu = table_edu.astype({col: 'object'}) # ensure column can hold strings\n",
    "        table_edu.loc[table_edu['Method'] == 'graduate degree', col] = f\"{row_graduate[col]:.2f}*\"\n",
    "\n",
    "table_edu"
   ]
  },
  {
   "cell_type": "code",
   "execution_count": 21,
   "metadata": {},
   "outputs": [
    {
     "data": {
      "text/html": [
       "<div>\n",
       "<style scoped>\n",
       "    .dataframe tbody tr th:only-of-type {\n",
       "        vertical-align: middle;\n",
       "    }\n",
       "\n",
       "    .dataframe tbody tr th {\n",
       "        vertical-align: top;\n",
       "    }\n",
       "\n",
       "    .dataframe thead th {\n",
       "        text-align: right;\n",
       "    }\n",
       "</style>\n",
       "<table border=\"1\" class=\"dataframe\">\n",
       "  <thead>\n",
       "    <tr style=\"text-align: right;\">\n",
       "      <th></th>\n",
       "      <th>Method</th>\n",
       "      <th>MMLU-Pro</th>\n",
       "      <th>GPQA-Diamond</th>\n",
       "      <th>Average</th>\n",
       "    </tr>\n",
       "  </thead>\n",
       "  <tbody>\n",
       "    <tr>\n",
       "      <th>0</th>\n",
       "      <td>in_domain</td>\n",
       "      <td>0.40*</td>\n",
       "      <td>0.29</td>\n",
       "      <td>0.4</td>\n",
       "    </tr>\n",
       "    <tr>\n",
       "      <th>1</th>\n",
       "      <td>out_domain</td>\n",
       "      <td>0.41</td>\n",
       "      <td>0.29</td>\n",
       "      <td>0.4</td>\n",
       "    </tr>\n",
       "  </tbody>\n",
       "</table>\n",
       "</div>"
      ],
      "text/plain": [
       "       Method MMLU-Pro  GPQA-Diamond  Average\n",
       "0   in_domain    0.40*          0.29      0.4\n",
       "1  out_domain     0.41          0.29      0.4"
      ]
     },
     "execution_count": 21,
     "metadata": {},
     "output_type": "execute_result"
    }
   ],
   "source": [
    "benchmarks = [\"MMLU-Pro\", \"GPQA-Diamond\"]\n",
    "table_domain = pd.DataFrame(columns = [\"Method\", \"MMLU-Pro\", \"GPQA-Diamond\",\"Average\"])\n",
    "list_domain = ['in_domain', 'out_domain']\n",
    "\n",
    "domain_results = {}\n",
    "domain_results['Average'] = {e: [] for e in list_domain}\n",
    "for benchmark in benchmarks:\n",
    "    with open(f'../data/{benchmark}/results/domain_2nd.pkl', 'rb') as f:\n",
    "        retrieved_results = pickle.load(f)\n",
    "        domain_results[benchmark] = retrieved_results\n",
    "        domain_results['Average']['in_domain'].extend(retrieved_results['in_domain'])\n",
    "        domain_results['Average']['out_domain'].extend(retrieved_results['out_domain'])\n",
    "        \n",
    "\n",
    "for domain in list_domain:\n",
    "    row = [domain]\n",
    "    for benchmark in [\"MMLU-Pro\", \"GPQA-Diamond\", \"Average\"]:\n",
    "        accuracy = np.mean([r['r'] == r['answer'] for r in domain_results[benchmark][domain]])\n",
    "        row.append(round(accuracy, 2))\n",
    "    table_domain.loc[len(table_domain)] = row\n",
    "\n",
    "\n",
    "# Apply significance marking\n",
    "columns_to_check = table_domain.columns[1:]  # include all benchmarks + 'Average'\n",
    "row_in_domain = table_domain[table_domain['Method'] == 'in_domain'].iloc[0]\n",
    "\n",
    "for col in columns_to_check:\n",
    "    values = table_domain[col]\n",
    "    sorted_vals = sorted(values)\n",
    "    second_min = sorted_vals[1] if values[table_domain['Method'] == 'in_domain'].values[0] == sorted_vals[0] else sorted_vals[0]\n",
    "    second_min_method = values[values == second_min].index[0]\n",
    "    second_min_method = list_domain[second_min_method]\n",
    "    \n",
    "    # Get per-sample accuracy lists\n",
    "    vals_2nd = [r['r'] == r['answer'] for r in domain_results[col]['in_domain']]\n",
    "    vals_comp = [r['r'] == r['answer'] for r in domain_results[col][second_min_method]]\n",
    "\n",
    "    # Run paired t-test\n",
    "    t_stat, p_value = ttest_rel(np.array(vals_2nd, dtype=float), np.array(vals_comp, dtype=float))\n",
    "\n",
    "    if p_value < 0.05:\n",
    "        table_domain = table_domain.astype({col: 'object'}) # ensure column can hold strings\n",
    "        table_domain.loc[table_domain['Method'] == 'in_domain', col] = f\"{row_in_domain[col]:.2f}*\"\n",
    "\n",
    "table_domain"
   ]
  },
  {
   "cell_type": "code",
   "execution_count": 22,
   "metadata": {},
   "outputs": [
    {
     "data": {
      "text/html": [
       "<div>\n",
       "<style scoped>\n",
       "    .dataframe tbody tr th:only-of-type {\n",
       "        vertical-align: middle;\n",
       "    }\n",
       "\n",
       "    .dataframe tbody tr th {\n",
       "        vertical-align: top;\n",
       "    }\n",
       "\n",
       "    .dataframe thead th {\n",
       "        text-align: right;\n",
       "    }\n",
       "</style>\n",
       "<table border=\"1\" class=\"dataframe\">\n",
       "  <thead>\n",
       "    <tr style=\"text-align: right;\">\n",
       "      <th></th>\n",
       "      <th>Method</th>\n",
       "      <th>MMLU-Pro</th>\n",
       "      <th>GPQA-Diamond</th>\n",
       "      <th>SIQA</th>\n",
       "      <th>Average</th>\n",
       "    </tr>\n",
       "  </thead>\n",
       "  <tbody>\n",
       "    <tr>\n",
       "      <th>0</th>\n",
       "      <td>employer</td>\n",
       "      <td>0.40*</td>\n",
       "      <td>0.27</td>\n",
       "      <td>0.74*</td>\n",
       "      <td>0.44*</td>\n",
       "    </tr>\n",
       "    <tr>\n",
       "      <th>1</th>\n",
       "      <td>employee</td>\n",
       "      <td>0.41</td>\n",
       "      <td>0.27</td>\n",
       "      <td>0.76</td>\n",
       "      <td>0.45</td>\n",
       "    </tr>\n",
       "  </tbody>\n",
       "</table>\n",
       "</div>"
      ],
      "text/plain": [
       "     Method MMLU-Pro  GPQA-Diamond   SIQA Average\n",
       "0  employer    0.40*          0.27  0.74*   0.44*\n",
       "1  employee     0.41          0.27   0.76    0.45"
      ]
     },
     "execution_count": 22,
     "metadata": {},
     "output_type": "execute_result"
    }
   ],
   "source": [
    "benchmarks = [\"MMLU-Pro\", \"GPQA-Diamond\", \"SIQA\"]\n",
    "table_domain = pd.DataFrame(columns = [\"Method\"]+benchmarks+[\"Average\"])\n",
    "list_domain = ['employer', 'employee']\n",
    "\n",
    "domain_results = {}\n",
    "domain_results['Average'] = {e: [] for e in list_domain}\n",
    "for benchmark in benchmarks:\n",
    "    with open(f'../data/{benchmark}/results/hierarchy_2nd.pkl', 'rb') as f:\n",
    "        retrieved_results = pickle.load(f)\n",
    "        domain_results[benchmark] = retrieved_results\n",
    "        domain_results['Average']['employer'].extend(retrieved_results['employer'])\n",
    "        domain_results['Average']['employee'].extend(retrieved_results['employee'])\n",
    "        \n",
    "\n",
    "for domain in list_domain:\n",
    "    row = [domain]\n",
    "    for benchmark in benchmarks+[\"Average\"]:\n",
    "        accuracy = np.mean([r['r'] == r['answer'] for r in domain_results[benchmark][domain]])\n",
    "        row.append(round(accuracy, 2))\n",
    "    table_domain.loc[len(table_domain)] = row\n",
    "\n",
    "\n",
    "# Apply significance marking\n",
    "columns_to_check = table_domain.columns[1:]  # include all benchmarks + 'Average'\n",
    "row_in_domain = table_domain[table_domain['Method'] == 'employer'].iloc[0]\n",
    "\n",
    "for col in columns_to_check:\n",
    "    values = table_domain[col]\n",
    "    sorted_vals = sorted(values)\n",
    "    second_min = sorted_vals[1] if values[table_domain['Method'] == 'employer'].values[0] == sorted_vals[0] else sorted_vals[0]\n",
    "    second_min_method = values[values == second_min].index[0]\n",
    "    second_min_method = list_domain[second_min_method]\n",
    "    \n",
    "    # Get per-sample accuracy lists\n",
    "    vals_2nd = [r['r'] == r['answer'] for r in domain_results[col]['employer']]\n",
    "    vals_comp = [r['r'] == r['answer'] for r in domain_results[col][second_min_method]]\n",
    "\n",
    "    # Run paired t-test\n",
    "    t_stat, p_value = ttest_rel(np.array(vals_2nd, dtype=float), np.array(vals_comp, dtype=float))\n",
    "\n",
    "    if p_value < 0.05:\n",
    "        table_domain = table_domain.astype({col: 'object'}) # ensure column can hold strings\n",
    "        table_domain.loc[table_domain['Method'] == 'employer', col] = f\"{row_in_domain[col]:.2f}*\"\n",
    "\n",
    "table_domain"
   ]
  },
  {
   "cell_type": "markdown",
   "metadata": {},
   "source": [
    "### self/peer confidence heatmap"
   ]
  },
  {
   "cell_type": "code",
   "execution_count": null,
   "metadata": {},
   "outputs": [],
   "source": [
    "objective_results = []\n",
    "subjective_results = []\n",
    "for benchmark in [\"OpinionQA\", \"SIQA\", \"GlobalOpinionQA\"]:\n",
    "    for disagree_type in ['2nd', 'rnd', 'lst']:\n",
    "        PATH = f'../data/{benchmark}/results/one_{disagree_type}.pkl'\n",
    "        with open(PATH, 'rb') as f:\n",
    "            subjective_results.extend(pickle.load(f))\n",
    "\n",
    "for benchmark in [\"MMLU-Pro\", \"GPQA-Diamond\", \"ARC\"]:\n",
    "    for disagree_type in ['2nd', 'rnd', 'lst']:\n",
    "        PATH = f'../data/{benchmark}/results/one_{disagree_type}.pkl'\n",
    "        with open(PATH, 'rb') as f:\n",
    "            objective_results.extend(pickle.load(f))\n",
    "\n",
    "results = objective_results + subjective_results\n",
    "\n",
    "# Extract accuracy and confidence\n",
    "# accuracy = np.array([r['r'] == r['answer'] for r in results])\n",
    "flip_rate = np.array([r['r'] != r['r^org'] for r in results])\n",
    "self_conf = np.array([r['p_r^org'] for r in results])\n",
    "other_conf = np.array([r['p_r_j'] for r in results])\n",
    "\n",
    "# Bin confidence scores into 10 bins from 0 to 1\n",
    "bins = np.linspace(0, 1, 11)\n",
    "row_bin_indices = np.digitize(other_conf, bins) - 1  # Adjust bin index to start at 0\n",
    "col_bin_indices = np.digitize(self_conf, bins) - 1\n",
    "\n",
    "heatmap_matrix = np.zeros((10, 10))\n",
    "for i in range(10):\n",
    "    for j in range(10):\n",
    "        indices = (row_bin_indices == i) & (col_bin_indices == j)\n",
    "        if np.any(indices):\n",
    "            avg_acc = flip_rate[indices].mean()\n",
    "        else:\n",
    "            avg_acc = np.nan\n",
    "        heatmap_matrix[i, j] = avg_acc\n",
    "\n",
    "row_labels = ['{:.2f}'.format(i/10) for i in range(10)]\n",
    "col_labels = ['{:.2f}'.format(i/10) for i in range(10)]\n",
    "x_label = 'Self-Confidence'\n",
    "y_label = 'Perceived Confidence'\n",
    "# title = 'Flip Rate vs Self/Peer Confidence'\n",
    "vlimit = (0, 1)\n",
    "df = pd.DataFrame(heatmap_matrix, index=row_labels, columns=col_labels)\n",
    "df = df.iloc[::-1]\n",
    "df = df.dropna(how='all')\n",
    "\n",
    "plt.figure(figsize=(8, 4), dpi=300)\n",
    "\n",
    "if vlimit:\n",
    "    vmin, vmax = vlimit\n",
    "    sns.heatmap(df, annot=True, cmap=\"coolwarm\", fmt=\".2f\", linewidths=0.5, vmin=vmin, vmax=vmax)\n",
    "else:\n",
    "    sns.heatmap(df, annot=True, cmap=\"coolwarm\", fmt=\".2f\", linewidths=0.5)\n",
    "\n",
    "plt.xlabel(x_label, fontsize=16)\n",
    "plt.ylabel(y_label, fontsize=16)\n",
    "plt.xticks(fontsize=12)\n",
    "plt.yticks(fontsize=12)\n",
    "# plt.title(title)\n",
    "plt.show()\n"
   ]
  },
  {
   "cell_type": "markdown",
   "metadata": {},
   "source": [
    "### diff in self/peer confidence or objective/subjective"
   ]
  },
  {
   "cell_type": "code",
   "execution_count": 25,
   "metadata": {},
   "outputs": [],
   "source": [
    "df_objective = pd.DataFrame()\n",
    "df_objective[\"p_r^org\"] = [r['p_r^org'] for r in objective_results]\n",
    "df_objective[\"p_r_j\"] = [r['p_r_j'] for r in objective_results]\n",
    "df_objective[\"change\"] = [r['r'] == r['r_j'] for r in objective_results]\n",
    "df_objective[\"task\"] = \"objective\"\n",
    "\n",
    "df_subjective = pd.DataFrame()\n",
    "df_subjective[\"p_r^org\"] = [r['p_r^org'] for r in subjective_results]\n",
    "df_subjective[\"p_r_j\"] = [r['p_r_j'] for r in subjective_results]\n",
    "df_subjective[\"change\"] = [r['r'] == r['r_j'] for r in subjective_results]\n",
    "df_subjective[\"task\"] = \"subjective\"\n",
    "\n",
    "df_all = pd.concat([df_objective, df_subjective], ignore_index=True)\n",
    "df_all[\"diff_p\"] = df_all[\"p_r^org\"] - df_all[\"p_r_j\"]"
   ]
  },
  {
   "cell_type": "code",
   "execution_count": 26,
   "metadata": {},
   "outputs": [
    {
     "name": "stdout",
     "output_type": "stream",
     "text": [
      "Optimization terminated successfully.\n",
      "         Current function value: 0.466880\n",
      "         Iterations 6\n",
      "                           Logit Regression Results                           \n",
      "==============================================================================\n",
      "Dep. Variable:                 change   No. Observations:                58251\n",
      "Model:                          Logit   Df Residuals:                    58247\n",
      "Method:                           MLE   Df Model:                            3\n",
      "Date:                Sat, 17 May 2025   Pseudo R-squ.:                  0.2072\n",
      "Time:                        03:11:51   Log-Likelihood:                -27196.\n",
      "converged:                       True   LL-Null:                       -34306.\n",
      "Covariance Type:            nonrobust   LLR p-value:                     0.000\n",
      "=============================================================================================\n",
      "                                coef    std err          z      P>|z|      [0.025      0.975]\n",
      "---------------------------------------------------------------------------------------------\n",
      "Intercept                     1.5433      0.033     46.597      0.000       1.478       1.608\n",
      "task[T.subjective]            3.3019      0.128     25.781      0.000       3.051       3.553\n",
      "diff_p                       -4.0058      0.047    -85.739      0.000      -4.097      -3.914\n",
      "task[T.subjective]:diff_p    -1.7649      0.139    -12.669      0.000      -2.038      -1.492\n",
      "=============================================================================================\n"
     ]
    }
   ],
   "source": [
    "import pandas as pd\n",
    "import statsmodels.formula.api as smf\n",
    "\n",
    "# Convert 'change' to integer (0/1)\n",
    "df_all['change'] = df_all['change'].astype(int)\n",
    "\n",
    "# Ensure 'task' is a categorical variable\n",
    "df_all['task'] = df_all['task'].astype('category')\n",
    "\n",
    "# Fit logistic regression model\n",
    "model = smf.logit(formula='change ~ diff_p + task + task * diff_p', data=df_all).fit()\n",
    "\n",
    "# Show summary\n",
    "print(model.summary())"
   ]
  },
  {
   "cell_type": "code",
   "execution_count": 27,
   "metadata": {},
   "outputs": [
    {
     "data": {
      "image/png": "[encoded data removed]",
      "text/plain": [
       "<Figure size 800x400 with 1 Axes>"
      ]
     },
     "metadata": {},
     "output_type": "display_data"
    }
   ],
   "source": [
    "import numpy as np\n",
    "import matplotlib.pyplot as plt\n",
    "import seaborn as sns\n",
    "\n",
    "# Prepare prediction range\n",
    "diff_p_range = np.linspace(df_all[\"diff_p\"].min(), df_all[\"diff_p\"].max(), 100)\n",
    "\n",
    "# Create a dataframe for predictions\n",
    "predict_df = pd.DataFrame({\n",
    "    \"diff_p\": np.tile(diff_p_range, 2),\n",
    "    \"task\": np.repeat([\"objective\", \"subjective\"], len(diff_p_range))\n",
    "})\n",
    "\n",
    "# Predict probabilities\n",
    "predict_df[\"change_prob\"] = model.predict(predict_df)\n",
    "\n",
    "# Plot\n",
    "plt.figure(figsize=(8, 4))\n",
    "sns.lineplot(data=predict_df, x=\"diff_p\", y=\"change_prob\", hue=\"task\")\n",
    "plt.title(\"Flip Rate vs. Confidence Difference\")\n",
    "plt.xlabel(\"Confidence Difference (p_r^org - p_r_j)\")\n",
    "plt.ylabel(\"Flip Rate\")\n",
    "plt.axvline(0, color='gray', linestyle='--', linewidth=1)\n",
    "plt.legend(title=\"Task Type\")\n",
    "plt.grid(True)\n",
    "plt.tight_layout()\n",
    "plt.show()"
   ]
  },
  {
   "cell_type": "markdown",
   "metadata": {},
   "source": [
    "## C2: Format of Peer Information"
   ]
  },
  {
   "cell_type": "markdown",
   "metadata": {},
   "source": [
    "### Data Sampling (200 cap)"
   ]
  },
  {
   "cell_type": "code",
   "execution_count": null,
   "metadata": {},
   "outputs": [],
   "source": [
    "# benchmarks = [\"MMLU-Pro\", \"GPQA-Diamond\", \"ARC\", \"OpinionQA\", \"GlobalOpinionQA\", \"SIQA\"]\n",
    "# for benchmark in benchmarks:\n",
    "#     with open(f'../data/{benchmark}/results/org.pkl', 'rb') as f:\n",
    "#         res_org = pickle.load(f)\n",
    "#     sample_size = min(200, len(res_org))\n",
    "#     sample_res_org = random.Random(benchmark).sample(res_org, sample_size)\n",
    "#     with open(f'../data/{benchmark}/sample_results/org.pkl', 'wb') as f:\n",
    "#         pickle.dump(sample_res_org, f)\n",
    "    "
   ]
  },
  {
   "cell_type": "markdown",
   "metadata": {},
   "source": [
    "### Data Generation"
   ]
  },
  {
   "cell_type": "code",
   "execution_count": null,
   "metadata": {},
   "outputs": [],
   "source": [
    "benchmarks = [\"MMLU-Pro\", \"GPQA-Diamond\", \"ARC\", \"OpinionQA\", \"GlobalOpinionQA\", \"SIQA\"]\n",
    "factual = [\"MMLU-Pro\", \"GPQA-Diamond\", \"ARC\"]\n",
    "opinion = [\"OpinionQA\", \"GlobalOpinionQA\", \"SIQA\"]\n",
    "\n",
    "for benchmark in benchmarks:\n",
    "\n",
    "    with open(f'../data/{benchmark}/sample_results/org.pkl', 'rb') as f:\n",
    "        res_org = pickle.load(f)\n",
    "\n",
    "    input_feat_list = []\n",
    "    for disagree_size in range(1, 11): # row\n",
    "        input_row = []\n",
    "        for agree_size in range(1, 11): # column\n",
    "            \n",
    "            eval_feat = {\n",
    "                'type': 'grp_count',\n",
    "                'agree_size': agree_size,\n",
    "                'disagree_size': disagree_size,\n",
    "                'disagree_type': '2nd',\n",
    "                'q_type': 'factual' if benchmark in factual else 'opinion',\n",
    "                'order': 'random'\n",
    "            }\n",
    "            input_row.append(eval_feat)\n",
    "        input_feat_list.append(input_row)\n",
    "\n",
    "    results, accuracy = qa.qa_eval_matrix(res_org, input_feat_list)\n",
    "\n",
    "    with open(f'../data/{benchmark}/sample_results/grp_count_10.pkl', 'wb') as f:\n",
    "        pickle.dump(results, f)\n"
   ]
  },
  {
   "cell_type": "code",
   "execution_count": null,
   "metadata": {},
   "outputs": [],
   "source": [
    "benchmarks = [\"MMLU-Pro\", \"GPQA-Diamond\", \"ARC\", \"OpinionQA\", \"GlobalOpinionQA\", \"SIQA\"]\n",
    "factual = [\"MMLU-Pro\", \"GPQA-Diamond\", \"ARC\"]\n",
    "opinion = [\"OpinionQA\", \"GlobalOpinionQA\", \"SIQA\"]\n",
    "\n",
    "for benchmark in benchmarks:\n",
    "\n",
    "    with open(f'../data/{benchmark}/sample_results/org.pkl', 'rb') as f:\n",
    "        res_org = pickle.load(f)\n",
    "\n",
    "\n",
    "    input_feat_list = []\n",
    "    for disagree_size in range(1, 11): # row\n",
    "        input_row = []\n",
    "        for agree_size in range(1, 11): # column\n",
    "\n",
    "            eval_feat = {\n",
    "                'type': 'grp_ratio',\n",
    "                'agree_size': agree_size,\n",
    "                'disagree_size': disagree_size,\n",
    "                'disagree_type': '2nd',\n",
    "                'q_type': 'factual' if benchmark in factual else 'opinion',\n",
    "                'order': 'random'\n",
    "            }\n",
    "            input_row.append(eval_feat)\n",
    "        input_feat_list.append(input_row)\n",
    "\n",
    "    results, accuracy = qa.qa_eval_matrix(res_org, input_feat_list)\n",
    "\n",
    "    with open(f'../data/{benchmark}/sample_results/grp_ratio_10.pkl', 'wb') as f:\n",
    "        pickle.dump(results, f)"
   ]
  },
  {
   "cell_type": "code",
   "execution_count": null,
   "metadata": {},
   "outputs": [],
   "source": [
    "benchmarks = [\"MMLU-Pro\", \"GPQA-Diamond\", \"ARC\", \"OpinionQA\", \"GlobalOpinionQA\", \"SIQA\"]\n",
    "factual = [\"MMLU-Pro\", \"GPQA-Diamond\", \"ARC\"]\n",
    "opinion = [\"OpinionQA\", \"GlobalOpinionQA\", \"SIQA\"]\n",
    "\n",
    "for benchmark in benchmarks:\n",
    "\n",
    "    with open(f'../data/{benchmark}/sample_results/org.pkl', 'rb') as f:\n",
    "        res_org = pickle.load(f)\n",
    "\n",
    "\n",
    "    input_feat_list = []\n",
    "    for disagree_size in range(1, 11): # row\n",
    "        input_row = []\n",
    "        for agree_size in range(1, 11): # column\n",
    "            \n",
    "            eval_feat = {\n",
    "                'type': 'grp_list',\n",
    "                'agree_size': agree_size,\n",
    "                'disagree_size': disagree_size,\n",
    "                'disagree_type': '2nd',\n",
    "                'q_type': 'factual' if benchmark in factual else 'opinion',\n",
    "                'order': 'random'\n",
    "            }\n",
    "            input_row.append(eval_feat)\n",
    "        input_feat_list.append(input_row)\n",
    "\n",
    "    results, accuracy = qa.qa_eval_matrix(res_org, input_feat_list)\n",
    "\n",
    "    with open(f'../data/{benchmark}/sample_results/grp_list_10.pkl', 'wb') as f:\n",
    "        pickle.dump(results, f)"
   ]
  },
  {
   "cell_type": "code",
   "execution_count": null,
   "metadata": {},
   "outputs": [],
   "source": [
    "benchmarks = [\"MMLU-Pro\", \"GPQA-Diamond\", \"ARC\", \"OpinionQA\", \"GlobalOpinionQA\", \"SIQA\"]\n",
    "factual = [\"MMLU-Pro\", \"GPQA-Diamond\", \"ARC\"]\n",
    "opinion = [\"OpinionQA\", \"GlobalOpinionQA\", \"SIQA\"]\n",
    "\n",
    "for benchmark in benchmarks:\n",
    "\n",
    "    with open(f'../data/{benchmark}/sample_results/org.pkl', 'rb') as f:\n",
    "        res_org = pickle.load(f)\n",
    "\n",
    "    org_reason = qa.qa_generate_reason(res_org, '2nd', 10)\n",
    "\n",
    "    with open(f'../data/{benchmark}/sample_results/org_reason_10.pkl', 'wb') as f:\n",
    "        pickle.dump(org_reason, f)"
   ]
  },
  {
   "cell_type": "code",
   "execution_count": null,
   "metadata": {},
   "outputs": [],
   "source": [
    "benchmarks = [\"MMLU-Pro\", \"GPQA-Diamond\", \"ARC\", \"OpinionQA\", \"GlobalOpinionQA\", \"SIQA\"]\n",
    "factual = [\"MMLU-Pro\", \"GPQA-Diamond\", \"ARC\"]\n",
    "opinion = [\"OpinionQA\", \"GlobalOpinionQA\", \"SIQA\"]\n",
    "\n",
    "for benchmark in benchmarks:\n",
    "\n",
    "    with open(f'../data/{benchmark}/sample_results/org_reason_10.pkl', 'rb') as f:\n",
    "        org_reason = pickle.load(f)\n",
    "\n",
    "    input_feat_list = []\n",
    "    for disagree_size in range(1, 11): # row\n",
    "        input_row = []\n",
    "        for agree_size in range(1, 11): # column\n",
    "\n",
    "            eval_feat = {\n",
    "                'type': 'grp_disc',\n",
    "                'agree_size': agree_size,\n",
    "                'disagree_size': disagree_size,\n",
    "                'disagree_type': '2nd',\n",
    "                'q_type': 'factual' if benchmark in factual else 'opinion',\n",
    "                'order': 'random',\n",
    "                'use_reason': False\n",
    "            }\n",
    "            input_row.append(eval_feat)\n",
    "        input_feat_list.append(input_row)\n",
    "\n",
    "    results, accuracy = qa.qa_eval_matrix(org_reason, input_feat_list)\n",
    "\n",
    "    with open(f'../data/{benchmark}/sample_results/grp_disc_10.pkl', 'wb') as f:\n",
    "        pickle.dump(results, f)"
   ]
  },
  {
   "cell_type": "code",
   "execution_count": null,
   "metadata": {},
   "outputs": [],
   "source": [
    "benchmarks = [\"MMLU-Pro\", \"GPQA-Diamond\", \"ARC\", \"OpinionQA\", \"GlobalOpinionQA\", \"SIQA\"]\n",
    "factual = [\"MMLU-Pro\", \"GPQA-Diamond\", \"ARC\"]\n",
    "opinion = [\"OpinionQA\", \"GlobalOpinionQA\", \"SIQA\"]\n",
    "\n",
    "for benchmark in benchmarks:\n",
    "\n",
    "    with open(f'../data/{benchmark}/sample_results/org_reason_10.pkl', 'rb') as f:\n",
    "        org_reason = pickle.load(f)\n",
    "\n",
    "    input_feat_list = []\n",
    "    for disagree_size in range(1, 11): # row\n",
    "        input_row = []\n",
    "        for agree_size in range(1, 11): # column\n",
    "\n",
    "            eval_feat = {\n",
    "                'type': 'grp_disc',\n",
    "                'agree_size': agree_size,\n",
    "                'disagree_size': disagree_size,\n",
    "                'disagree_type': '2nd',\n",
    "                'q_type': 'factual' if benchmark in factual else 'opinion',\n",
    "                'order': 'random',\n",
    "                'use_reason': True\n",
    "            }\n",
    "            input_row.append(eval_feat)\n",
    "        input_feat_list.append(input_row)\n",
    "\n",
    "    results, accuracy = qa.qa_eval_matrix(org_reason, input_feat_list)\n",
    "\n",
    "    with open(f'../data/{benchmark}/sample_results/grp_reason_10.pkl', 'wb') as f:\n",
    "        pickle.dump(results, f)"
   ]
  },
  {
   "cell_type": "markdown",
   "metadata": {},
   "source": [
    "### Table 3: Format of Peer Information"
   ]
  },
  {
   "cell_type": "code",
   "execution_count": 30,
   "metadata": {},
   "outputs": [],
   "source": [
    "def flatten(nested_list):\n",
    "    flat = []\n",
    "    for item in nested_list:\n",
    "        if isinstance(item, list):\n",
    "            flat.extend(flatten(item))\n",
    "        else:\n",
    "            flat.append(item)\n",
    "    return flat\n",
    "\n",
    "def p_value_to_stars(p_value):\n",
    "    if p_value < 0.001:\n",
    "        return \"***\"\n",
    "    elif p_value < 0.01:\n",
    "        return \"**\"\n",
    "    elif p_value < 0.05:\n",
    "        return \"*\"\n",
    "    else:\n",
    "        return \"\""
   ]
  },
  {
   "cell_type": "code",
   "execution_count": 19,
   "metadata": {},
   "outputs": [],
   "source": [
    "factual = [\"MMLU-Pro\", \"GPQA-Diamond\", \"ARC\"]\n",
    "opinion = [\"OpinionQA\", \"GlobalOpinionQA\", \"SIQA\"]\n",
    "method_list = ['grp_count', 'grp_ratio', 'grp_list', 'grp_disc', 'grp_reason']\n",
    "\n",
    "table2 = pd.DataFrame(columns = [\"Method\", \n",
    "                                 'Mean Flip Rate - Factual', 'Mean Flip Rate - Opinion',\n",
    "                                 '#A - Factual', '#A - Opinion',\n",
    "                                 '#D - Factual', '#D - Opinion',\n",
    "                                 '#A - D - Factual', '#A - D - Opinion',])\n",
    "\n",
    "for method in method_list:\n",
    "    target_row = [method]\n",
    "    factual_results = []\n",
    "    opinion_results = []\n",
    "    for benchmark in factual:\n",
    "        with open(f'../data/{benchmark}/sample_results/{method}_10.pkl', 'rb') as f:\n",
    "            factual_results.append(pickle.load(f)['data'])\n",
    "    for benchmark in opinion:\n",
    "        with open(f'../data/{benchmark}/sample_results/{method}_10.pkl', 'rb') as f:\n",
    "            opinion_results.append(pickle.load(f)['data'])\n",
    "\n",
    "    factual_results = flatten(factual_results)\n",
    "    opinion_results = flatten(opinion_results)\n",
    "\n",
    "    # Mean\n",
    "    for results in [factual_results, opinion_results]:\n",
    "        flip_list = [int(x['r'] != x['r^org']) for x in results]\n",
    "        mean_flip_rate = np.mean(flip_list)\n",
    "        target_row.append(round(mean_flip_rate, 4))\n",
    "\n",
    "    # number of agree\n",
    "    for results in [factual_results, opinion_results]:\n",
    "        flip_list = [int(x['r'] != x['r^org']) for x in results]\n",
    "        try:\n",
    "            agree_size_list = [x['agree_size'] for x in results]\n",
    "        except:\n",
    "            agree_size_list = [round(x['group_size']*(1-x['disagree_ratio'])) for x in results]\n",
    "        r_value, p_value = pearsonr(flip_list, agree_size_list)\n",
    "        target_row.append(f\"{r_value:.2f}{p_value_to_stars(p_value)}\")\n",
    "\n",
    "    # number of disagree\n",
    "    for results in [factual_results, opinion_results]:\n",
    "        flip_list = [int(x['r'] != x['r^org']) for x in results]\n",
    "        try:\n",
    "            disagree_size_list = [x['disagree_size'] for x in results]\n",
    "        except:\n",
    "            disagree_size_list = [round(x['group_size']*x['disagree_ratio']) for x in results]\n",
    "        r_value, p_value = pearsonr(flip_list, disagree_size_list)\n",
    "        target_row.append(f\"{r_value:.2f}{p_value_to_stars(p_value)}\")\n",
    "\n",
    "    # number of agree - disagree\n",
    "    for results in [factual_results, opinion_results]:\n",
    "        flip_list = [int(x['r'] != x['r^org']) for x in results]\n",
    "        try:\n",
    "            agree_size_list = [x['agree_size'] for x in results]\n",
    "        except:\n",
    "            agree_size_list = [round(x['group_size']*(1-x['disagree_ratio'])) for x in results]\n",
    "        try:\n",
    "            disagree_size_list = [x['disagree_size'] for x in results]\n",
    "        except:\n",
    "            disagree_size_list = [round(x['group_size']*x['disagree_ratio']) for x in results]\n",
    "        agree_diff_list = np.array(agree_size_list) - np.array(disagree_size_list)\n",
    "        r_value, p_value = pearsonr(flip_list, agree_diff_list)\n",
    "        target_row.append(f\"{r_value:.2f}{p_value_to_stars(p_value)}\")\n",
    "\n",
    "    table2.loc[len(table2)] = target_row"
   ]
  },
  {
   "cell_type": "code",
   "execution_count": 20,
   "metadata": {},
   "outputs": [
    {
     "data": {
      "text/html": [
       "<div>\n",
       "<style scoped>\n",
       "    .dataframe tbody tr th:only-of-type {\n",
       "        vertical-align: middle;\n",
       "    }\n",
       "\n",
       "    .dataframe tbody tr th {\n",
       "        vertical-align: top;\n",
       "    }\n",
       "\n",
       "    .dataframe thead th {\n",
       "        text-align: right;\n",
       "    }\n",
       "</style>\n",
       "<table border=\"1\" class=\"dataframe\">\n",
       "  <thead>\n",
       "    <tr style=\"text-align: right;\">\n",
       "      <th></th>\n",
       "      <th>Method</th>\n",
       "      <th>Mean Flip Rate - Factual</th>\n",
       "      <th>Mean Flip Rate - Opinion</th>\n",
       "      <th>#A - Factual</th>\n",
       "      <th>#A - Opinion</th>\n",
       "      <th>#D - Factual</th>\n",
       "      <th>#D - Opinion</th>\n",
       "      <th>#A - D - Factual</th>\n",
       "      <th>#A - D - Opinion</th>\n",
       "    </tr>\n",
       "  </thead>\n",
       "  <tbody>\n",
       "    <tr>\n",
       "      <th>0</th>\n",
       "      <td>grp_count</td>\n",
       "      <td>0.2154</td>\n",
       "      <td>0.2694</td>\n",
       "      <td>-0.17***</td>\n",
       "      <td>-0.36***</td>\n",
       "      <td>0.16***</td>\n",
       "      <td>0.31***</td>\n",
       "      <td>-0.23***</td>\n",
       "      <td>-0.47***</td>\n",
       "    </tr>\n",
       "    <tr>\n",
       "      <th>1</th>\n",
       "      <td>grp_ratio</td>\n",
       "      <td>0.2226</td>\n",
       "      <td>0.3046</td>\n",
       "      <td>-0.28***</td>\n",
       "      <td>-0.41***</td>\n",
       "      <td>0.25***</td>\n",
       "      <td>0.38***</td>\n",
       "      <td>-0.37***</td>\n",
       "      <td>-0.56***</td>\n",
       "    </tr>\n",
       "    <tr>\n",
       "      <th>2</th>\n",
       "      <td>grp_list</td>\n",
       "      <td>0.2093</td>\n",
       "      <td>0.2954</td>\n",
       "      <td>-0.17***</td>\n",
       "      <td>-0.22***</td>\n",
       "      <td>0.15***</td>\n",
       "      <td>0.22***</td>\n",
       "      <td>-0.23***</td>\n",
       "      <td>-0.31***</td>\n",
       "    </tr>\n",
       "    <tr>\n",
       "      <th>3</th>\n",
       "      <td>grp_disc</td>\n",
       "      <td>0.2088</td>\n",
       "      <td>0.2824</td>\n",
       "      <td>-0.11***</td>\n",
       "      <td>-0.24***</td>\n",
       "      <td>0.09***</td>\n",
       "      <td>0.23***</td>\n",
       "      <td>-0.14***</td>\n",
       "      <td>-0.33***</td>\n",
       "    </tr>\n",
       "    <tr>\n",
       "      <th>4</th>\n",
       "      <td>grp_reason</td>\n",
       "      <td>0.2967</td>\n",
       "      <td>0.2957</td>\n",
       "      <td>-0.05***</td>\n",
       "      <td>-0.11***</td>\n",
       "      <td>0.05***</td>\n",
       "      <td>0.11***</td>\n",
       "      <td>-0.07***</td>\n",
       "      <td>-0.15***</td>\n",
       "    </tr>\n",
       "  </tbody>\n",
       "</table>\n",
       "</div>"
      ],
      "text/plain": [
       "       Method  Mean Flip Rate - Factual  Mean Flip Rate - Opinion  \\\n",
       "0   grp_count                    0.2154                    0.2694   \n",
       "1   grp_ratio                    0.2226                    0.3046   \n",
       "2    grp_list                    0.2093                    0.2954   \n",
       "3    grp_disc                    0.2088                    0.2824   \n",
       "4  grp_reason                    0.2967                    0.2957   \n",
       "\n",
       "  #A - Factual #A - Opinion #D - Factual #D - Opinion #A - D - Factual  \\\n",
       "0     -0.17***     -0.36***      0.16***      0.31***         -0.23***   \n",
       "1     -0.28***     -0.41***      0.25***      0.38***         -0.37***   \n",
       "2     -0.17***     -0.22***      0.15***      0.22***         -0.23***   \n",
       "3     -0.11***     -0.24***      0.09***      0.23***         -0.14***   \n",
       "4     -0.05***     -0.11***      0.05***      0.11***         -0.07***   \n",
       "\n",
       "  #A - D - Opinion  \n",
       "0         -0.47***  \n",
       "1         -0.56***  \n",
       "2         -0.31***  \n",
       "3         -0.33***  \n",
       "4         -0.15***  "
      ]
     },
     "execution_count": 20,
     "metadata": {},
     "output_type": "execute_result"
    }
   ],
   "source": [
    "table2"
   ]
  },
  {
   "cell_type": "markdown",
   "metadata": {},
   "source": [
    "### Figure 1: Format of Peer Information"
   ]
  },
  {
   "cell_type": "code",
   "execution_count": null,
   "metadata": {},
   "outputs": [],
   "source": [
    "import plot\n",
    "importlib.reload(plot)\n",
    "import plot\n",
    "\n",
    "benchmarks = [\"MMLU-Pro\", \"GPQA-Diamond\", \"ARC\", \"OpinionQA\", \"GlobalOpinionQA\", \"SIQA\"]\n",
    "method_list = ['grp_count', 'grp_ratio', 'grp_list', 'grp_disc', 'grp_reason']\n",
    "title = ['Count', 'Ratio', 'List', 'Disc', 'Reason']\n",
    "list_PATH = [[f'../data/{benchmark}/sample_results/{method}_10.pkl' for benchmark in benchmarks] for method in method_list]\n",
    "plot.plot_from_list(list_PATH, metric = 'flip_rate', list_title = title, vlimit=(0,0.7))"
   ]
  },
  {
   "cell_type": "markdown",
   "metadata": {},
   "source": [
    "### Figure 2: Order of Peer Information"
   ]
  },
  {
   "cell_type": "code",
   "execution_count": null,
   "metadata": {},
   "outputs": [],
   "source": [
    "import plot\n",
    "importlib.reload(plot)\n",
    "import plot\n",
    "\n",
    "method_list = ['grp_count', 'grp_ratio', 'grp_list', 'grp_disc', 'grp_reason']\n",
    "list_data = []\n",
    "for method in method_list:\n",
    "    with open(f'../data/MMLU-Pro/sample_results/{method}_10.pkl', 'rb') as f:\n",
    "        data = pickle.load(f)\n",
    "        list_data.append(data['data'])\n",
    "\n",
    "\n",
    "list_ad_data = [[[] for _ in range(10)] for _ in range(10)]\n",
    "list_da_data = [[[] for _ in range(10)] for _ in range(10)]\n",
    "\n",
    "for target_data in list_data:\n",
    "    for r_idx, row in enumerate(target_data):\n",
    "        for c_idx, col in enumerate(row):\n",
    "            for ele in col:\n",
    "                if ele['order'] == 'ad':\n",
    "                    list_ad_data[r_idx][c_idx].append(ele)\n",
    "                elif ele['order'] == 'da':\n",
    "                    list_da_data[r_idx][c_idx].append(ele)\n",
    "                else:\n",
    "                    raise ValueError(\"Invalid order value. Expected 'ad' or 'da'.\")\n",
    "\n",
    "plot.plot_from_list_data([list_ad_data, list_da_data], metric = 'flip_rate', list_title = [\"Agree First\", \"Disagree First\"], vlimit=None)"
   ]
  },
  {
   "cell_type": "code",
   "execution_count": 31,
   "metadata": {},
   "outputs": [],
   "source": [
    "flatten_ad_data = flatten(list_ad_data)\n",
    "flatten_da_data = flatten(list_da_data)"
   ]
  },
  {
   "cell_type": "code",
   "execution_count": 34,
   "metadata": {},
   "outputs": [
    {
     "name": "stdout",
     "output_type": "stream",
     "text": [
      "Mean Flip Rate - Agree First: 0.23\n",
      "Mean Flip Rate - Disagree First: 0.30\n"
     ]
    }
   ],
   "source": [
    "flip_rate_ad = np.array([int(x['r'] != x['r^org']) for x in flatten_ad_data])\n",
    "flip_rate_da = np.array([int(x['r'] != x['r^org']) for x in flatten_da_data])\n",
    "\n",
    "print(f\"Mean Flip Rate - Agree First: {np.mean(flip_rate_ad):.2f}\")\n",
    "print(f\"Mean Flip Rate - Disagree First: {np.mean(flip_rate_da):.2f}\")"
   ]
  },
  {
   "cell_type": "markdown",
   "metadata": {},
   "source": [
    "## C3: Modifying the Strength of Herd Behavior"
   ]
  },
  {
   "cell_type": "markdown",
   "metadata": {},
   "source": [
    "### Data Sampling"
   ]
  },
  {
   "cell_type": "code",
   "execution_count": 50,
   "metadata": {},
   "outputs": [
    {
     "name": "stdout",
     "output_type": "stream",
     "text": [
      "MMLU-Pro 500 4746\n",
      "GPQA-Diamond 109 109\n",
      "ARC 30 30\n",
      "OpinionQA 216 216\n",
      "GlobalOpinionQA 500 552\n",
      "SIQA 142 142\n"
     ]
    }
   ],
   "source": [
    "benchmarks = [\"MMLU-Pro\", \"GPQA-Diamond\", \"ARC\", \"OpinionQA\", \"GlobalOpinionQA\", \"SIQA\"]\n",
    "for benchmark in benchmarks:\n",
    "    with open(f'../data/{benchmark}/results/org.pkl', 'rb') as f:\n",
    "        res_org = pickle.load(f)\n",
    "    res_org = [x for x in res_org if x['p_r^org'] < 0.8]\n",
    "    sample_size = min(500, len(res_org))\n",
    "    print(benchmark, sample_size, len(res_org))\n",
    "    # sample_res_org = random.Random(benchmark).sample(res_org, sample_size)\n",
    "    # mas_org = qa.qa_eval_mas_org(sample_res_org, agent_count = 5)\n",
    "    # with open(f'../data/{benchmark}/sample_results/mas_org_filtered.pkl', 'wb') as f:\n",
    "    #     pickle.dump(mas_org, f)\n",
    "    # list_data.append(mas_org)\n",
    "    "
   ]
  },
  {
   "cell_type": "code",
   "execution_count": null,
   "metadata": {},
   "outputs": [
    {
     "name": "stdout",
     "output_type": "stream",
     "text": [
      "MMLU-Pro 500 4746\n"
     ]
    },
    {
     "name": "stderr",
     "output_type": "stream",
     "text": [
      "Processing:   0%|                                          | 0/2500 [00:00<?, ?it/s]"
     ]
    },
    {
     "name": "stderr",
     "output_type": "stream",
     "text": [
      "Processing: 100%|███████████████████████████████| 2500/2500 [08:10<00:00,  5.10it/s]\n"
     ]
    },
    {
     "name": "stdout",
     "output_type": "stream",
     "text": [
      "GlobalOpinionQA 500 552\n"
     ]
    },
    {
     "name": "stderr",
     "output_type": "stream",
     "text": [
      "Processing: 100%|███████████████████████████████| 2500/2500 [03:01<00:00, 13.76it/s]\n"
     ]
    }
   ],
   "source": [
    "# org baseline\n",
    "\n",
    "benchmarks = [\"MMLU-Pro\", \"GlobalOpinionQA\"]\n",
    "for benchmark in benchmarks:\n",
    "    with open(f'../data/{benchmark}/results/org.pkl', 'rb') as f:\n",
    "        res_org = pickle.load(f)\n",
    "    res_org = [x for x in res_org if x['p_r^org'] < 0.8]\n",
    "    sample_size = min(500, len(res_org))\n",
    "    print(benchmark, sample_size, len(res_org))\n",
    "    sample_res_org = random.Random(benchmark).sample(res_org, sample_size)\n",
    "    mas_org = qa.qa_eval_mas_org(sample_res_org, agent_count = 5)\n",
    "    with open(f'../data/{benchmark}/sample_results/mas_org_filtered.pkl', 'wb') as f:\n",
    "        pickle.dump(mas_org, f)\n",
    "    list_data.append(mas_org)"
   ]
  },
  {
   "cell_type": "code",
   "execution_count": 3,
   "metadata": {},
   "outputs": [
    {
     "name": "stderr",
     "output_type": "stream",
     "text": [
      "Processing: 100%|███████████████████████████████| 2500/2500 [03:44<00:00, 11.14it/s]\n"
     ]
    }
   ],
   "source": [
    "# cot baseline\n",
    "\n",
    "benchmarks = [\"MMLU-Pro\", \"GlobalOpinionQA\"]\n",
    "for benchmark in benchmarks:\n",
    "    with open(f'../data/{benchmark}/results/org.pkl', 'rb') as f:\n",
    "        res_org = pickle.load(f)\n",
    "    res_org = [x for x in res_org if x['p_r^org'] < 0.8]\n",
    "    sample_size = min(500, len(res_org))\n",
    "    sample_res_org = random.Random(benchmark).sample(res_org, sample_size)\n",
    "    mas_org = qa.qa_eval_mas_cot(sample_res_org, agent_count = 5)\n",
    "    with open(f'../data/{benchmark}/sample_results/mas_org_cot.pkl', 'wb') as f:\n",
    "        pickle.dump(mas_org, f)"
   ]
  },
  {
   "cell_type": "code",
   "execution_count": 8,
   "metadata": {},
   "outputs": [],
   "source": [
    "import math\n",
    "from collections import Counter\n",
    "\n",
    "def calculate_entropy(answers):\n",
    "    n = len(answers)\n",
    "    if n == 0:\n",
    "        return 0.0\n",
    "\n",
    "    counts = Counter(answers)\n",
    "    entropy = 0.0\n",
    "    for count in counts.values():\n",
    "        p = count / n\n",
    "        entropy -= p * math.log2(p)\n",
    "\n",
    "    return entropy"
   ]
  },
  {
   "cell_type": "code",
   "execution_count": null,
   "metadata": {},
   "outputs": [
    {
     "name": "stdout",
     "output_type": "stream",
     "text": [
      "Entropy for MMLU-Pro: 1.10 ± 0.60\n",
      "Entropy for GlobalOpinionQA: 0.82 ± 0.41\n"
     ]
    }
   ],
   "source": [
    "# Filtered with p_r^org < 0.8, capped with 500 examples per dataset\n",
    "\n",
    "benchmarks = [\"MMLU-Pro\", \"GlobalOpinionQA\"]\n",
    "for benchmark in benchmarks:\n",
    "    entropy = []\n",
    "    with open(f'../data/{benchmark}/sample_results/mas_org_filtered.pkl', 'rb') as f:\n",
    "        mas_org = pickle.load(f)\n",
    "    for peer_info in mas_org:\n",
    "        peer_opinions = []\n",
    "        for peer in peer_info:\n",
    "            peer_opinions.append(peer_info[peer]['r^org'])\n",
    "        entropy.append(calculate_entropy(peer_opinions))\n",
    "\n",
    "    print(f\"Entropy for {benchmark}: {np.mean(entropy):.2f} ± {np.std(entropy):.2f}\")\n",
    "        \n",
    "# result of full dataset, capped with 200 example:\n",
    "#\n",
    "# Entropy for MMLU-Pro: 0.54 ± 0.64\n",
    "# Entropy for GPQA-Diamond: 0.60 ± 0.57\n",
    "# Entropy for ARC: 0.06 ± 0.23\n",
    "# Entropy for OpinionQA: 0.19 ± 0.39\n",
    "# Entropy for GlobalOpinionQA: 0.27 ± 0.42\n",
    "# Entropy for SIQA: 0.07 ± 0.22"
   ]
  },
  {
   "cell_type": "code",
   "execution_count": null,
   "metadata": {},
   "outputs": [],
   "source": [
    "# benchmarks = [\"MMLU-Pro\", \"GlobalOpinionQA\"]\n",
    "# list_data = []\n",
    "# for benchmark in benchmarks:\n",
    "#     with open(f'../data/{benchmark}/sample_results/mas_org_filtered.pkl', 'rb') as f:\n",
    "#         mas_org = pickle.load(f)\n",
    "#     mas_res = qa.qa_eval_mas_res(mas_org)\n",
    "#     with open(f'../data/{benchmark}/sample_results/mas_res_filtered.pkl', 'wb') as f:\n",
    "#         pickle.dump(mas_res, f)\n",
    "#     list_data.append(mas_res)\n",
    "    "
   ]
  },
  {
   "cell_type": "code",
   "execution_count": 4,
   "metadata": {},
   "outputs": [],
   "source": [
    "benchmarks = [\"MMLU-Pro\", \"GlobalOpinionQA\"]\n",
    "list_data = []\n",
    "for benchmark in benchmarks:\n",
    "    with open(f'../data/{benchmark}/sample_results/mas_res_filtered.pkl', 'rb') as f:\n",
    "        mas_res = pickle.load(f)\n",
    "    with open(f'../data/{benchmark}/sample_results/mas_org_filtered.pkl', 'rb') as f:\n",
    "        mas_org = pickle.load(f)\n",
    "    with open(f'../data/{benchmark}/sample_results/mas_org_cot.pkl', 'rb') as f:\n",
    "        mas_org_cot = pickle.load(f)\n",
    "    mas_res[\"original\"] = mas_org\n",
    "    mas_res[\"cot\"] = mas_org_cot\n",
    "\n",
    "    list_data.append(mas_res)"
   ]
  },
  {
   "cell_type": "markdown",
   "metadata": {},
   "source": [
    "### Table 3: Controllable herd behavior"
   ]
  },
  {
   "cell_type": "code",
   "execution_count": 5,
   "metadata": {},
   "outputs": [
    {
     "name": "stdout",
     "output_type": "stream",
     "text": [
      "False\n",
      "True\n"
     ]
    }
   ],
   "source": [
    "from collections import Counter\n",
    "\n",
    "def has_majority(answers):\n",
    "    if not answers:\n",
    "        return False\n",
    "    count = Counter(answers)\n",
    "    majority_threshold = len(answers) // 2 + 1  # more than half\n",
    "    return any(v >= majority_threshold for v in count.values())\n",
    "\n",
    "# Example usage:\n",
    "print(has_majority(['A', 'A', 'B', 'C']))  # False\n",
    "print(has_majority(['A', 'A', 'A', 'B']))  # True"
   ]
  },
  {
   "cell_type": "code",
   "execution_count": 16,
   "metadata": {},
   "outputs": [
    {
     "name": "stdout",
     "output_type": "stream",
     "text": [
      "True\n",
      "False\n",
      "False\n"
     ]
    }
   ],
   "source": [
    "def has_unanimous(answers):\n",
    "    if not answers:\n",
    "        return False\n",
    "    return all(ans == answers[0] for ans in answers)\n",
    "\n",
    "# Example usage:\n",
    "print(has_unanimous(['A', 'A', 'A']))     # True\n",
    "print(has_unanimous(['A', 'B', 'A']))     # False\n",
    "print(has_unanimous([]))                 # False"
   ]
  },
  {
   "cell_type": "code",
   "execution_count": 6,
   "metadata": {},
   "outputs": [
    {
     "name": "stdout",
     "output_type": "stream",
     "text": [
      "A\n",
      "None\n",
      "None\n"
     ]
    }
   ],
   "source": [
    "from collections import Counter\n",
    "\n",
    "def get_unique_plurality(answers):\n",
    "    if not answers:\n",
    "        return None\n",
    "    count = Counter(answers)\n",
    "    most_common = count.most_common()\n",
    "    \n",
    "    if len(most_common) == 1:\n",
    "        return most_common[0][0]  # Only one answer exists\n",
    "    \n",
    "    if most_common[0][1] > most_common[1][1]:\n",
    "        return most_common[0][0]  # Unique highest count\n",
    "    else:\n",
    "        return None  # Tie for highest count\n",
    "\n",
    "# Example usage:\n",
    "print(get_unique_plurality(['A', 'A', 'B', 'C']))   # A\n",
    "print(get_unique_plurality(['A', 'B', 'C']))        # None (all equal)\n",
    "print(get_unique_plurality(['A', 'B', 'B', 'A']))    # None (tie between A and B)"
   ]
  },
  {
   "cell_type": "code",
   "execution_count": null,
   "metadata": {},
   "outputs": [
    {
     "name": "stdout",
     "output_type": "stream",
     "text": [
      "A\n",
      "None\n",
      "None\n"
     ]
    }
   ],
   "source": [
    "from collections import Counter\n",
    "\n",
    "def get_majority(answers):\n",
    "    if not answers:\n",
    "        return None\n",
    "    count = Counter(answers)\n",
    "    n = len(answers)\n",
    "    for ans, freq in count.items():\n",
    "        if freq > n // 2:\n",
    "            return ans\n",
    "    return None  # No majority\n",
    "\n",
    "# Example usage:\n",
    "print(get_majority(['A', 'A', 'B', 'A']))   # A (3 out of 4)\n",
    "print(get_majority(['A', 'B', 'C']))        # None (no majority)\n",
    "print(get_majority(['B', 'B', 'A', 'A']))   # None"
   ]
  },
  {
   "cell_type": "code",
   "execution_count": 13,
   "metadata": {},
   "outputs": [
    {
     "name": "stdout",
     "output_type": "stream",
     "text": [
      "A\n",
      "None\n",
      "None\n"
     ]
    }
   ],
   "source": [
    "def get_unanimous(answers):\n",
    "    if not answers:\n",
    "        return None\n",
    "    first = answers[0]\n",
    "    if all(ans == first for ans in answers):\n",
    "        return first\n",
    "    return None  # Not unanimous\n",
    "\n",
    "# Example usage:\n",
    "print(get_unanimous(['A', 'A', 'A']))       # A\n",
    "print(get_unanimous(['A', 'A', 'B']))       # None\n",
    "print(get_unanimous([]))                   # None"
   ]
  },
  {
   "cell_type": "code",
   "execution_count": 17,
   "metadata": {},
   "outputs": [
    {
     "data": {
      "text/html": [
       "<div>\n",
       "<style scoped>\n",
       "    .dataframe tbody tr th:only-of-type {\n",
       "        vertical-align: middle;\n",
       "    }\n",
       "\n",
       "    .dataframe tbody tr th {\n",
       "        vertical-align: top;\n",
       "    }\n",
       "\n",
       "    .dataframe thead th {\n",
       "        text-align: right;\n",
       "    }\n",
       "</style>\n",
       "<table border=\"1\" class=\"dataframe\">\n",
       "  <thead>\n",
       "    <tr style=\"text-align: right;\">\n",
       "      <th></th>\n",
       "      <th>Method</th>\n",
       "      <th>MMLU-Pro Flip Rate</th>\n",
       "      <th>MMLU-Pro Entropy</th>\n",
       "      <th>MMLU-Pro Consensus Rate</th>\n",
       "      <th>MMLU-Pro Accuracy</th>\n",
       "      <th>GlobalOpinionQA Flip Rate</th>\n",
       "      <th>GlobalOpinionQA Entropy</th>\n",
       "      <th>GlobalOpinionQA Consensus Rate</th>\n",
       "    </tr>\n",
       "  </thead>\n",
       "  <tbody>\n",
       "    <tr>\n",
       "      <th>0</th>\n",
       "      <td>original</td>\n",
       "      <td>-</td>\n",
       "      <td>1.10</td>\n",
       "      <td>0.13</td>\n",
       "      <td>0.04</td>\n",
       "      <td>-</td>\n",
       "      <td>0.82</td>\n",
       "      <td>0.14</td>\n",
       "    </tr>\n",
       "    <tr>\n",
       "      <th>1</th>\n",
       "      <td>cot</td>\n",
       "      <td>-</td>\n",
       "      <td>0.91</td>\n",
       "      <td>0.28</td>\n",
       "      <td>0.23</td>\n",
       "      <td>-</td>\n",
       "      <td>0.63</td>\n",
       "      <td>0.34</td>\n",
       "    </tr>\n",
       "    <tr>\n",
       "      <th>2</th>\n",
       "      <td>control</td>\n",
       "      <td>0.55</td>\n",
       "      <td>0.43</td>\n",
       "      <td>0.56</td>\n",
       "      <td>0.18</td>\n",
       "      <td>0.44</td>\n",
       "      <td>0.29</td>\n",
       "      <td>0.69</td>\n",
       "    </tr>\n",
       "    <tr>\n",
       "      <th>3</th>\n",
       "      <td>strong_factors</td>\n",
       "      <td>0.63</td>\n",
       "      <td>0.43</td>\n",
       "      <td>0.54</td>\n",
       "      <td>0.29</td>\n",
       "      <td>0.59</td>\n",
       "      <td>0.49</td>\n",
       "      <td>0.46</td>\n",
       "    </tr>\n",
       "    <tr>\n",
       "      <th>4</th>\n",
       "      <td>weak_factors</td>\n",
       "      <td>0.36</td>\n",
       "      <td>0.28</td>\n",
       "      <td>0.69</td>\n",
       "      <td>0.16</td>\n",
       "      <td>0.23</td>\n",
       "      <td>0.22</td>\n",
       "      <td>0.76</td>\n",
       "    </tr>\n",
       "    <tr>\n",
       "      <th>5</th>\n",
       "      <td>strong_prompt</td>\n",
       "      <td>0.55</td>\n",
       "      <td>0.43</td>\n",
       "      <td>0.57</td>\n",
       "      <td>0.17</td>\n",
       "      <td>0.44</td>\n",
       "      <td>0.29</td>\n",
       "      <td>0.69</td>\n",
       "    </tr>\n",
       "    <tr>\n",
       "      <th>6</th>\n",
       "      <td>weak_prompt</td>\n",
       "      <td>0.55</td>\n",
       "      <td>0.43</td>\n",
       "      <td>0.56</td>\n",
       "      <td>0.18</td>\n",
       "      <td>0.46</td>\n",
       "      <td>0.36</td>\n",
       "      <td>0.61</td>\n",
       "    </tr>\n",
       "  </tbody>\n",
       "</table>\n",
       "</div>"
      ],
      "text/plain": [
       "           Method MMLU-Pro Flip Rate MMLU-Pro Entropy MMLU-Pro Consensus Rate  \\\n",
       "0        original                  -             1.10                    0.13   \n",
       "1             cot                  -             0.91                    0.28   \n",
       "2         control               0.55             0.43                    0.56   \n",
       "3  strong_factors               0.63             0.43                    0.54   \n",
       "4    weak_factors               0.36             0.28                    0.69   \n",
       "5   strong_prompt               0.55             0.43                    0.57   \n",
       "6     weak_prompt               0.55             0.43                    0.56   \n",
       "\n",
       "  MMLU-Pro Accuracy GlobalOpinionQA Flip Rate GlobalOpinionQA Entropy  \\\n",
       "0              0.04                         -                    0.82   \n",
       "1              0.23                         -                    0.63   \n",
       "2              0.18                      0.44                    0.29   \n",
       "3              0.29                      0.59                    0.49   \n",
       "4              0.16                      0.23                    0.22   \n",
       "5              0.17                      0.44                    0.29   \n",
       "6              0.18                      0.46                    0.36   \n",
       "\n",
       "  GlobalOpinionQA Consensus Rate  \n",
       "0                           0.14  \n",
       "1                           0.34  \n",
       "2                           0.69  \n",
       "3                           0.46  \n",
       "4                           0.76  \n",
       "5                           0.69  \n",
       "6                           0.61  "
      ]
     },
     "execution_count": 17,
     "metadata": {},
     "output_type": "execute_result"
    }
   ],
   "source": [
    "table3_mmlu = pd.DataFrame(columns = [\"Method\",\n",
    "                                    \"MMLU-Pro Flip Rate\",\n",
    "                                    \"MMLU-Pro Entropy\", \n",
    "                                    \"MMLU-Pro Consensus Rate\",\n",
    "                                    \"MMLU-Pro Accuracy\"])\n",
    "\n",
    "table3_glo = pd.DataFrame(columns = [\"Method\",\n",
    "                                    \"GlobalOpinionQA Flip Rate\",\n",
    "                                    \"GlobalOpinionQA Entropy\",\n",
    "                                    \"GlobalOpinionQA Consensus Rate\"])\n",
    "\n",
    "for dataset, benchmark in zip(list_data, [\"MMLU-Pro\", \"GlobalOpinionQA\"]):\n",
    "    methods = list(dataset.keys())\n",
    "    methods.remove(\"cot\")\n",
    "    methods = [\"cot\"] + methods\n",
    "    methods.remove(\"original\")\n",
    "    methods = [\"original\"] + methods\n",
    "    for method in methods:\n",
    "        target_row = [method]\n",
    "        list_flip_rate = []\n",
    "        list_entropy = []\n",
    "        list_consensus_rate = []\n",
    "        list_accuracy = []\n",
    "        for ele in dataset[method]:\n",
    "            if method not in [\"original\", \"cot\"]:\n",
    "                flip_rate = np.mean([x['r'] != x['r^org'] for x in ele.values()])\n",
    "                list_flip_rate.append(flip_rate)\n",
    "\n",
    "            if method in [\"original\", \"cot\"]:\n",
    "                peer_opinions = [x['r^org'] for x in ele.values()]\n",
    "            else:\n",
    "                peer_opinions = [x['r'] for x in ele.values()]\n",
    "\n",
    "            entropy = calculate_entropy(peer_opinions)\n",
    "            list_entropy.append(entropy)\n",
    "\n",
    "            bool_consensus = int(has_unanimous(peer_opinions))\n",
    "            list_consensus_rate.append(bool_consensus)\n",
    "\n",
    "            if benchmark == \"MMLU-Pro\":\n",
    "                plularity_answer = get_unanimous(peer_opinions)\n",
    "                list_accuracy.append(int(plularity_answer == ele[\"A\"]['answer']))\n",
    "\n",
    "\n",
    "        if method in [\"original\", \"cot\"]:\n",
    "            target_row.append(\"-\")\n",
    "        else:\n",
    "            target_row.append(f\"{np.mean(list_flip_rate):.2f}\") #  ± {np.std(list_flip_rate):.2f}\n",
    "        target_row.append(f\"{np.mean(list_entropy):.2f}\") #  ± {np.std(list_entropy):.2f}\n",
    "        target_row.append(f\"{np.mean(list_consensus_rate):.2f}\") #  ± {np.std(list_consensus_rate):.2f}\n",
    "        if benchmark == \"MMLU-Pro\":\n",
    "            target_row.append(f\"{np.mean(list_accuracy):.2f}\") #  ± {np.std(list_accuracy):.2f}\n",
    "            table3_mmlu.loc[len(table3_mmlu)] = target_row\n",
    "        else:\n",
    "            table3_glo.loc[len(table3_glo)] = target_row\n",
    "        \n",
    "table3 = table3_mmlu.merge(table3_glo, how='inner', on='Method')\n",
    "table3"
   ]
  },
  {
   "cell_type": "code",
   "execution_count": 48,
   "metadata": {},
   "outputs": [],
   "source": [
    "from scipy.stats import ttest_rel\n",
    "import numpy as np\n",
    "\n",
    "def get_metric_lists(dataset, benchmark, method):\n",
    "    flip_rate, entropy, majority, acc = [], [], [], []\n",
    "    for ele in dataset[method]:\n",
    "        opinions = [x['r'] if method != \"original\" else x['r^org'] for x in ele.values()]\n",
    "\n",
    "        if method != \"original\":\n",
    "            flip_rate.append(np.mean([x['r'] != x['r^org'] for x in ele.values()]))\n",
    "\n",
    "        entropy.append(calculate_entropy(opinions))\n",
    "        majority.append(int(has_majority(opinions)))\n",
    "\n",
    "        if benchmark == \"MMLU-Pro\":\n",
    "            acc.append(int(get_unique_plurality(opinions) == ele[\"A\"]['answer']))\n",
    "\n",
    "    return flip_rate, entropy, majority, acc\n",
    "\n",
    "def significance_vs_second_best(dataset, benchmark, alpha=0.05):\n",
    "    \"\"\"\n",
    "    Compare each method against the second-best performer (per metric).\n",
    "    \"\"\"\n",
    "    all_stats = {}\n",
    "    flip_dict, entropy_dict, majority_dict, acc_dict = {}, {}, {}, {}\n",
    "\n",
    "    methods = list(dataset.keys())\n",
    "\n",
    "    # Collect all metric values\n",
    "    for method in methods:\n",
    "        flip, entropy, majority, acc = get_metric_lists(dataset, benchmark, method)\n",
    "        if method != \"original\":\n",
    "            flip_dict[method] = flip\n",
    "        entropy_dict[method] = entropy\n",
    "        majority_dict[method] = majority\n",
    "        if benchmark == \"MMLU-Pro\":\n",
    "            acc_dict[method] = acc\n",
    "\n",
    "    def evaluate(metric_dict, goal=\"max\"):\n",
    "        # Compute mean for all methods\n",
    "        metric_mean = {k: np.mean(v) for k, v in metric_dict.items()}\n",
    "        # Sort based on goal\n",
    "        reverse = (goal == \"max\")\n",
    "        sorted_methods = sorted(metric_mean.items(), key=lambda x: x[1], reverse=reverse)\n",
    "        best, second_best = sorted_methods[0][0], sorted_methods[1][0]\n",
    "        sig_results = {}\n",
    "\n",
    "        for method in metric_dict:\n",
    "            if method == second_best:\n",
    "                sig_results[method] = (metric_mean[method], \"Second Best\")\n",
    "                continue\n",
    "\n",
    "            t_stat, p_val = ttest_rel(metric_dict[method], metric_dict[second_best])\n",
    "            sig = (p_val < alpha and\n",
    "                   ((goal == \"max\" and np.mean(metric_dict[method]) > np.mean(metric_dict[second_best])) or\n",
    "                    (goal == \"min\" and np.mean(metric_dict[method]) < np.mean(metric_dict[second_best]))))\n",
    "            sig_results[method] = (np.mean(metric_dict[method]), sig)\n",
    "\n",
    "        return sig_results\n",
    "\n",
    "    all_stats['flip_rate'] = evaluate(flip_dict, goal=\"max\")\n",
    "    all_stats['entropy'] = evaluate(entropy_dict, goal=\"min\")\n",
    "    all_stats['majority_rate'] = evaluate(majority_dict, goal=\"max\")\n",
    "    if benchmark == \"MMLU-Pro\":\n",
    "        all_stats['accuracy'] = evaluate(acc_dict, goal=\"max\")\n",
    "\n",
    "    return all_stats"
   ]
  },
  {
   "cell_type": "code",
   "execution_count": 49,
   "metadata": {},
   "outputs": [],
   "source": [
    "mmlu_stats = significance_vs_second_best(list_data[0], benchmark=\"MMLU-Pro\")\n",
    "glo_stats = significance_vs_second_best(list_data[1], benchmark=\"GlobalOpinionQA\")"
   ]
  },
  {
   "cell_type": "code",
   "execution_count": 51,
   "metadata": {},
   "outputs": [
    {
     "data": {
      "text/plain": [
       "{'flip_rate': {'control': (np.float64(0.44160000000000005), np.False_),\n",
       "  'strong_factors': (np.float64(0.5872), np.True_),\n",
       "  'weak_factors': (np.float64(0.2332), False),\n",
       "  'strong_prompt': (np.float64(0.444), np.False_),\n",
       "  'weak_prompt': (np.float64(0.458), 'Second Best')},\n",
       " 'entropy': {'control': (np.float64(0.29338014670376605), 'Second Best'),\n",
       "  'strong_factors': (np.float64(0.4934225060981175), np.False_),\n",
       "  'weak_factors': (np.float64(0.2164225403259173), np.True_),\n",
       "  'strong_prompt': (np.float64(0.29448210170463146), np.False_),\n",
       "  'weak_prompt': (np.float64(0.35670311428090884), np.False_),\n",
       "  'original': (np.float64(0.8247411952039331), np.False_)},\n",
       " 'majority_rate': {'control': (np.float64(0.99), np.False_),\n",
       "  'strong_factors': (np.float64(0.98), np.False_),\n",
       "  'weak_factors': (np.float64(0.994), np.False_),\n",
       "  'strong_prompt': (np.float64(0.986), np.False_),\n",
       "  'weak_prompt': (np.float64(0.992), 'Second Best'),\n",
       "  'original': (np.float64(0.934), False)}}"
      ]
     },
     "execution_count": 51,
     "metadata": {},
     "output_type": "execute_result"
    }
   ],
   "source": [
    "glo_stats"
   ]
  },
  {
   "cell_type": "markdown",
   "metadata": {},
   "source": [
    "## Appendix: Different LLMs"
   ]
  },
  {
   "cell_type": "code",
   "execution_count": null,
   "metadata": {},
   "outputs": [],
   "source": [
    "# benchmarks = [\"MMLU-Pro\", \"GPQA-Diamond\", \"ARC\", \"OpinionQA\", \"GlobalOpinionQA\", \"SIQA\"]\n",
    "# llms = ['gpt-4o-mini', 'gpt-4o', 'gpt-4.1', 'gpt-4.1-mini', 'gpt-4.1-nano']\n",
    "# type_names = ['2nd', 'lst']\n",
    "\n",
    "# for benchmark in benchmarks:\n",
    "#     with open(f'../data/{benchmark}/sample_results/org.pkl', 'rb') as f:\n",
    "#         res_org = pickle.load(f)\n",
    "\n",
    "#     for llm in llms:\n",
    "#         res_org = qa.qa_eval_org(res_org, llm = llm)\n",
    "#         with open(f'../data/{benchmark}/sample_results/org_{llm}.pkl', 'wb') as f:\n",
    "#             pickle.dump(res_org, f)\n",
    "#         for disagree_type in type_names:\n",
    "#             results = qa.qa_eval_one(res_org, disagree_type, llm = llm)\n",
    "\n",
    "#             with open(f'../data/{benchmark}/sample_results/one_{disagree_type}_{llm}.pkl', 'wb') as f:\n",
    "#                 pickle.dump(results, f)"
   ]
  },
  {
   "cell_type": "code",
   "execution_count": null,
   "metadata": {},
   "outputs": [
    {
     "name": "stderr",
     "output_type": "stream",
     "text": [
      "Processing: 100%|██████████| 200/200 [00:01<00:00, 190.00it/s]\n",
      "Processing: 100%|██████████| 200/200 [00:01<00:00, 130.90it/s]\n",
      "Processing: 100%|██████████| 200/200 [00:01<00:00, 126.33it/s]\n",
      "Processing: 100%|██████████| 198/198 [00:01<00:00, 115.92it/s]\n",
      "Processing: 100%|██████████| 198/198 [00:01<00:00, 139.61it/s]\n",
      "Processing: 100%|██████████| 198/198 [00:01<00:00, 133.83it/s]\n",
      "Processing: 100%|██████████| 200/200 [00:01<00:00, 168.57it/s]\n",
      "Processing: 100%|██████████| 200/200 [00:01<00:00, 194.84it/s]\n",
      "Processing: 100%|██████████| 200/200 [00:01<00:00, 166.12it/s]\n",
      "Processing: 100%|██████████| 200/200 [00:01<00:00, 170.17it/s]\n",
      "Processing: 100%|██████████| 200/200 [00:01<00:00, 196.29it/s]\n",
      "Processing: 100%|██████████| 200/200 [00:01<00:00, 187.47it/s]\n",
      "Processing: 100%|██████████| 200/200 [00:01<00:00, 151.10it/s]\n",
      "Processing: 100%|██████████| 200/200 [00:01<00:00, 189.12it/s]\n",
      "Processing: 100%|██████████| 200/200 [00:01<00:00, 164.27it/s]\n",
      "Processing: 100%|██████████| 200/200 [00:01<00:00, 158.46it/s]\n",
      "Processing: 100%|██████████| 200/200 [00:01<00:00, 167.70it/s]\n",
      "Processing: 100%|██████████| 200/200 [00:01<00:00, 166.11it/s]\n"
     ]
    }
   ],
   "source": [
    "benchmarks = [\"MMLU-Pro\", \"GPQA-Diamond\", \"ARC\", \"OpinionQA\", \"GlobalOpinionQA\", \"SIQA\"]\n",
    "llms = ['llama-3.3-70B']\n",
    "type_names = ['2nd', 'lst']\n",
    "\n",
    "for benchmark in benchmarks:\n",
    "    with open(f'../data/{benchmark}/sample_results/org.pkl', 'rb') as f:\n",
    "        res_org = pickle.load(f)\n",
    "\n",
    "    for llm in llms:\n",
    "        res_org = qa.qa_eval_org(res_org, llm = llm)\n",
    "        with open(f'../data/{benchmark}/sample_results/org_{llm}.pkl', 'wb') as f:\n",
    "            pickle.dump(res_org, f)\n",
    "        for disagree_type in type_names:\n",
    "            results = qa.qa_eval_one(res_org, disagree_type, llm = llm)\n",
    "\n",
    "            with open(f'../data/{benchmark}/sample_results/one_{disagree_type}_{llm}.pkl', 'wb') as f:\n",
    "                pickle.dump(results, f)"
   ]
  },
  {
   "cell_type": "code",
   "execution_count": 3,
   "metadata": {},
   "outputs": [],
   "source": [
    "benchmarks = [\"MMLU-Pro\", \"GPQA-Diamond\", \"ARC\", \"OpinionQA\", \"GlobalOpinionQA\", \"SIQA\"]\n",
    "llms = ['gpt-4o-mini', 'gpt-4o', 'gpt-4.1', 'gpt-4.1-mini', 'gpt-4.1-nano', 'llama-3.3-70B', 'llama-3.2-3B', 'qwen-2.5-72B']\n",
    "disagree_types = ['2nd', 'lst']\n",
    "\n",
    "dict_results = {}\n",
    "dict_results['Average'] = {f\"{llm}_{disagree_type}\":[] for llm in llms for disagree_type in disagree_types}\n",
    "for benchmark in benchmarks:\n",
    "    dict_results[benchmark] = {}\n",
    "    for llm in llms:\n",
    "        temp_inputs = {}\n",
    "        for disagree_type in disagree_types:\n",
    "            PATH = f'../data/{benchmark}/sample_results/one_{disagree_type}_{llm}.pkl'\n",
    "            with open(PATH, 'rb') as f:\n",
    "                retrieved_results = pickle.load(f)\n",
    "                retrieved_results = [x for x in retrieved_results if x['r'] != None]\n",
    "                temp_inputs[disagree_type] = retrieved_results\n",
    "\n",
    "        unique_ids = set([x['question_id'] for x in temp_inputs[disagree_types[0]]])\n",
    "        for disagree_type in disagree_types:\n",
    "            unique_ids = unique_ids & set([x['question_id'] for x in temp_inputs[disagree_type]])\n",
    "\n",
    "        for disagree_type in disagree_types:\n",
    "            valid_results = [x for x in temp_inputs[disagree_type] if x['question_id'] in unique_ids]\n",
    "            dict_results[benchmark][f\"{llm}_{disagree_type}\"] = valid_results\n",
    "            dict_results['Average'][f\"{llm}_{disagree_type}\"].extend(valid_results)"
   ]
  },
  {
   "cell_type": "code",
   "execution_count": 4,
   "metadata": {},
   "outputs": [
    {
     "data": {
      "text/html": [
       "<div>\n",
       "<style scoped>\n",
       "    .dataframe tbody tr th:only-of-type {\n",
       "        vertical-align: middle;\n",
       "    }\n",
       "\n",
       "    .dataframe tbody tr th {\n",
       "        vertical-align: top;\n",
       "    }\n",
       "\n",
       "    .dataframe thead th {\n",
       "        text-align: right;\n",
       "    }\n",
       "</style>\n",
       "<table border=\"1\" class=\"dataframe\">\n",
       "  <thead>\n",
       "    <tr style=\"text-align: right;\">\n",
       "      <th></th>\n",
       "      <th>Method</th>\n",
       "      <th>MMLU-Pro</th>\n",
       "      <th>GPQA-Diamond</th>\n",
       "      <th>ARC</th>\n",
       "      <th>OpinionQA</th>\n",
       "      <th>GlobalOpinionQA</th>\n",
       "      <th>SIQA</th>\n",
       "      <th>Average</th>\n",
       "    </tr>\n",
       "  </thead>\n",
       "  <tbody>\n",
       "    <tr>\n",
       "      <th>0</th>\n",
       "      <td>gpt-4o-mini_2nd</td>\n",
       "      <td>0.5*</td>\n",
       "      <td>0.59*</td>\n",
       "      <td>0.11*</td>\n",
       "      <td>0.64*</td>\n",
       "      <td>0.71*</td>\n",
       "      <td>0.16*</td>\n",
       "      <td>0.45*</td>\n",
       "    </tr>\n",
       "    <tr>\n",
       "      <th>1</th>\n",
       "      <td>gpt-4o-mini_lst</td>\n",
       "      <td>0.25</td>\n",
       "      <td>0.42</td>\n",
       "      <td>0.06</td>\n",
       "      <td>0.54</td>\n",
       "      <td>0.59</td>\n",
       "      <td>0.06</td>\n",
       "      <td>0.32</td>\n",
       "    </tr>\n",
       "    <tr>\n",
       "      <th>2</th>\n",
       "      <td>gpt-4o_2nd</td>\n",
       "      <td>0.55*</td>\n",
       "      <td>0.7*</td>\n",
       "      <td>0.06*</td>\n",
       "      <td>0.52*</td>\n",
       "      <td>0.57*</td>\n",
       "      <td>0.26*</td>\n",
       "      <td>0.44*</td>\n",
       "    </tr>\n",
       "    <tr>\n",
       "      <th>3</th>\n",
       "      <td>gpt-4o_lst</td>\n",
       "      <td>0.34</td>\n",
       "      <td>0.45</td>\n",
       "      <td>0.02</td>\n",
       "      <td>0.34</td>\n",
       "      <td>0.43</td>\n",
       "      <td>0.14</td>\n",
       "      <td>0.29</td>\n",
       "    </tr>\n",
       "    <tr>\n",
       "      <th>4</th>\n",
       "      <td>gpt-4.1_2nd</td>\n",
       "      <td>0.51*</td>\n",
       "      <td>0.63*</td>\n",
       "      <td>0.05*</td>\n",
       "      <td>0.66*</td>\n",
       "      <td>0.66*</td>\n",
       "      <td>0.22*</td>\n",
       "      <td>0.45*</td>\n",
       "    </tr>\n",
       "    <tr>\n",
       "      <th>5</th>\n",
       "      <td>gpt-4.1_lst</td>\n",
       "      <td>0.23</td>\n",
       "      <td>0.35</td>\n",
       "      <td>0.02</td>\n",
       "      <td>0.49</td>\n",
       "      <td>0.54</td>\n",
       "      <td>0.1</td>\n",
       "      <td>0.29</td>\n",
       "    </tr>\n",
       "    <tr>\n",
       "      <th>6</th>\n",
       "      <td>gpt-4.1-mini_2nd</td>\n",
       "      <td>0.46*</td>\n",
       "      <td>0.49*</td>\n",
       "      <td>0.04*</td>\n",
       "      <td>0.4*</td>\n",
       "      <td>0.42*</td>\n",
       "      <td>0.2*</td>\n",
       "      <td>0.33*</td>\n",
       "    </tr>\n",
       "    <tr>\n",
       "      <th>7</th>\n",
       "      <td>gpt-4.1-mini_lst</td>\n",
       "      <td>0.3</td>\n",
       "      <td>0.32</td>\n",
       "      <td>0.0</td>\n",
       "      <td>0.25</td>\n",
       "      <td>0.33</td>\n",
       "      <td>0.11</td>\n",
       "      <td>0.22</td>\n",
       "    </tr>\n",
       "    <tr>\n",
       "      <th>8</th>\n",
       "      <td>gpt-4.1-nano_2nd</td>\n",
       "      <td>0.62*</td>\n",
       "      <td>0.57*</td>\n",
       "      <td>0.18*</td>\n",
       "      <td>0.51*</td>\n",
       "      <td>0.62*</td>\n",
       "      <td>0.33*</td>\n",
       "      <td>0.47*</td>\n",
       "    </tr>\n",
       "    <tr>\n",
       "      <th>9</th>\n",
       "      <td>gpt-4.1-nano_lst</td>\n",
       "      <td>0.46</td>\n",
       "      <td>0.39</td>\n",
       "      <td>0.12</td>\n",
       "      <td>0.42</td>\n",
       "      <td>0.52</td>\n",
       "      <td>0.16</td>\n",
       "      <td>0.34</td>\n",
       "    </tr>\n",
       "    <tr>\n",
       "      <th>10</th>\n",
       "      <td>llama-3.3-70B_2nd</td>\n",
       "      <td>0.43*</td>\n",
       "      <td>0.4</td>\n",
       "      <td>0.13</td>\n",
       "      <td>0.32*</td>\n",
       "      <td>0.46*</td>\n",
       "      <td>0.2*</td>\n",
       "      <td>0.32*</td>\n",
       "    </tr>\n",
       "    <tr>\n",
       "      <th>11</th>\n",
       "      <td>llama-3.3-70B_lst</td>\n",
       "      <td>0.27</td>\n",
       "      <td>0.42</td>\n",
       "      <td>0.1</td>\n",
       "      <td>0.15</td>\n",
       "      <td>0.29</td>\n",
       "      <td>0.1</td>\n",
       "      <td>0.22</td>\n",
       "    </tr>\n",
       "    <tr>\n",
       "      <th>12</th>\n",
       "      <td>llama-3.2-3B_2nd</td>\n",
       "      <td>0.38*</td>\n",
       "      <td>0.22</td>\n",
       "      <td>0.18*</td>\n",
       "      <td>0.28*</td>\n",
       "      <td>0.48*</td>\n",
       "      <td>0.12</td>\n",
       "      <td>0.28*</td>\n",
       "    </tr>\n",
       "    <tr>\n",
       "      <th>13</th>\n",
       "      <td>llama-3.2-3B_lst</td>\n",
       "      <td>0.29</td>\n",
       "      <td>0.19</td>\n",
       "      <td>0.12</td>\n",
       "      <td>0.2</td>\n",
       "      <td>0.34</td>\n",
       "      <td>0.1</td>\n",
       "      <td>0.21</td>\n",
       "    </tr>\n",
       "    <tr>\n",
       "      <th>14</th>\n",
       "      <td>qwen-2.5-72B_2nd</td>\n",
       "      <td>0.46*</td>\n",
       "      <td>0.53*</td>\n",
       "      <td>0.05*</td>\n",
       "      <td>0.24*</td>\n",
       "      <td>0.32*</td>\n",
       "      <td>0.18*</td>\n",
       "      <td>0.29*</td>\n",
       "    </tr>\n",
       "    <tr>\n",
       "      <th>15</th>\n",
       "      <td>qwen-2.5-72B_lst</td>\n",
       "      <td>0.16</td>\n",
       "      <td>0.24</td>\n",
       "      <td>0.02</td>\n",
       "      <td>0.09</td>\n",
       "      <td>0.18</td>\n",
       "      <td>0.03</td>\n",
       "      <td>0.12</td>\n",
       "    </tr>\n",
       "  </tbody>\n",
       "</table>\n",
       "</div>"
      ],
      "text/plain": [
       "               Method MMLU-Pro GPQA-Diamond    ARC OpinionQA GlobalOpinionQA  \\\n",
       "0     gpt-4o-mini_2nd     0.5*        0.59*  0.11*     0.64*           0.71*   \n",
       "1     gpt-4o-mini_lst     0.25         0.42   0.06      0.54            0.59   \n",
       "2          gpt-4o_2nd    0.55*         0.7*  0.06*     0.52*           0.57*   \n",
       "3          gpt-4o_lst     0.34         0.45   0.02      0.34            0.43   \n",
       "4         gpt-4.1_2nd    0.51*        0.63*  0.05*     0.66*           0.66*   \n",
       "5         gpt-4.1_lst     0.23         0.35   0.02      0.49            0.54   \n",
       "6    gpt-4.1-mini_2nd    0.46*        0.49*  0.04*      0.4*           0.42*   \n",
       "7    gpt-4.1-mini_lst      0.3         0.32    0.0      0.25            0.33   \n",
       "8    gpt-4.1-nano_2nd    0.62*        0.57*  0.18*     0.51*           0.62*   \n",
       "9    gpt-4.1-nano_lst     0.46         0.39   0.12      0.42            0.52   \n",
       "10  llama-3.3-70B_2nd    0.43*          0.4   0.13     0.32*           0.46*   \n",
       "11  llama-3.3-70B_lst     0.27         0.42    0.1      0.15            0.29   \n",
       "12   llama-3.2-3B_2nd    0.38*         0.22  0.18*     0.28*           0.48*   \n",
       "13   llama-3.2-3B_lst     0.29         0.19   0.12       0.2            0.34   \n",
       "14   qwen-2.5-72B_2nd    0.46*        0.53*  0.05*     0.24*           0.32*   \n",
       "15   qwen-2.5-72B_lst     0.16         0.24   0.02      0.09            0.18   \n",
       "\n",
       "     SIQA Average  \n",
       "0   0.16*   0.45*  \n",
       "1    0.06    0.32  \n",
       "2   0.26*   0.44*  \n",
       "3    0.14    0.29  \n",
       "4   0.22*   0.45*  \n",
       "5     0.1    0.29  \n",
       "6    0.2*   0.33*  \n",
       "7    0.11    0.22  \n",
       "8   0.33*   0.47*  \n",
       "9    0.16    0.34  \n",
       "10   0.2*   0.32*  \n",
       "11    0.1    0.22  \n",
       "12   0.12   0.28*  \n",
       "13    0.1    0.21  \n",
       "14  0.18*   0.29*  \n",
       "15   0.03    0.12  "
      ]
     },
     "execution_count": 4,
     "metadata": {},
     "output_type": "execute_result"
    }
   ],
   "source": [
    "benchmarks = [\"MMLU-Pro\", \"GPQA-Diamond\", \"ARC\", \"OpinionQA\", \"GlobalOpinionQA\", \"SIQA\", \"Average\"]\n",
    "\n",
    "table1 = pd.DataFrame(columns=[\"Method\"] + benchmarks)\n",
    "\n",
    "for llm in llms:\n",
    "    for disagree_type in disagree_types:\n",
    "        row = [f\"{llm}_{disagree_type}\"]\n",
    "        for benchmark in benchmarks:\n",
    "            flip_rate = np.mean([int(r['r'] != r['r^org']) for r in dict_results[benchmark][f\"{llm}_{disagree_type}\"]])\n",
    "            row.append(round(flip_rate, 2))\n",
    "        table1.loc[len(table1)] = row\n",
    "\n",
    "# Run paired t-test and annotate _2nd values if significantly smaller\n",
    "for benchmark in benchmarks:\n",
    "    for llm in llms:\n",
    "        values_2nd = np.array([int(r['r'] != r['r^org']) for r in dict_results[benchmark][f\"{llm}_2nd\"]])\n",
    "        values_lst = np.array([int(r['r'] != r['r^org']) for r in dict_results[benchmark][f\"{llm}_lst\"]])\n",
    "    \n",
    "        t_stat, p_val = ttest_rel(values_2nd, values_lst)\n",
    "    \n",
    "        if p_val < 0.05:\n",
    "            table1[benchmark] = table1[benchmark].astype(object)\n",
    "            if np.mean(values_2nd) > np.mean(values_lst):\n",
    "                # If 2nd is significantly smaller, annotate with '*'\n",
    "                original_value = table1.loc[table1[\"Method\"] == f\"{llm}_2nd\", benchmark].tolist()[0]\n",
    "                table1.loc[table1[\"Method\"] == f\"{llm}_2nd\", benchmark] = f\"{original_value}*\"\n",
    "            else:\n",
    "                # If 2nd is significantly larger, annotate with '*'\n",
    "                original_value = table1.loc[table1[\"Method\"] == f\"{llm}_lst\", benchmark].tolist()[0]\n",
    "                table1.loc[table1[\"Method\"] == f\"{llm}_lst\", benchmark] = f\"{original_value}*\"\n",
    "\n",
    "table1"
   ]
  },
  {
   "cell_type": "code",
   "execution_count": 5,
   "metadata": {},
   "outputs": [],
   "source": [
    "with open('../data/GPQA-Diamond/sample_results/one_2nd_llama-3.2-3B.pkl', 'rb') as f:\n",
    "    temp_2nd = pickle.load(f)\n",
    "\n",
    "with open('../data/GPQA-Diamond/sample_results/one_lst_llama-3.2-3B.pkl', 'rb') as f:\n",
    "    temp_lst = pickle.load(f)"
   ]
  },
  {
   "cell_type": "code",
   "execution_count": 7,
   "metadata": {},
   "outputs": [
    {
     "data": {
      "text/plain": [
       "{'question_id': 19,\n",
       " 'category': 'Physics',\n",
       " 'question': 'A common approximation made in many-body nuclear calculations of some interaction (for example an electroweak interaction) is to suppose that nucleons in a nucleus behave in the same way as free nucleons. Which of the following four assumptions jointly imply this \"\"impulse\"\" approximation?\\n\\n1. The interaction current only interacts with individual nucleons.\\n2. The nucleus is transparent apart from the selected nucleon.\\n3. The quarks internal to the selected nucleon are non-relativistic.\\n4. The interaction proceeds as if the selected nucleon experiences no binding forces.',\n",
       " 'options': ['1,2,3', '2,3,4', '1,3,4', '1,2,4'],\n",
       " 'answer': 'D',\n",
       " 'r^org': 'B',\n",
       " 'p_r^org': np.float64(0.5482601189759819),\n",
       " 'topk^org': [('B', np.float64(0.5483)),\n",
       "  ('A', np.float64(0.2935)),\n",
       "  ('D', np.float64(0.0841)),\n",
       "  ('C', np.float64(0.0742))],\n",
       " 'r_j': 'A',\n",
       " 'p_r_j': np.float64(0.2935),\n",
       " 'r': 'B',\n",
       " 'p_r': np.float64(0.4577062127145336),\n",
       " 'topk': [('B', np.float64(0.4577)),\n",
       "  ('A', np.float64(0.4039)),\n",
       "  ('C', np.float64(0.0901)),\n",
       "  ('D', np.float64(0.0482))]}"
      ]
     },
     "execution_count": 7,
     "metadata": {},
     "output_type": "execute_result"
    }
   ],
   "source": [
    "temp_2nd[6]"
   ]
  },
  {
   "cell_type": "markdown",
   "metadata": {},
   "source": [
    "# DUMP"
   ]
  },
  {
   "cell_type": "markdown",
   "metadata": {},
   "source": [
    "## ETHICS"
   ]
  },
  {
   "cell_type": "code",
   "execution_count": null,
   "metadata": {},
   "outputs": [],
   "source": [
    "df_raw = pd.read_csv('../data/ETHICS/raw/cm_test.csv')"
   ]
  },
  {
   "cell_type": "code",
   "execution_count": null,
   "metadata": {},
   "outputs": [],
   "source": [
    "ethics_full = []\n",
    "for i, row in df_raw.iterrows():\n",
    "    input_ele = {}\n",
    "    input_ele['question_id'] = i\n",
    "    input_ele['question'] = \"Question: Would most people believe this reasonable or unreasonable to say?\\n\" + row['input'] \n",
    "    choices = ['reasonable', 'unreasonable']\n",
    "    random.Random(i).shuffle(choices)\n",
    "    input_ele['options'] = choices\n",
    "    label = row['label']\n",
    "    label_text = ['reasonable', 'unreasonable'][label]\n",
    "    true_label = choices.index(label_text)\n",
    "    answer = 'AB'[true_label]\n",
    "    input_ele['answer'] = answer\n",
    "\n",
    "    ethics_full.append(input_ele)"
   ]
  },
  {
   "cell_type": "code",
   "execution_count": null,
   "metadata": {},
   "outputs": [
    {
     "name": "stdout",
     "output_type": "stream",
     "text": [
      "total number of questions in ETHICS: 3885\n"
     ]
    },
    {
     "name": "stderr",
     "output_type": "stream",
     "text": [
      "Processing QA: 100%|██████████| 3885/3885 [01:20<00:00, 48.15it/s]\n"
     ]
    }
   ],
   "source": [
    "with open('../data/ETHICS/results/full.pkl', 'wb') as f:\n",
    "    pickle.dump(ethics_full, f)\n",
    "\n",
    "print(\"total number of questions in ETHICS:\", len(ethics_full))\n",
    "\n",
    "res_org = qa.qa_eval_org(ethics_full)\n",
    "\n",
    "with open('../data/ETHICS/results/org.pkl', 'wb') as f:\n",
    "    pickle.dump(res_org, f)"
   ]
  },
  {
   "cell_type": "code",
   "execution_count": null,
   "metadata": {},
   "outputs": [
    {
     "name": "stderr",
     "output_type": "stream",
     "text": [
      "Processing QA: 100%|██████████| 3885/3885 [01:01<00:00, 62.89it/s] \n",
      "Processing QA: 100%|██████████| 3885/3885 [00:55<00:00, 70.63it/s] \n",
      "Processing QA: 100%|██████████| 3885/3885 [00:58<00:00, 66.36it/s] \n",
      "Processing QA: 100%|██████████| 3885/3885 [01:08<00:00, 56.37it/s]\n"
     ]
    }
   ],
   "source": [
    "with open('../data/ETHICS/results/org.pkl', 'rb') as f:\n",
    "    res_org = pickle.load(f)\n",
    "\n",
    "type_names = ['1st', '2nd', 'rnd', 'lst']\n",
    "\n",
    "for disagree_type in type_names:\n",
    "    results = qa.qa_eval_one(res_org, disagree_type)\n",
    "    with open(f'../data/ETHICS/results/one_{disagree_type}.pkl', 'wb') as f:\n",
    "        pickle.dump(results, f)"
   ]
  },
  {
   "cell_type": "markdown",
   "metadata": {},
   "source": []
  }
 ],
 "metadata": {
  "kernelspec": {
   "display_name": "herd_behavior",
   "language": "python",
   "name": "python3"
  },
  "language_info": {
   "codemirror_mode": {
    "name": "ipython",
    "version": 3
   },
   "file_extension": ".py",
   "mimetype": "text/x-python",
   "name": "python",
   "nbconvert_exporter": "python",
   "pygments_lexer": "ipython3",
   "version": "3.11.11"
  }
 },
 "nbformat": 4,
 "nbformat_minor": 2
}
