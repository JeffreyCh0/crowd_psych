{
 "cells": [
  {
   "cell_type": "code",
   "execution_count": 4,
   "metadata": {},
   "outputs": [],
   "source": [
    "import importlib\n",
    "import sys\n",
    "sys.path.append('../src')\n",
    "\n",
    "import qa\n",
    "importlib.reload(qa)\n",
    "import qa\n",
    "from qa import QA\n",
    "\n",
    "import pickle"
   ]
  },
  {
   "cell_type": "code",
   "execution_count": 2,
   "metadata": {},
   "outputs": [],
   "source": [
    "# from datasets import load_dataset\n",
    "\n",
    "# ds = load_dataset(\"TIGER-Lab/MMLU-Pro\")\n",
    "\n",
    "# mmlu = {}\n",
    "# for ele in ds['test']:\n",
    "#     if ele['category'] not in mmlu:\n",
    "#         mmlu[ele['category']] = []\n",
    "#     mmlu[ele['category']].append(ele)\n",
    "\n",
    "# import random\n",
    "\n",
    "# mmlu_samples = []\n",
    "# for cat in mmlu:\n",
    "#     mmlu_samples.extend(random.Random(0).sample(mmlu[cat], 10))\n",
    "\n",
    "# with open('../data/mmlu_samples_140.pkl', 'wb') as f:\n",
    "#     pickle.dump(mmlu_samples, f)\n",
    "\n",
    "with open('../data/mmlu_samples_140.pkl', 'rb') as f:\n",
    "    mmlu_samples = pickle.load(f)"
   ]
  },
  {
   "cell_type": "code",
   "execution_count": null,
   "metadata": {},
   "outputs": [
    {
     "name": "stderr",
     "output_type": "stream",
     "text": [
      "Processing MMLU: 100%|██████████| 140/140 [00:00<00:00, 1205754.74it/s]"
     ]
    },
    {
     "name": "stdout",
     "output_type": "stream",
     "text": [
      "Eval Type:grp, #Agree: 0, #Disagree: 0, Disagree Type: 2nd, Accuracy: 0.457\n"
     ]
    },
    {
     "name": "stderr",
     "output_type": "stream",
     "text": [
      "\n",
      "Processing MMLU: 100%|██████████| 140/140 [00:00<00:00, 1007208.51it/s]"
     ]
    },
    {
     "name": "stdout",
     "output_type": "stream",
     "text": [
      "Eval Type:grp, #Agree: 0, #Disagree: 1, Disagree Type: 2nd, Accuracy: 0.386\n"
     ]
    },
    {
     "name": "stderr",
     "output_type": "stream",
     "text": [
      "\n",
      "Processing MMLU: 100%|██████████| 140/140 [00:00<00:00, 583700.36it/s]"
     ]
    },
    {
     "name": "stdout",
     "output_type": "stream",
     "text": [
      "Eval Type:grp, #Agree: 0, #Disagree: 2, Disagree Type: 2nd, Accuracy: 0.371\n"
     ]
    },
    {
     "name": "stderr",
     "output_type": "stream",
     "text": [
      "\n",
      "Processing MMLU: 100%|██████████| 140/140 [00:00<00:00, 1103764.21it/s]"
     ]
    },
    {
     "name": "stdout",
     "output_type": "stream",
     "text": [
      "Eval Type:grp, #Agree: 0, #Disagree: 3, Disagree Type: 2nd, Accuracy: 0.371\n"
     ]
    },
    {
     "name": "stderr",
     "output_type": "stream",
     "text": [
      "\n",
      "Processing MMLU: 100%|██████████| 140/140 [00:00<00:00, 1398101.33it/s]"
     ]
    },
    {
     "name": "stdout",
     "output_type": "stream",
     "text": [
      "Eval Type:grp, #Agree: 0, #Disagree: 4, Disagree Type: 2nd, Accuracy: 0.364\n"
     ]
    },
    {
     "name": "stderr",
     "output_type": "stream",
     "text": [
      "\n",
      "Processing MMLU: 100%|██████████| 140/140 [00:00<00:00, 1706984.19it/s]"
     ]
    },
    {
     "name": "stdout",
     "output_type": "stream",
     "text": [
      "Eval Type:grp, #Agree: 1, #Disagree: 0, Disagree Type: 2nd, Accuracy: 0.464\n"
     ]
    },
    {
     "name": "stderr",
     "output_type": "stream",
     "text": [
      "\n",
      "Processing MMLU: 100%|██████████| 140/140 [00:00<00:00, 980304.77it/s]"
     ]
    },
    {
     "name": "stdout",
     "output_type": "stream",
     "text": [
      "Eval Type:grp, #Agree: 1, #Disagree: 1, Disagree Type: 2nd, Accuracy: 0.479\n"
     ]
    },
    {
     "name": "stderr",
     "output_type": "stream",
     "text": [
      "\n",
      "Processing MMLU: 100%|██████████| 140/140 [00:00<00:00, 1727066.35it/s]"
     ]
    },
    {
     "name": "stdout",
     "output_type": "stream",
     "text": [
      "Eval Type:grp, #Agree: 1, #Disagree: 2, Disagree Type: 2nd, Accuracy: 0.457\n"
     ]
    },
    {
     "name": "stderr",
     "output_type": "stream",
     "text": [
      "\n",
      "Processing MMLU: 100%|██████████| 140/140 [00:00<00:00, 1384911.70it/s]"
     ]
    },
    {
     "name": "stdout",
     "output_type": "stream",
     "text": [
      "Eval Type:grp, #Agree: 1, #Disagree: 3, Disagree Type: 2nd, Accuracy: 0.457\n"
     ]
    },
    {
     "name": "stderr",
     "output_type": "stream",
     "text": [
      "\n",
      "Processing MMLU: 100%|██████████| 140/140 [00:00<00:00, 1687363.68it/s]"
     ]
    },
    {
     "name": "stdout",
     "output_type": "stream",
     "text": [
      "Eval Type:grp, #Agree: 1, #Disagree: 4, Disagree Type: 2nd, Accuracy: 0.471\n"
     ]
    },
    {
     "name": "stderr",
     "output_type": "stream",
     "text": [
      "\n",
      "Processing MMLU: 100%|██████████| 140/140 [00:00<00:00, 1727066.35it/s]"
     ]
    },
    {
     "name": "stdout",
     "output_type": "stream",
     "text": [
      "Eval Type:grp, #Agree: 2, #Disagree: 0, Disagree Type: 2nd, Accuracy: 0.464\n"
     ]
    },
    {
     "name": "stderr",
     "output_type": "stream",
     "text": [
      "\n",
      "Processing MMLU: 100%|██████████| 140/140 [00:00<00:00, 1401438.09it/s]"
     ]
    },
    {
     "name": "stdout",
     "output_type": "stream",
     "text": [
      "Eval Type:grp, #Agree: 2, #Disagree: 1, Disagree Type: 2nd, Accuracy: 0.464\n"
     ]
    },
    {
     "name": "stderr",
     "output_type": "stream",
     "text": [
      "\n",
      "Processing MMLU: 100%|██████████| 140/140 [00:00<00:00, 1414945.93it/s]"
     ]
    },
    {
     "name": "stdout",
     "output_type": "stream",
     "text": [
      "Eval Type:grp, #Agree: 2, #Disagree: 2, Disagree Type: 2nd, Accuracy: 0.464\n"
     ]
    },
    {
     "name": "stderr",
     "output_type": "stream",
     "text": [
      "\n",
      "Processing MMLU: 100%|██████████| 140/140 [00:00<00:00, 538717.94it/s]"
     ]
    },
    {
     "name": "stdout",
     "output_type": "stream",
     "text": [
      "Eval Type:grp, #Agree: 2, #Disagree: 3, Disagree Type: 2nd, Accuracy: 0.457\n"
     ]
    },
    {
     "name": "stderr",
     "output_type": "stream",
     "text": [
      "\n",
      "Processing MMLU: 100%|██████████| 140/140 [00:00<00:00, 1553445.93it/s]"
     ]
    },
    {
     "name": "stdout",
     "output_type": "stream",
     "text": [
      "Eval Type:grp, #Agree: 2, #Disagree: 4, Disagree Type: 2nd, Accuracy: 0.464\n"
     ]
    },
    {
     "name": "stderr",
     "output_type": "stream",
     "text": [
      "\n",
      "Processing MMLU: 100%|██████████| 140/140 [00:00<00:00, 1238823.97it/s]"
     ]
    },
    {
     "name": "stdout",
     "output_type": "stream",
     "text": [
      "Eval Type:grp, #Agree: 3, #Disagree: 0, Disagree Type: 2nd, Accuracy: 0.464\n"
     ]
    },
    {
     "name": "stderr",
     "output_type": "stream",
     "text": [
      "\n",
      "Processing MMLU: 100%|██████████| 140/140 [00:00<00:00, 1505647.59it/s]"
     ]
    },
    {
     "name": "stdout",
     "output_type": "stream",
     "text": [
      "Eval Type:grp, #Agree: 3, #Disagree: 1, Disagree Type: 2nd, Accuracy: 0.457\n"
     ]
    },
    {
     "name": "stderr",
     "output_type": "stream",
     "text": [
      "\n",
      "Processing MMLU: 100%|██████████| 140/140 [00:00<00:00, 985239.19it/s]"
     ]
    },
    {
     "name": "stdout",
     "output_type": "stream",
     "text": [
      "Eval Type:grp, #Agree: 3, #Disagree: 2, Disagree Type: 2nd, Accuracy: 0.45\n"
     ]
    },
    {
     "name": "stderr",
     "output_type": "stream",
     "text": [
      "\n",
      "Processing MMLU: 100%|██████████| 140/140 [00:00<00:00, 1706984.19it/s]"
     ]
    },
    {
     "name": "stdout",
     "output_type": "stream",
     "text": [
      "Eval Type:grp, #Agree: 3, #Disagree: 3, Disagree Type: 2nd, Accuracy: 0.471\n"
     ]
    },
    {
     "name": "stderr",
     "output_type": "stream",
     "text": [
      "\n",
      "Processing MMLU: 100%|██████████| 140/140 [00:00<00:00, 1574269.60it/s]"
     ]
    },
    {
     "name": "stdout",
     "output_type": "stream",
     "text": [
      "Eval Type:grp, #Agree: 3, #Disagree: 4, Disagree Type: 2nd, Accuracy: 0.479\n"
     ]
    },
    {
     "name": "stderr",
     "output_type": "stream",
     "text": [
      "\n",
      "Processing MMLU: 100%|██████████| 140/140 [00:00<00:00, 1490361.83it/s]"
     ]
    },
    {
     "name": "stdout",
     "output_type": "stream",
     "text": [
      "Eval Type:grp, #Agree: 4, #Disagree: 0, Disagree Type: 2nd, Accuracy: 0.464\n"
     ]
    },
    {
     "name": "stderr",
     "output_type": "stream",
     "text": [
      "\n",
      "Processing MMLU: 100%|██████████| 140/140 [00:00<00:00, 744236.45it/s]"
     ]
    },
    {
     "name": "stdout",
     "output_type": "stream",
     "text": [
      "Eval Type:grp, #Agree: 4, #Disagree: 1, Disagree Type: 2nd, Accuracy: 0.457\n"
     ]
    },
    {
     "name": "stderr",
     "output_type": "stream",
     "text": [
      "\n",
      "Processing MMLU: 100%|██████████| 140/140 [00:00<00:00, 1457078.31it/s]"
     ]
    },
    {
     "name": "stdout",
     "output_type": "stream",
     "text": [
      "Eval Type:grp, #Agree: 4, #Disagree: 2, Disagree Type: 2nd, Accuracy: 0.457\n"
     ]
    },
    {
     "name": "stderr",
     "output_type": "stream",
     "text": [
      "\n",
      "Processing MMLU: 100%|██████████| 140/140 [00:00<00:00, 1075462.56it/s]"
     ]
    },
    {
     "name": "stdout",
     "output_type": "stream",
     "text": [
      "Eval Type:grp, #Agree: 4, #Disagree: 3, Disagree Type: 2nd, Accuracy: 0.45\n"
     ]
    },
    {
     "name": "stderr",
     "output_type": "stream",
     "text": [
      "\n",
      "Processing MMLU: 100%|██████████| 140/140 [00:00<00:00, 2053155.80it/s]"
     ]
    },
    {
     "name": "stdout",
     "output_type": "stream",
     "text": [
      "Eval Type:grp, #Agree: 4, #Disagree: 4, Disagree Type: 2nd, Accuracy: 0.457\n"
     ]
    },
    {
     "name": "stderr",
     "output_type": "stream",
     "text": [
      "\n"
     ]
    }
   ],
   "source": [
    "with open('../data/res_mmlu_org.pkl', 'rb') as f:\n",
    "    res_mmlu_org = pickle.load(f)\n",
    "\n",
    "\n",
    "for agree_size in [0,1,2,3,4]:\n",
    "    for disagree_size in [0,1,2,3,4]:\n",
    "        eval_feat = {\n",
    "            'type': 'grp',\n",
    "            'agree_size': agree_size,\n",
    "            'disagree_size': disagree_size,\n",
    "            'disagree_type': '2nd',\n",
    "        }\n",
    "\n",
    "        res_mmlu_grp_2nd = qa.mmlu_eval(res_mmlu_org, eval_feat)\n"
   ]
  },
  {
   "cell_type": "code",
   "execution_count": null,
   "metadata": {},
   "outputs": [],
   "source": []
  }
 ],
 "metadata": {
  "kernelspec": {
   "display_name": "crowd_psych",
   "language": "python",
   "name": "python3"
  },
  "language_info": {
   "codemirror_mode": {
    "name": "ipython",
    "version": 3
   },
   "file_extension": ".py",
   "mimetype": "text/x-python",
   "name": "python",
   "nbconvert_exporter": "python",
   "pygments_lexer": "ipython3",
   "version": "3.11.11"
  }
 },
 "nbformat": 4,
 "nbformat_minor": 2
}
