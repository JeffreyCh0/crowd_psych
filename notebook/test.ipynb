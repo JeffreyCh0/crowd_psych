{
 "cells": [
  {
   "cell_type": "code",
   "execution_count": 25,
   "metadata": {},
   "outputs": [],
   "source": [
    "import importlib\n",
    "import sys\n",
    "sys.path.append('../src')\n",
    "\n",
    "import qa\n",
    "importlib.reload(qa)\n",
    "import qa\n",
    "from qa import QA\n",
    "\n",
    "import pickle"
   ]
  },
  {
   "cell_type": "code",
   "execution_count": 2,
   "metadata": {},
   "outputs": [],
   "source": [
    "# from datasets import load_dataset\n",
    "\n",
    "# ds = load_dataset(\"TIGER-Lab/MMLU-Pro\")\n",
    "\n",
    "# mmlu = {}\n",
    "# for ele in ds['test']:\n",
    "#     if ele['category'] not in mmlu:\n",
    "#         mmlu[ele['category']] = []\n",
    "#     mmlu[ele['category']].append(ele)\n",
    "\n",
    "# import random\n",
    "\n",
    "# mmlu_samples = []\n",
    "# for cat in mmlu:\n",
    "#     mmlu_samples.extend(random.Random(0).sample(mmlu[cat], 10))\n",
    "\n",
    "# with open('../data/mmlu_samples_140.pkl', 'wb') as f:\n",
    "#     pickle.dump(mmlu_samples, f)\n",
    "\n",
    "with open('../data/mmlu_samples_140.pkl', 'rb') as f:\n",
    "    mmlu_samples = pickle.load(f)"
   ]
  },
  {
   "cell_type": "code",
   "execution_count": null,
   "metadata": {},
   "outputs": [
    {
     "name": "stderr",
     "output_type": "stream",
     "text": [
      "Processing MMLU: 100%|██████████| 140/140 [00:11<00:00, 11.78it/s]"
     ]
    },
    {
     "name": "stdout",
     "output_type": "stream",
     "text": [
      "0.436\n"
     ]
    },
    {
     "name": "stderr",
     "output_type": "stream",
     "text": [
      "\n"
     ]
    }
   ],
   "source": [
    "with open('../data/res_mmlu_org.pkl', 'rb') as f:\n",
    "    res_mmlu_org = pickle.load(f)\n",
    "\n",
    "\n",
    "for agree_size in [0,1,2,3,4]:\n",
    "    for disagree_size in [0,1,2,3,4]:\n",
    "        eval_feat = {\n",
    "            'type': 'grp',\n",
    "            'agree_size': 1,\n",
    "            'disagree_size': 1,\n",
    "            'disagree_type': '2nd',\n",
    "        }\n",
    "\n",
    "        res_mmlu_grp_2nd = qa.mmlu_eval(res_mmlu_org, eval_feat)\n"
   ]
  }
 ],
 "metadata": {
  "kernelspec": {
   "display_name": "crowd_psych",
   "language": "python",
   "name": "python3"
  },
  "language_info": {
   "codemirror_mode": {
    "name": "ipython",
    "version": 3
   },
   "file_extension": ".py",
   "mimetype": "text/x-python",
   "name": "python",
   "nbconvert_exporter": "python",
   "pygments_lexer": "ipython3",
   "version": "3.11.11"
  }
 },
 "nbformat": 4,
 "nbformat_minor": 2
}
