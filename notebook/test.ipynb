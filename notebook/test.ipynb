{
 "cells": [
  {
   "cell_type": "code",
   "execution_count": null,
   "metadata": {},
   "outputs": [],
   "source": [
    "import importlib\n",
    "import sys\n",
    "sys.path.append('../src')\n",
    "\n",
    "from qa import QA"
   ]
  },
  {
   "cell_type": "code",
   "execution_count": 2,
   "metadata": {},
   "outputs": [],
   "source": [
    "from datasets import load_dataset\n",
    "\n",
    "ds = load_dataset(\"TIGER-Lab/MMLU-Pro\")"
   ]
  },
  {
   "cell_type": "code",
   "execution_count": 41,
   "metadata": {},
   "outputs": [
    {
     "data": {
      "text/plain": [
       "12032"
      ]
     },
     "execution_count": 41,
     "metadata": {},
     "output_type": "execute_result"
    }
   ],
   "source": [
    "len(ds['test'])"
   ]
  },
  {
   "cell_type": "code",
   "execution_count": 40,
   "metadata": {},
   "outputs": [
    {
     "data": {
      "text/plain": [
       "('G',\n",
       " np.float64(0.48510467857306866),\n",
       " [('G', np.float64(0.4851)),\n",
       "  ('H', np.float64(0.3334)),\n",
       "  ('I', np.float64(0.1785)),\n",
       "  ('B', np.float64(0.0011)),\n",
       "  ('D', np.float64(0.0006)),\n",
       "  ('A', np.float64(0.0005)),\n",
       "  ('E', np.float64(0.0004)),\n",
       "  ('F', np.float64(0.0003)),\n",
       "  ('C', np.float64(0.0001))])"
      ]
     },
     "execution_count": 40,
     "metadata": {},
     "output_type": "execute_result"
    }
   ],
   "source": [
    "import qa\n",
    "importlib.reload(qa)\n",
    "import qa\n",
    "from qa import QA\n",
    "\n",
    "question = ds['test'][0]['question'] + \"I think the answer is G.\"\n",
    "\n",
    "choices = ds['test'][0]['options']\n",
    "\n",
    "QA(question, choices)"
   ]
  },
  {
   "cell_type": "code",
   "execution_count": null,
   "metadata": {},
   "outputs": [],
   "source": []
  }
 ],
 "metadata": {
  "kernelspec": {
   "display_name": "crowd_psych",
   "language": "python",
   "name": "python3"
  },
  "language_info": {
   "codemirror_mode": {
    "name": "ipython",
    "version": 3
   },
   "file_extension": ".py",
   "mimetype": "text/x-python",
   "name": "python",
   "nbconvert_exporter": "python",
   "pygments_lexer": "ipython3",
   "version": "3.11.11"
  }
 },
 "nbformat": 4,
 "nbformat_minor": 2
}
