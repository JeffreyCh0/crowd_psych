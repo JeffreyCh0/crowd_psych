{
 "cells": [
  {
   "cell_type": "code",
   "execution_count": 4,
   "metadata": {},
   "outputs": [],
   "source": [
    "import importlib\n",
    "import sys\n",
    "sys.path.append('../src')\n",
    "\n",
    "import qa\n",
    "importlib.reload(qa)\n",
    "import qa\n",
    "from qa import QA\n",
    "\n",
    "import pickle"
   ]
  },
  {
   "cell_type": "code",
   "execution_count": 2,
   "metadata": {},
   "outputs": [],
   "source": [
    "# from datasets import load_dataset\n",
    "\n",
    "# ds = load_dataset(\"TIGER-Lab/MMLU-Pro\")\n",
    "\n",
    "# mmlu = {}\n",
    "# for ele in ds['test']:\n",
    "#     if ele['category'] not in mmlu:\n",
    "#         mmlu[ele['category']] = []\n",
    "#     mmlu[ele['category']].append(ele)\n",
    "\n",
    "# import random\n",
    "\n",
    "# mmlu_samples = []\n",
    "# for cat in mmlu:\n",
    "#     mmlu_samples.extend(random.Random(0).sample(mmlu[cat], 10))\n",
    "\n",
    "# with open('../data/mmlu_samples_140.pkl', 'wb') as f:\n",
    "#     pickle.dump(mmlu_samples, f)\n",
    "\n",
    "with open('../data/mmlu_samples_140.pkl', 'rb') as f:\n",
    "    mmlu_samples = pickle.load(f)"
   ]
  },
  {
   "cell_type": "code",
   "execution_count": null,
   "metadata": {},
   "outputs": [
    {
     "name": "stderr",
     "output_type": "stream",
     "text": [
      "Processing MMLU: 100%|██████████| 140/140 [00:10<00:00, 13.34it/s]\n"
     ]
    },
    {
     "data": {
      "text/plain": [
       "0.4642857142857143"
      ]
     },
     "execution_count": 74,
     "metadata": {},
     "output_type": "execute_result"
    }
   ],
   "source": [
    "# res_mmlu_org = qa.mmlu_eval(mmlu_samples)\n",
    "# sum([x['answer'] == x['r_org'] for x in res_mmlu_org])/len(res_mmlu_org)\n",
    "\n",
    "# with open('../data/res_mmlu_org.pkl', 'wb') as f:\n",
    "#     pickle.dump(res_mmlu_org, f)"
   ]
  },
  {
   "cell_type": "code",
   "execution_count": 5,
   "metadata": {},
   "outputs": [
    {
     "name": "stdout",
     "output_type": "stream",
     "text": [
      "qa\n"
     ]
    },
    {
     "ename": "ValueError",
     "evalue": "This function should be called from the main script.",
     "output_type": "error",
     "traceback": [
      "\u001b[0;31m---------------------------------------------------------------------------\u001b[0m",
      "\u001b[0;31mValueError\u001b[0m                                Traceback (most recent call last)",
      "Cell \u001b[0;32mIn[5], line 4\u001b[0m\n\u001b[1;32m      1\u001b[0m \u001b[38;5;28;01mwith\u001b[39;00m \u001b[38;5;28mopen\u001b[39m(\u001b[38;5;124m'\u001b[39m\u001b[38;5;124m../data/res_mmlu_org.pkl\u001b[39m\u001b[38;5;124m'\u001b[39m, \u001b[38;5;124m'\u001b[39m\u001b[38;5;124mrb\u001b[39m\u001b[38;5;124m'\u001b[39m) \u001b[38;5;28;01mas\u001b[39;00m f:\n\u001b[1;32m      2\u001b[0m     res_mmlu_org \u001b[38;5;241m=\u001b[39m pickle\u001b[38;5;241m.\u001b[39mload(f)\n\u001b[0;32m----> 4\u001b[0m res_mmlu_one_rnd \u001b[38;5;241m=\u001b[39m qa\u001b[38;5;241m.\u001b[39mmmlu_eval(res_mmlu_org, \u001b[38;5;124m\"\u001b[39m\u001b[38;5;124mone_rnd\u001b[39m\u001b[38;5;124m\"\u001b[39m)\n\u001b[1;32m      5\u001b[0m \u001b[38;5;28msum\u001b[39m([x[\u001b[38;5;124m'\u001b[39m\u001b[38;5;124manswer\u001b[39m\u001b[38;5;124m'\u001b[39m] \u001b[38;5;241m==\u001b[39m x[\u001b[38;5;124m'\u001b[39m\u001b[38;5;124mr_org\u001b[39m\u001b[38;5;124m'\u001b[39m] \u001b[38;5;28;01mfor\u001b[39;00m x \u001b[38;5;129;01min\u001b[39;00m res_mmlu_one_rnd])\u001b[38;5;241m/\u001b[39m\u001b[38;5;28mlen\u001b[39m(res_mmlu_one_rnd)\n\u001b[1;32m      7\u001b[0m \u001b[38;5;28;01mwith\u001b[39;00m \u001b[38;5;28mopen\u001b[39m(\u001b[38;5;124m'\u001b[39m\u001b[38;5;124m../data/res_mmlu_one_rnd.pkl\u001b[39m\u001b[38;5;124m'\u001b[39m, \u001b[38;5;124m'\u001b[39m\u001b[38;5;124mwb\u001b[39m\u001b[38;5;124m'\u001b[39m) \u001b[38;5;28;01mas\u001b[39;00m f:\n",
      "File \u001b[0;32m~/Desktop/projects/on_the_table/crowd_psych/notebook/../src/qa.py:91\u001b[0m, in \u001b[0;36mmmlu_eval\u001b[0;34m(mmlu_samples, eval_type, num_workers)\u001b[0m\n\u001b[1;32m      0\u001b[0m <Error retrieving source code with stack_data see ipython/ipython#13598>\n",
      "\u001b[0;31mValueError\u001b[0m: This function should be called from the main script."
     ]
    }
   ],
   "source": [
    "with open('../data/res_mmlu_org.pkl', 'rb') as f:\n",
    "    res_mmlu_org = pickle.load(f)\n",
    "\n",
    "res_mmlu_one_rnd = qa.mmlu_eval(res_mmlu_org, \"one_rnd\")\n",
    "sum([x['answer'] == x['r_org'] for x in res_mmlu_one_rnd])/len(res_mmlu_one_rnd)\n",
    "\n",
    "with open('../data/res_mmlu_one_rnd.pkl', 'wb') as f:\n",
    "    pickle.dump(res_mmlu_one_rnd, f)"
   ]
  },
  {
   "cell_type": "code",
   "execution_count": null,
   "metadata": {},
   "outputs": [],
   "source": [
    "import pickle\n",
    "\n"
   ]
  },
  {
   "cell_type": "code",
   "execution_count": 88,
   "metadata": {},
   "outputs": [
    {
     "data": {
      "text/plain": [
       "{'question_id': 468,\n",
       " 'question': 'On October 25 RalphMuffetaccepted a draft for $620 that was dated October 10 and due 3 months after sight. It was discounted on November 16 at 4 (1/2)%. The bank charges (1/8)% collection fee. Find the proceeds of the draft.',\n",
       " 'options': ['$625.00',\n",
       "  '$608.90',\n",
       "  '$613.79',\n",
       "  '$600.25',\n",
       "  '$620.00',\n",
       "  '$615.50',\n",
       "  '$5.43',\n",
       "  '$618.47',\n",
       "  '$610.33',\n",
       "  '$0.78'],\n",
       " 'answer': 'C',\n",
       " 'answer_index': 2,\n",
       " 'cot_content': '',\n",
       " 'category': 'business',\n",
       " 'src': 'stemez-Business',\n",
       " 'r': 'C',\n",
       " 'p_r': np.float64(0.866199836445556),\n",
       " 'topk': [('C', np.float64(0.8662)),\n",
       "  ('B', np.float64(0.1035)),\n",
       "  ('H', np.float64(0.0204)),\n",
       "  ('D', np.float64(0.0058)),\n",
       "  ('I', np.float64(0.0028)),\n",
       "  ('E', np.float64(0.0005)),\n",
       "  ('A', np.float64(0.0004)),\n",
       "  ('F', np.float64(0.0003)),\n",
       "  ('G', np.float64(0.0001)),\n",
       "  ('J', np.float64(0.0))]}"
      ]
     },
     "execution_count": 88,
     "metadata": {},
     "output_type": "execute_result"
    }
   ],
   "source": [
    "res_mmlu_org[0]"
   ]
  }
 ],
 "metadata": {
  "kernelspec": {
   "display_name": "crowd_psych",
   "language": "python",
   "name": "python3"
  },
  "language_info": {
   "codemirror_mode": {
    "name": "ipython",
    "version": 3
   },
   "file_extension": ".py",
   "mimetype": "text/x-python",
   "name": "python",
   "nbconvert_exporter": "python",
   "pygments_lexer": "ipython3",
   "version": "3.11.11"
  }
 },
 "nbformat": 4,
 "nbformat_minor": 2
}
