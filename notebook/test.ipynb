{
 "cells": [
  {
   "cell_type": "code",
   "execution_count": 57,
   "metadata": {},
   "outputs": [],
   "source": [
    "import importlib\n",
    "import sys\n",
    "sys.path.append('../src')\n",
    "\n",
    "import qa\n",
    "importlib.reload(qa)\n",
    "import qa\n",
    "from qa import QA"
   ]
  },
  {
   "cell_type": "code",
   "execution_count": 2,
   "metadata": {},
   "outputs": [],
   "source": [
    "from datasets import load_dataset\n",
    "\n",
    "ds = load_dataset(\"TIGER-Lab/MMLU-Pro\")"
   ]
  },
  {
   "cell_type": "code",
   "execution_count": 41,
   "metadata": {},
   "outputs": [
    {
     "data": {
      "text/plain": [
       "12032"
      ]
     },
     "execution_count": 41,
     "metadata": {},
     "output_type": "execute_result"
    }
   ],
   "source": [
    "len(ds['test'])"
   ]
  },
  {
   "cell_type": "code",
   "execution_count": 43,
   "metadata": {},
   "outputs": [],
   "source": [
    "mmlu = {}\n",
    "for ele in ds['test']:\n",
    "    if ele['category'] not in mmlu:\n",
    "        mmlu[ele['category']] = []\n",
    "    mmlu[ele['category']].append(ele)"
   ]
  },
  {
   "cell_type": "code",
   "execution_count": 48,
   "metadata": {},
   "outputs": [],
   "source": [
    "import random\n",
    "\n",
    "mmlu_samples = []\n",
    "for cat in mmlu:\n",
    "    mmlu_samples.extend(random.Random(0).sample(mmlu[cat], 10))"
   ]
  },
  {
   "cell_type": "code",
   "execution_count": 74,
   "metadata": {},
   "outputs": [
    {
     "name": "stderr",
     "output_type": "stream",
     "text": [
      "Processing MMLU: 100%|██████████| 140/140 [00:10<00:00, 13.34it/s]\n"
     ]
    },
    {
     "data": {
      "text/plain": [
       "0.4642857142857143"
      ]
     },
     "execution_count": 74,
     "metadata": {},
     "output_type": "execute_result"
    }
   ],
   "source": [
    "res_mmlu_org = qa.mmlu_eval(mmlu_samples)\n",
    "sum([x['answer'] == x['r_org'] for x in res_mmlu_org])/len(res_mmlu_org)"
   ]
  }
 ],
 "metadata": {
  "kernelspec": {
   "display_name": "crowd_psych",
   "language": "python",
   "name": "python3"
  },
  "language_info": {
   "codemirror_mode": {
    "name": "ipython",
    "version": 3
   },
   "file_extension": ".py",
   "mimetype": "text/x-python",
   "name": "python",
   "nbconvert_exporter": "python",
   "pygments_lexer": "ipython3",
   "version": "3.11.11"
  }
 },
 "nbformat": 4,
 "nbformat_minor": 2
}
