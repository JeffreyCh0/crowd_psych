{
 "cells": [
  {
   "cell_type": "code",
   "execution_count": 1,
   "metadata": {},
   "outputs": [],
   "source": [
    "import importlib\n",
    "import sys\n",
    "sys.path.append('../src')\n",
    "\n",
    "import qa\n",
    "importlib.reload(qa)\n",
    "import qa\n",
    "from qa import QA\n",
    "\n",
    "import pickle"
   ]
  },
  {
   "cell_type": "code",
   "execution_count": 2,
   "metadata": {},
   "outputs": [],
   "source": [
    "# from datasets import load_dataset\n",
    "\n",
    "# ds = load_dataset(\"TIGER-Lab/MMLU-Pro\")\n",
    "\n",
    "# mmlu = {}\n",
    "# for ele in ds['test']:\n",
    "#     if ele['category'] not in mmlu:\n",
    "#         mmlu[ele['category']] = []\n",
    "#     mmlu[ele['category']].append(ele)\n",
    "\n",
    "# import random\n",
    "\n",
    "# mmlu_samples = []\n",
    "# for cat in mmlu:\n",
    "#     mmlu_samples.extend(random.Random(0).sample(mmlu[cat], 10))\n",
    "\n",
    "# with open('../data/mmlu_samples_140.pkl', 'wb') as f:\n",
    "#     pickle.dump(mmlu_samples, f)\n",
    "\n",
    "with open('../data/mmlu_samples_140.pkl', 'rb') as f:\n",
    "    mmlu_samples = pickle.load(f)"
   ]
  },
  {
   "cell_type": "code",
   "execution_count": null,
   "metadata": {},
   "outputs": [
    {
     "name": "stderr",
     "output_type": "stream",
     "text": [
      "Processing MMLU: 100%|██████████| 140/140 [00:00<00:00, 828212.36it/s]"
     ]
    },
    {
     "name": "stdout",
     "output_type": "stream",
     "text": [
      "Eval Type:grp, #Agree: 0, #Disagree: 0, Disagree Type: 2nd, Accuracy: 0.45\n"
     ]
    },
    {
     "name": "stderr",
     "output_type": "stream",
     "text": [
      "\n",
      "Processing MMLU: 100%|██████████| 140/140 [00:00<00:00, 1644825.10it/s]"
     ]
    },
    {
     "name": "stdout",
     "output_type": "stream",
     "text": [
      "Eval Type:grp, #Agree: 0, #Disagree: 1, Disagree Type: 2nd, Accuracy: 0.364\n"
     ]
    },
    {
     "name": "stderr",
     "output_type": "stream",
     "text": [
      "\n",
      "Processing MMLU: 100%|██████████| 140/140 [00:00<00:00, 1176758.64it/s]"
     ]
    },
    {
     "name": "stdout",
     "output_type": "stream",
     "text": [
      "Eval Type:grp, #Agree: 0, #Disagree: 2, Disagree Type: 2nd, Accuracy: 0.386\n"
     ]
    },
    {
     "name": "stderr",
     "output_type": "stream",
     "text": [
      "\n",
      "Processing MMLU: 100%|██████████| 140/140 [00:00<00:00, 1174405.12it/s]"
     ]
    },
    {
     "name": "stdout",
     "output_type": "stream",
     "text": [
      "Eval Type:grp, #Agree: 0, #Disagree: 3, Disagree Type: 2nd, Accuracy: 0.371\n"
     ]
    },
    {
     "name": "stderr",
     "output_type": "stream",
     "text": [
      "\n",
      "Processing MMLU: 100%|██████████| 140/140 [00:00<00:00, 1343712.95it/s]"
     ]
    },
    {
     "name": "stdout",
     "output_type": "stream",
     "text": [
      "Eval Type:grp, #Agree: 0, #Disagree: 4, Disagree Type: 2nd, Accuracy: 0.386\n"
     ]
    },
    {
     "name": "stderr",
     "output_type": "stream",
     "text": [
      "\n",
      "Processing MMLU: 100%|██████████| 140/140 [00:00<00:00, 1371968.60it/s]"
     ]
    },
    {
     "name": "stdout",
     "output_type": "stream",
     "text": [
      "Eval Type:grp, #Agree: 1, #Disagree: 0, Disagree Type: 2nd, Accuracy: 0.464\n"
     ]
    },
    {
     "name": "stderr",
     "output_type": "stream",
     "text": [
      "\n",
      "Processing MMLU: 100%|██████████| 140/140 [00:00<00:00, 717851.54it/s]"
     ]
    },
    {
     "name": "stdout",
     "output_type": "stream",
     "text": [
      "Eval Type:grp, #Agree: 1, #Disagree: 1, Disagree Type: 2nd, Accuracy: 0.436\n"
     ]
    },
    {
     "name": "stderr",
     "output_type": "stream",
     "text": [
      "\n",
      "Processing MMLU: 100%|██████████| 140/140 [00:00<00:00, 654629.39it/s]"
     ]
    },
    {
     "name": "stdout",
     "output_type": "stream",
     "text": [
      "Eval Type:grp, #Agree: 1, #Disagree: 2, Disagree Type: 2nd, Accuracy: 0.421\n"
     ]
    },
    {
     "name": "stderr",
     "output_type": "stream",
     "text": [
      "\n",
      "Processing MMLU: 100%|██████████| 140/140 [00:00<00:00, 651000.62it/s]"
     ]
    },
    {
     "name": "stdout",
     "output_type": "stream",
     "text": [
      "Eval Type:grp, #Agree: 1, #Disagree: 3, Disagree Type: 2nd, Accuracy: 0.421\n"
     ]
    },
    {
     "name": "stderr",
     "output_type": "stream",
     "text": [
      "\n",
      "Processing MMLU: 100%|██████████| 140/140 [00:00<00:00, 1591334.85it/s]"
     ]
    },
    {
     "name": "stdout",
     "output_type": "stream",
     "text": [
      "Eval Type:grp, #Agree: 1, #Disagree: 4, Disagree Type: 2nd, Accuracy: 0.436\n"
     ]
    },
    {
     "name": "stderr",
     "output_type": "stream",
     "text": [
      "\n",
      "Processing MMLU: 100%|██████████| 140/140 [00:00<00:00, 1846548.93it/s]"
     ]
    },
    {
     "name": "stdout",
     "output_type": "stream",
     "text": [
      "Eval Type:grp, #Agree: 2, #Disagree: 0, Disagree Type: 2nd, Accuracy: 0.464\n"
     ]
    },
    {
     "name": "stderr",
     "output_type": "stream",
     "text": [
      "\n",
      "Processing MMLU: 100%|██████████| 140/140 [00:00<00:00, 2796202.67it/s]"
     ]
    },
    {
     "name": "stdout",
     "output_type": "stream",
     "text": [
      "Eval Type:grp, #Agree: 2, #Disagree: 1, Disagree Type: 2nd, Accuracy: 0.436\n"
     ]
    },
    {
     "name": "stderr",
     "output_type": "stream",
     "text": [
      "\n",
      "Processing MMLU: 100%|██████████| 140/140 [00:00<00:00, 1475383.32it/s]"
     ]
    },
    {
     "name": "stdout",
     "output_type": "stream",
     "text": [
      "Eval Type:grp, #Agree: 2, #Disagree: 2, Disagree Type: 2nd, Accuracy: 0.436\n"
     ]
    },
    {
     "name": "stderr",
     "output_type": "stream",
     "text": [
      "\n",
      "Processing MMLU: 100%|██████████| 140/140 [00:00<00:00, 429555.64it/s]"
     ]
    },
    {
     "name": "stdout",
     "output_type": "stream",
     "text": [
      "Eval Type:grp, #Agree: 2, #Disagree: 3, Disagree Type: 2nd, Accuracy: 0.421\n"
     ]
    },
    {
     "name": "stderr",
     "output_type": "stream",
     "text": [
      "\n",
      "Processing MMLU: 100%|██████████| 140/140 [00:00<00:00, 1505647.59it/s]"
     ]
    },
    {
     "name": "stdout",
     "output_type": "stream",
     "text": [
      "Eval Type:grp, #Agree: 2, #Disagree: 4, Disagree Type: 2nd, Accuracy: 0.4\n"
     ]
    },
    {
     "name": "stderr",
     "output_type": "stream",
     "text": [
      "\n",
      "Processing MMLU: 100%|██████████| 140/140 [00:00<00:00, 1509518.15it/s]"
     ]
    },
    {
     "name": "stdout",
     "output_type": "stream",
     "text": [
      "Eval Type:grp, #Agree: 3, #Disagree: 0, Disagree Type: 2nd, Accuracy: 0.464\n"
     ]
    },
    {
     "name": "stderr",
     "output_type": "stream",
     "text": [
      "\n",
      "Processing MMLU: 100%|██████████| 140/140 [00:00<00:00, 1970478.39it/s]"
     ]
    },
    {
     "name": "stdout",
     "output_type": "stream",
     "text": [
      "Eval Type:grp, #Agree: 3, #Disagree: 1, Disagree Type: 2nd, Accuracy: 0.443\n"
     ]
    },
    {
     "name": "stderr",
     "output_type": "stream",
     "text": [
      "\n",
      "Processing MMLU: 100%|██████████| 140/140 [00:00<00:00, 1537179.48it/s]"
     ]
    },
    {
     "name": "stdout",
     "output_type": "stream",
     "text": [
      "Eval Type:grp, #Agree: 3, #Disagree: 2, Disagree Type: 2nd, Accuracy: 0.443\n"
     ]
    },
    {
     "name": "stderr",
     "output_type": "stream",
     "text": [
      "\n",
      "Processing MMLU: 100%|██████████| 140/140 [00:00<00:00, 1398101.33it/s]"
     ]
    },
    {
     "name": "stdout",
     "output_type": "stream",
     "text": [
      "Eval Type:grp, #Agree: 3, #Disagree: 3, Disagree Type: 2nd, Accuracy: 0.421\n"
     ]
    },
    {
     "name": "stderr",
     "output_type": "stream",
     "text": [
      "\n",
      "Processing MMLU: 100%|██████████| 140/140 [00:00<00:00, 1706984.19it/s]"
     ]
    },
    {
     "name": "stdout",
     "output_type": "stream",
     "text": [
      "Eval Type:grp, #Agree: 3, #Disagree: 4, Disagree Type: 2nd, Accuracy: 0.414\n"
     ]
    },
    {
     "name": "stderr",
     "output_type": "stream",
     "text": [
      "\n",
      "Processing MMLU: 100%|██████████| 140/140 [00:00<00:00, 1918962.61it/s]"
     ]
    },
    {
     "name": "stdout",
     "output_type": "stream",
     "text": [
      "Eval Type:grp, #Agree: 4, #Disagree: 0, Disagree Type: 2nd, Accuracy: 0.464\n"
     ]
    },
    {
     "name": "stderr",
     "output_type": "stream",
     "text": [
      "\n",
      "Processing MMLU: 100%|██████████| 140/140 [00:00<00:00, 1668189.09it/s]"
     ]
    },
    {
     "name": "stdout",
     "output_type": "stream",
     "text": [
      "Eval Type:grp, #Agree: 4, #Disagree: 1, Disagree Type: 2nd, Accuracy: 0.45\n"
     ]
    },
    {
     "name": "stderr",
     "output_type": "stream",
     "text": [
      "\n",
      "Processing MMLU: 100%|██████████| 140/140 [00:00<00:00, 1846548.93it/s]"
     ]
    },
    {
     "name": "stdout",
     "output_type": "stream",
     "text": [
      "Eval Type:grp, #Agree: 4, #Disagree: 2, Disagree Type: 2nd, Accuracy: 0.443\n"
     ]
    },
    {
     "name": "stderr",
     "output_type": "stream",
     "text": [
      "\n",
      "Processing MMLU: 100%|██████████| 140/140 [00:00<00:00, 1059932.42it/s]"
     ]
    },
    {
     "name": "stdout",
     "output_type": "stream",
     "text": [
      "Eval Type:grp, #Agree: 4, #Disagree: 3, Disagree Type: 2nd, Accuracy: 0.471\n"
     ]
    },
    {
     "name": "stderr",
     "output_type": "stream",
     "text": [
      "\n",
      "Processing MMLU: 100%|██████████| 140/140 [00:00<00:00, 1208235.72it/s]"
     ]
    },
    {
     "name": "stdout",
     "output_type": "stream",
     "text": [
      "Eval Type:grp, #Agree: 4, #Disagree: 4, Disagree Type: 2nd, Accuracy: 0.436\n"
     ]
    },
    {
     "name": "stderr",
     "output_type": "stream",
     "text": [
      "\n"
     ]
    }
   ],
   "source": [
    "with open('../data/res_mmlu_org.pkl', 'rb') as f:\n",
    "    res_mmlu_org = pickle.load(f)\n",
    "\n",
    "\n",
    "for agree_size in [0,1,2,3,4]:\n",
    "    for disagree_size in [0,1,2,3,4]:\n",
    "        eval_feat = {\n",
    "            'type': 'grp',\n",
    "            'agree_size': agree_size,\n",
    "            'disagree_size': disagree_size,\n",
    "            'disagree_type': '2nd',\n",
    "        }\n",
    "\n",
    "        res_mmlu_grp_2nd = qa.mmlu_eval(res_mmlu_org, eval_feat)\n"
   ]
  },
  {
   "cell_type": "code",
   "execution_count": null,
   "metadata": {},
   "outputs": [
    {
     "data": {
      "image/png": "[encoded data removed]",
      "text/plain": [
       "<Figure size 800x600 with 2 Axes>"
      ]
     },
     "metadata": {},
     "output_type": "display_data"
    }
   ],
   "source": [
    "import numpy as np\n",
    "import pandas as pd\n",
    "import matplotlib.pyplot as plt\n",
    "import seaborn as sns\n",
    "\n",
    "# Define the data\n",
    "data = np.array([\n",
    "    [0.457, 0.464, 0.464, 0.464, 0.464],\n",
    "    [0.386, 0.479, 0.464, 0.457, 0.457],\n",
    "    [0.371, 0.457, 0.464, 0.45, 0.457],\n",
    "    [0.371, 0.457, 0.457, 0.471, 0.45],\n",
    "    [0.364, 0.471, 0.464, 0.479, 0.457]\n",
    "])\n",
    "\n",
    "# Define row and column labels\n",
    "row_labels = [\"0\", \"1\", \"2\", \"3\", \"4\"]\n",
    "col_labels = [\"0\", \"1\", \"2\", \"3\", \"4\"]\n",
    "\n",
    "# Create DataFrame\n",
    "df = pd.DataFrame(data, index=row_labels, columns=col_labels)\n",
    "\n",
    "# Plot heatmap\n",
    "plt.figure(figsize=(8, 6))\n",
    "sns.heatmap(df, annot=True, cmap=\"coolwarm\", fmt=\".3f\", linewidths=0.5)\n",
    "plt.xlabel(\"# of Agree\")\n",
    "plt.ylabel(\"# of Disagree\")\n",
    "plt.title(\"Heatmap when Agree is Shown First\")\n",
    "plt.show()"
   ]
  },
  {
   "cell_type": "code",
   "execution_count": 7,
   "metadata": {},
   "outputs": [
    {
     "data": {
      "image/png": "[encoded data removed]",
      "text/plain": [
       "<Figure size 800x600 with 2 Axes>"
      ]
     },
     "metadata": {},
     "output_type": "display_data"
    }
   ],
   "source": [
    "import numpy as np\n",
    "import pandas as pd\n",
    "import matplotlib.pyplot as plt\n",
    "import seaborn as sns\n",
    "\n",
    "# Define the data\n",
    "data = np.array([\n",
    "    [0.45 , 0.464 , 0.464 , 0.464 , 0.464 ],\n",
    "    [0.364 , 0.436 , 0.436 , 0.443 , 0.45 ],\n",
    "    [0.386 , 0.421 , 0.436 , 0.443 , 0.443 ],\n",
    "    [0.371 , 0.421 , 0.421 , 0.421 , 0.471 ],\n",
    "    [0.386 , 0.436 , 0.4 , 0.414 , 0.436 ],\n",
    "])\n",
    "\n",
    "# Define row and column labels\n",
    "row_labels = [\"0\", \"1\", \"2\", \"3\", \"4\"]\n",
    "col_labels = [\"0\", \"1\", \"2\", \"3\", \"4\"]\n",
    "\n",
    "# Create DataFrame\n",
    "df = pd.DataFrame(data, index=row_labels, columns=col_labels)\n",
    "\n",
    "# Plot heatmap\n",
    "plt.figure(figsize=(8, 6))\n",
    "sns.heatmap(df, annot=True, cmap=\"coolwarm\", fmt=\".3f\", linewidths=0.5)\n",
    "plt.xlabel(\"# of Agree\")\n",
    "plt.ylabel(\"# of Disagree\")\n",
    "plt.title(\"Heatmap when Disagree is Shown First\")\n",
    "plt.show()"
   ]
  },
  {
   "cell_type": "code",
   "execution_count": null,
   "metadata": {},
   "outputs": [],
   "source": []
  }
 ],
 "metadata": {
  "kernelspec": {
   "display_name": "crowd_psych",
   "language": "python",
   "name": "python3"
  },
  "language_info": {
   "codemirror_mode": {
    "name": "ipython",
    "version": 3
   },
   "file_extension": ".py",
   "mimetype": "text/x-python",
   "name": "python",
   "nbconvert_exporter": "python",
   "pygments_lexer": "ipython3",
   "version": "3.11.11"
  }
 },
 "nbformat": 4,
 "nbformat_minor": 2
}
